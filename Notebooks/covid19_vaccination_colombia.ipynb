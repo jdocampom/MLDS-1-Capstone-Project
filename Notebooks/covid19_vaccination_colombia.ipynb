{
  "cells": [
    {
      "cell_type": "markdown",
      "metadata": {
        "id": "tw0cjXcz4e1_"
      },
      "source": [
        "<img src=\"notebook_header.png\">"
      ]
    },
    {
      "cell_type": "markdown",
      "metadata": {
        "id": "jeyQ2TZs4e2d"
      },
      "source": [
        "# **Proyecto Aplicado: Avance de la Vacunación contra el COVID-19 en Colombia**\n",
        "---\n",
        "Presentado por:\n",
        "- Juan Diego Ocampo M. (Grupo 6)\n",
        "- Edgar Fernando Vargas (Grupo 4)\n",
        "\n",
        "### **Tabla de Contenidos**\n",
        "---\n",
        "1. [Metodología CRISP-MD (Parte 1): Entendimiento del Negocio] <br>\n",
        "2. [Metodología CRISP-MD (Parte 2): Entendimiento de los Datos] <br>\n",
        "    2.1. [Descargar e Importar Librerías] <br>\n",
        "    2.2. [Importar Datasets] <br>\n",
        "    2.3. [Procesamiento del Dataset sobre Vacunación Mundial] <br>\n",
        "    2.4. [Procesamiento del Dataset sobre Datos Geoespaciales] <br>\n",
        "    2.5. [Combinación de los Datasets] <br>\n",
        "3. [Visualización de los Datos] <br>\n",
        "    3.1. [Correlación entre las Variables] <br>\n",
        "    3.2. [Distribución de los Esquemas de Vacunación] <br>\n",
        "    3.3. [Esquemas de Inmunización por País] <br>\n",
        "    3.4. [Total de Vacunas Aplicadas] <br>\n",
        "    3.5. [Porcentaje de Población Vacunada (al menos una dósis)] <br>\n",
        "    3.6. [Total de Vacunas Aplicadas (Semanal)] <br>\n",
        "    3.7. [Total de Vacunas Diarias Aplicadas por País] <br>\n",
        "4. [Conclusiones] <br>\n",
        "5. [Video de la Presentación] <br>"
      ]
    },
    {
      "cell_type": "markdown",
      "metadata": {
        "id": "xChhrAdU4e2i"
      },
      "source": [
        "## **1. Metodología CRISP-MD (Parte 1): Entendimiento del Negocio**\n",
        "---\n",
        "- La pandemia del COVID-19 ha tenido un impacto devastador a nivel mundial no solo en el ámbito de salud sino también en social y económico. Para el caso de Colombia basta con decir que la crisis ocasionada por el virus ha inducido un retroceso general en la economía de hasta 30 años, puesto que el PIB ha caído alrededor del 6.8% (algo que nunca antes había sucedido en el país) y además ha dejado a su paso más de 3.75 millones de personas en situación de desempleo (1).\n",
        "\n",
        "- La principal esperanza para mitigar estos daños en el 2021 radica en el Plan Nacional de Vacunación (que ha iniciado el pasado 17 de febrero) con cual Colombia se convirtió en el décimo país de Latinoamérica en iniciar su programa de vacunación y con el que se espera inmunizar a 35,2 millones de colombianos a final de año y así lograr la reactivación de la actividad económica.\n",
        "\n",
        "- El objetivo de este trabajo es visualizar la progresión y los resultados del Plan Nacional de Vacunación de Colombia comparado con otros países de Latinoamérica.\n"
      ]
    },
    {
      "cell_type": "markdown",
      "metadata": {
        "id": "rFrkgXZo4e2k"
      },
      "source": [
        "## **2. Metodología CRISP-MD (Parte 2): Entendimiento de los Datos**\n",
        "---\n",
        "\n",
        "Para el desarrollo de este proyecto utilizaremos varios datasets para realizar el procesamiento de datos y visualización sobre los mismos. El primero de estos contiene **datos sobre el progreso diario y acumulado de vacunación contra el COVID-19 en el mundo**, el cual se puede descargar hacienco clic [aquí](https://www.kaggle.com/gpreda/covid-world-vaccination-progress/download).\n",
        "\n",
        "El dataset original puede encontrarse en [Kaggle] (https://www.kaggle.com/gpreda/covid-world-vaccination-progress) junto a su repositorio en [GitHub](https://github.com/owid). Este conjunto de datos contiene las siguientes variables: uede encontrar el *dataset* original en el portal Kaggle. Este conjunto de datos cuenta con las siguientes variables:\n",
        "\n",
        "| **Variable** | **Descripción** |\n",
        "| --- | --- |\n",
        "|**Country**| País para el que se proporciona la información de vacunación. |\n",
        "|**Country ISO Code**| Código ISO del país.|\n",
        "|**Date**| Fecha del registro correspondiente (en algunos casos solo está disponible para los registros de vacunación diarios mientras que en otros casos únicamente para el registro acumulativo). |\n",
        "|**Total number of vaccinations**| Número total de personas vacunadas en el país. |\n",
        "|**Total number of people vaccinated**| Número total de personas que están inmunizadas (hay esquemas de inunización que requieren de más de una dosis por paciente, por lo que el número de vacunaciones puede ser mayor que el número de personas). |\n",
        "|**Total number of people fully vaccinated**| Número de personas que recibieron el conjunto completo de inmunización de acuerdo con el esquema de inmunización.|\n",
        "|**Daily vaccinations (raw)**| Número de personas vacunadas para esa fecha o país (para una determinada entrada de datos).|\n",
        "|**Daily vaccinations**| Número de personas vacunadas en un dia en el país.|\n",
        "|**Total vaccinations per hundred**| Relación (en porcentaje) entre el número de vacunaciones y la población total hasta la fecha en el país.|\n",
        "|**Total number of people vaccinated per hundred**| Relación (en porcentaje) entre la población inmunizada y la población total hasta la fecha en el país.|\n",
        "|**Total number of people fully vaccinated per hundred**| Relación (en porcentaje) entre la población totalmente inmunizada y la población total hasta la fecha en el país.|\n",
        "|**Number of vaccinations per day**| Número de vacunaciones diarias en el país.|\n",
        "|**Daily vaccinations per million**| Relación (en ppm) entre el número de vacunación y la población total para la fecha actual en el país.|\n",
        "|**Vaccines**| Nombre del o de los proovedores de las vacunas para el país.|\n",
        "|**Source name**| Fuente de la información (autoridad nacional, organización internacional, organización local, etc.).|\n",
        "|**Source website**| Sitio web de la fuente de información.|\n"
      ]
    },
    {
      "cell_type": "markdown",
      "metadata": {
        "id": "agyyVBGK4e2n"
      },
      "source": [
        "### 2.1 Descargar e Importar Librerías"
      ]
    },
    {
      "cell_type": "code",
      "execution_count": 1,
      "metadata": {
        "colab": {
          "base_uri": "https://localhost:8080/"
        },
        "id": "F2j-1jIZ4e2p",
        "outputId": "70421fee-4e77-4401-f973-5532a51c36af"
      },
      "outputs": [
        {
          "name": "stdout",
          "output_type": "stream",
          "text": [
            "Requirement already satisfied: numpy in /Users/juandiegoocampo/.pyenv/versions/3.8.7/lib/python3.8/site-packages (from -r requirements.txt (line 1)) (1.20.1)\n",
            "Requirement already satisfied: pandas in /Users/juandiegoocampo/.pyenv/versions/3.8.7/lib/python3.8/site-packages (from -r requirements.txt (line 2)) (1.2.3)\n",
            "Requirement already satisfied: matplotlib in /Users/juandiegoocampo/.pyenv/versions/3.8.7/lib/python3.8/site-packages (from -r requirements.txt (line 3)) (3.3.4)\n",
            "Requirement already satisfied: geopandas in /Users/juandiegoocampo/.pyenv/versions/3.8.7/lib/python3.8/site-packages (from -r requirements.txt (line 4)) (0.9.0)\n",
            "Requirement already satisfied: seaborn in /Users/juandiegoocampo/.pyenv/versions/3.8.7/lib/python3.8/site-packages (from -r requirements.txt (line 5)) (0.11.1)\n",
            "Requirement already satisfied: plotly in /Users/juandiegoocampo/.pyenv/versions/3.8.7/lib/python3.8/site-packages (from -r requirements.txt (line 6)) (4.14.3)\n",
            "Requirement already satisfied: pywaffle in /Users/juandiegoocampo/.pyenv/versions/3.8.7/lib/python3.8/site-packages (from -r requirements.txt (line 7)) (0.6.1)\n",
            "Requirement already satisfied: kaleido in /Users/juandiegoocampo/.pyenv/versions/3.8.7/lib/python3.8/site-packages (from -r requirements.txt (line 8)) (0.2.1)\n",
            "Requirement already satisfied: IPython in /Users/juandiegoocampo/.pyenv/versions/3.8.7/lib/python3.8/site-packages (from -r requirements.txt (line 9)) (7.20.0)\n",
            "Requirement already satisfied: pyproj>=2.2.0 in /Users/juandiegoocampo/.pyenv/versions/3.8.7/lib/python3.8/site-packages (from geopandas->-r requirements.txt (line 4)) (3.0.1)\n",
            "Requirement already satisfied: shapely>=1.6 in /Users/juandiegoocampo/.pyenv/versions/3.8.7/lib/python3.8/site-packages (from geopandas->-r requirements.txt (line 4)) (1.7.1)\n",
            "Requirement already satisfied: fiona>=1.8 in /Users/juandiegoocampo/.pyenv/versions/3.8.7/lib/python3.8/site-packages (from geopandas->-r requirements.txt (line 4)) (1.8.18)\n",
            "Requirement already satisfied: python-dateutil>=2.7.3 in /Users/juandiegoocampo/.pyenv/versions/3.8.7/lib/python3.8/site-packages (from pandas->-r requirements.txt (line 2)) (2.8.1)\n",
            "Requirement already satisfied: pytz>=2017.3 in /Users/juandiegoocampo/.pyenv/versions/3.8.7/lib/python3.8/site-packages (from pandas->-r requirements.txt (line 2)) (2021.1)\n",
            "Requirement already satisfied: cligj>=0.5 in /Users/juandiegoocampo/.pyenv/versions/3.8.7/lib/python3.8/site-packages (from fiona>=1.8->geopandas->-r requirements.txt (line 4)) (0.7.1)\n",
            "Requirement already satisfied: munch in /Users/juandiegoocampo/.pyenv/versions/3.8.7/lib/python3.8/site-packages (from fiona>=1.8->geopandas->-r requirements.txt (line 4)) (2.5.0)\n",
            "Requirement already satisfied: click-plugins>=1.0 in /Users/juandiegoocampo/.pyenv/versions/3.8.7/lib/python3.8/site-packages (from fiona>=1.8->geopandas->-r requirements.txt (line 4)) (1.1.1)\n",
            "Requirement already satisfied: attrs>=17 in /Users/juandiegoocampo/.pyenv/versions/3.8.7/lib/python3.8/site-packages (from fiona>=1.8->geopandas->-r requirements.txt (line 4)) (20.3.0)\n",
            "Requirement already satisfied: click<8,>=4.0 in /Users/juandiegoocampo/.pyenv/versions/3.8.7/lib/python3.8/site-packages (from fiona>=1.8->geopandas->-r requirements.txt (line 4)) (7.1.2)\n",
            "Requirement already satisfied: certifi in /Users/juandiegoocampo/.pyenv/versions/3.8.7/lib/python3.8/site-packages (from fiona>=1.8->geopandas->-r requirements.txt (line 4)) (2020.12.5)\n",
            "Requirement already satisfied: six>=1.7 in /Users/juandiegoocampo/.pyenv/versions/3.8.7/lib/python3.8/site-packages (from fiona>=1.8->geopandas->-r requirements.txt (line 4)) (1.15.0)\n",
            "Requirement already satisfied: backcall in /Users/juandiegoocampo/.pyenv/versions/3.8.7/lib/python3.8/site-packages (from IPython->-r requirements.txt (line 9)) (0.2.0)\n",
            "Requirement already satisfied: prompt-toolkit!=3.0.0,!=3.0.1,<3.1.0,>=2.0.0 in /Users/juandiegoocampo/.pyenv/versions/3.8.7/lib/python3.8/site-packages (from IPython->-r requirements.txt (line 9)) (3.0.16)\n",
            "Requirement already satisfied: appnope in /Users/juandiegoocampo/.pyenv/versions/3.8.7/lib/python3.8/site-packages (from IPython->-r requirements.txt (line 9)) (0.1.2)\n",
            "Requirement already satisfied: pygments in /Users/juandiegoocampo/.pyenv/versions/3.8.7/lib/python3.8/site-packages (from IPython->-r requirements.txt (line 9)) (2.8.0)\n",
            "Requirement already satisfied: decorator in /Users/juandiegoocampo/.pyenv/versions/3.8.7/lib/python3.8/site-packages (from IPython->-r requirements.txt (line 9)) (4.4.2)\n",
            "Requirement already satisfied: traitlets>=4.2 in /Users/juandiegoocampo/.pyenv/versions/3.8.7/lib/python3.8/site-packages (from IPython->-r requirements.txt (line 9)) (4.3.3)\n",
            "Requirement already satisfied: setuptools>=18.5 in /Users/juandiegoocampo/.pyenv/versions/3.8.7/lib/python3.8/site-packages (from IPython->-r requirements.txt (line 9)) (53.0.0)\n",
            "Requirement already satisfied: pickleshare in /Users/juandiegoocampo/.pyenv/versions/3.8.7/lib/python3.8/site-packages (from IPython->-r requirements.txt (line 9)) (0.7.5)\n",
            "Requirement already satisfied: pexpect>4.3 in /Users/juandiegoocampo/.pyenv/versions/3.8.7/lib/python3.8/site-packages (from IPython->-r requirements.txt (line 9)) (4.8.0)\n",
            "Requirement already satisfied: jedi>=0.16 in /Users/juandiegoocampo/.pyenv/versions/3.8.7/lib/python3.8/site-packages (from IPython->-r requirements.txt (line 9)) (0.18.0)\n",
            "Requirement already satisfied: parso<0.9.0,>=0.8.0 in /Users/juandiegoocampo/.pyenv/versions/3.8.7/lib/python3.8/site-packages (from jedi>=0.16->IPython->-r requirements.txt (line 9)) (0.8.1)\n",
            "Requirement already satisfied: ptyprocess>=0.5 in /Users/juandiegoocampo/.pyenv/versions/3.8.7/lib/python3.8/site-packages (from pexpect>4.3->IPython->-r requirements.txt (line 9)) (0.7.0)\n",
            "Requirement already satisfied: wcwidth in /Users/juandiegoocampo/.pyenv/versions/3.8.7/lib/python3.8/site-packages (from prompt-toolkit!=3.0.0,!=3.0.1,<3.1.0,>=2.0.0->IPython->-r requirements.txt (line 9)) (0.2.5)\n",
            "Requirement already satisfied: ipython-genutils in /Users/juandiegoocampo/.pyenv/versions/3.8.7/lib/python3.8/site-packages (from traitlets>=4.2->IPython->-r requirements.txt (line 9)) (0.2.0)\n",
            "Requirement already satisfied: pyparsing!=2.0.4,!=2.1.2,!=2.1.6,>=2.0.3 in /Users/juandiegoocampo/.pyenv/versions/3.8.7/lib/python3.8/site-packages (from matplotlib->-r requirements.txt (line 3)) (2.4.7)\n",
            "Requirement already satisfied: cycler>=0.10 in /Users/juandiegoocampo/.pyenv/versions/3.8.7/lib/python3.8/site-packages (from matplotlib->-r requirements.txt (line 3)) (0.10.0)\n",
            "Requirement already satisfied: kiwisolver>=1.0.1 in /Users/juandiegoocampo/.pyenv/versions/3.8.7/lib/python3.8/site-packages (from matplotlib->-r requirements.txt (line 3)) (1.3.1)\n",
            "Requirement already satisfied: pillow>=6.2.0 in /Users/juandiegoocampo/.pyenv/versions/3.8.7/lib/python3.8/site-packages (from matplotlib->-r requirements.txt (line 3)) (8.1.0)\n",
            "Requirement already satisfied: retrying>=1.3.3 in /Users/juandiegoocampo/.pyenv/versions/3.8.7/lib/python3.8/site-packages (from plotly->-r requirements.txt (line 6)) (1.3.3)\n",
            "Requirement already satisfied: scipy>=1.0 in /Users/juandiegoocampo/.pyenv/versions/3.8.7/lib/python3.8/site-packages (from seaborn->-r requirements.txt (line 5)) (1.6.0)\n",
            "Librerías instaladas con éxito!\n"
          ]
        }
      ],
      "source": [
        "# Descargar Librerías \n",
        "!pip install -r requirements.txt\n",
        "print('Librerías instaladas con éxito!')        "
      ]
    },
    {
      "cell_type": "code",
      "execution_count": 2,
      "metadata": {
        "colab": {
          "base_uri": "https://localhost:8080/"
        },
        "id": "4NWLhXfK4e2w",
        "outputId": "cf47e764-bb14-43a1-88e7-082dce6ea0e6"
      },
      "outputs": [
        {
          "name": "stdout",
          "output_type": "stream",
          "text": [
            "Librerías cargadas con éxito!\n"
          ]
        }
      ],
      "source": [
        "# Importar Librerías\n",
        "try:\n",
        "    import numpy as np\n",
        "    import pandas as pd\n",
        "    import geopandas as gpd\n",
        "    import matplotlib.pyplot as plt\n",
        "    import seaborn as sns\n",
        "    import plotly\n",
        "    import plotly.graph_objs as go \n",
        "    import plotly.express as px\n",
        "    import json\n",
        "    from mpl_toolkits.axes_grid1 import make_axes_locatable\n",
        "    from urllib.request import urlopen\n",
        "    from IPython.lib.display import YouTubeVideo\n",
        "    print('Librerías cargadas con éxito!')    \n",
        "    %matplotlib inline\n",
        "    %config InlineBackend.figure_format = 'retina'\n",
        "    pd.options.plotting.backend = \"plotly\"\n",
        "except RuntimeError as err:\n",
        "    print(\"RuntimeError: {0}\".format(err))\n"
      ]
    },
    {
      "cell_type": "markdown",
      "metadata": {
        "id": "ONrs3YF64e2z"
      },
      "source": [
        "### 2.2 Importar Datasets"
      ]
    },
    {
      "cell_type": "code",
      "execution_count": 3,
      "metadata": {},
      "outputs": [
        {
          "name": "stdout",
          "output_type": "stream",
          "text": [
            "Archive:  archive.zip\n",
            "  inflating: country_vaccinations.csv  \n",
            "  inflating: __MACOSX/._country_vaccinations.csv  \n",
            "  inflating: geo_dataset.geojson     \n",
            "  inflating: __MACOSX/._geo_dataset.geojson  \n",
            "Archivo .zip descomprimido con éxito!\n"
          ]
        }
      ],
      "source": [
        "# Descomprimir archivo .zip con los Dataset\n",
        "try:\n",
        "    !unzip archive.zip\n",
        "    print('Archivo .zip descomprimido con éxito!')\n",
        "except RuntimeError as err:\n",
        "    print(\"RuntimeError: {0}\".format(err))"
      ]
    },
    {
      "cell_type": "code",
      "execution_count": 4,
      "metadata": {
        "colab": {
          "base_uri": "https://localhost:8080/",
          "height": 834
        },
        "id": "cOc9Y0Yw4e22",
        "outputId": "4f987533-323f-4d1c-a738-67383e75f4a0"
      },
      "outputs": [
        {
          "name": "stdout",
          "output_type": "stream",
          "text": [
            "Dataset importado con éxito!\n",
            "Shape: 7897 rows x 15 columns.\n",
            "Contiene datos de 151 países diferentes.\n",
            "<class 'pandas.core.frame.DataFrame'>\n",
            "RangeIndex: 7897 entries, 0 to 7896\n",
            "Data columns (total 15 columns):\n",
            " #   Column                               Non-Null Count  Dtype         \n",
            "---  ------                               --------------  -----         \n",
            " 0   country                              7897 non-null   object        \n",
            " 1   iso_code                             7897 non-null   object        \n",
            " 2   date                                 7897 non-null   datetime64[ns]\n",
            " 3   total_vaccinations                   4889 non-null   float64       \n",
            " 4   people_vaccinated                    4338 non-null   float64       \n",
            " 5   people_fully_vaccinated              2961 non-null   float64       \n",
            " 6   daily_vaccinations_raw               4112 non-null   float64       \n",
            " 7   daily_vaccinations                   7709 non-null   float64       \n",
            " 8   total_vaccinations_per_hundred       4889 non-null   float64       \n",
            " 9   people_vaccinated_per_hundred        4338 non-null   float64       \n",
            " 10  people_fully_vaccinated_per_hundred  2961 non-null   float64       \n",
            " 11  daily_vaccinations_per_million       7709 non-null   float64       \n",
            " 12  vaccines                             7897 non-null   object        \n",
            " 13  source_name                          7897 non-null   object        \n",
            " 14  source_website                       7897 non-null   object        \n",
            "dtypes: datetime64[ns](1), float64(9), object(5)\n",
            "memory usage: 925.6+ KB\n",
            "None\n"
          ]
        },
        {
          "data": {
            "text/html": "<div>\n<style scoped>\n    .dataframe tbody tr th:only-of-type {\n        vertical-align: middle;\n    }\n\n    .dataframe tbody tr th {\n        vertical-align: top;\n    }\n\n    .dataframe thead th {\n        text-align: right;\n    }\n</style>\n<table border=\"1\" class=\"dataframe\">\n  <thead>\n    <tr style=\"text-align: right;\">\n      <th></th>\n      <th>country</th>\n      <th>iso_code</th>\n      <th>date</th>\n      <th>total_vaccinations</th>\n      <th>people_vaccinated</th>\n      <th>people_fully_vaccinated</th>\n      <th>daily_vaccinations_raw</th>\n      <th>daily_vaccinations</th>\n      <th>total_vaccinations_per_hundred</th>\n      <th>people_vaccinated_per_hundred</th>\n      <th>people_fully_vaccinated_per_hundred</th>\n      <th>daily_vaccinations_per_million</th>\n      <th>vaccines</th>\n      <th>source_name</th>\n      <th>source_website</th>\n    </tr>\n  </thead>\n  <tbody>\n    <tr>\n      <th>2897</th>\n      <td>Greece</td>\n      <td>GRC</td>\n      <td>2021-03-03</td>\n      <td>991409.0</td>\n      <td>643218.0</td>\n      <td>348191.0</td>\n      <td>34270.0</td>\n      <td>28152.0</td>\n      <td>9.51</td>\n      <td>6.17</td>\n      <td>3.34</td>\n      <td>2701.0</td>\n      <td>Moderna, Oxford/AstraZeneca, Pfizer/BioNTech</td>\n      <td>Ministry of Health</td>\n      <td>https://www.data.gov.gr/datasets/mdg_emvolio/</td>\n    </tr>\n    <tr>\n      <th>4944</th>\n      <td>Montserrat</td>\n      <td>MSR</td>\n      <td>2021-03-08</td>\n      <td>NaN</td>\n      <td>NaN</td>\n      <td>NaN</td>\n      <td>NaN</td>\n      <td>19.0</td>\n      <td>NaN</td>\n      <td>NaN</td>\n      <td>NaN</td>\n      <td>3801.0</td>\n      <td>Oxford/AstraZeneca</td>\n      <td>Government of Montserrat</td>\n      <td>https://www.facebook.com/GIUMontserrat/photos/...</td>\n    </tr>\n    <tr>\n      <th>7842</th>\n      <td>Wales</td>\n      <td>OWID_WLS</td>\n      <td>2021-03-02</td>\n      <td>1066798.0</td>\n      <td>942017.0</td>\n      <td>124781.0</td>\n      <td>21597.0</td>\n      <td>18430.0</td>\n      <td>33.84</td>\n      <td>29.88</td>\n      <td>3.96</td>\n      <td>5845.0</td>\n      <td>Oxford/AstraZeneca, Pfizer/BioNTech</td>\n      <td>Government of the United Kingdom</td>\n      <td>https://coronavirus.data.gov.uk/details/health...</td>\n    </tr>\n    <tr>\n      <th>5580</th>\n      <td>Panama</td>\n      <td>PAN</td>\n      <td>2021-03-14</td>\n      <td>253800.0</td>\n      <td>NaN</td>\n      <td>NaN</td>\n      <td>1487.0</td>\n      <td>6484.0</td>\n      <td>5.88</td>\n      <td>NaN</td>\n      <td>NaN</td>\n      <td>1503.0</td>\n      <td>Pfizer/BioNTech</td>\n      <td>Ministry of Health</td>\n      <td>https://twitter.com/EstrellaOnline/status/1373...</td>\n    </tr>\n    <tr>\n      <th>2422</th>\n      <td>Faeroe Islands</td>\n      <td>FRO</td>\n      <td>2021-02-03</td>\n      <td>NaN</td>\n      <td>NaN</td>\n      <td>NaN</td>\n      <td>NaN</td>\n      <td>83.0</td>\n      <td>NaN</td>\n      <td>NaN</td>\n      <td>NaN</td>\n      <td>1699.0</td>\n      <td>Moderna, Pfizer/BioNTech</td>\n      <td>Government of the Faeroe Islands</td>\n      <td>https://corona.fo/api</td>\n    </tr>\n  </tbody>\n</table>\n</div>",
            "text/plain": [
              "             country  iso_code       date  total_vaccinations  \\\n",
              "2897          Greece       GRC 2021-03-03            991409.0   \n",
              "4944      Montserrat       MSR 2021-03-08                 NaN   \n",
              "7842           Wales  OWID_WLS 2021-03-02           1066798.0   \n",
              "5580          Panama       PAN 2021-03-14            253800.0   \n",
              "2422  Faeroe Islands       FRO 2021-02-03                 NaN   \n",
              "\n",
              "      people_vaccinated  people_fully_vaccinated  daily_vaccinations_raw  \\\n",
              "2897           643218.0                 348191.0                 34270.0   \n",
              "4944                NaN                      NaN                     NaN   \n",
              "7842           942017.0                 124781.0                 21597.0   \n",
              "5580                NaN                      NaN                  1487.0   \n",
              "2422                NaN                      NaN                     NaN   \n",
              "\n",
              "      daily_vaccinations  total_vaccinations_per_hundred  \\\n",
              "2897             28152.0                            9.51   \n",
              "4944                19.0                             NaN   \n",
              "7842             18430.0                           33.84   \n",
              "5580              6484.0                            5.88   \n",
              "2422                83.0                             NaN   \n",
              "\n",
              "      people_vaccinated_per_hundred  people_fully_vaccinated_per_hundred  \\\n",
              "2897                           6.17                                 3.34   \n",
              "4944                            NaN                                  NaN   \n",
              "7842                          29.88                                 3.96   \n",
              "5580                            NaN                                  NaN   \n",
              "2422                            NaN                                  NaN   \n",
              "\n",
              "      daily_vaccinations_per_million  \\\n",
              "2897                          2701.0   \n",
              "4944                          3801.0   \n",
              "7842                          5845.0   \n",
              "5580                          1503.0   \n",
              "2422                          1699.0   \n",
              "\n",
              "                                          vaccines  \\\n",
              "2897  Moderna, Oxford/AstraZeneca, Pfizer/BioNTech   \n",
              "4944                            Oxford/AstraZeneca   \n",
              "7842           Oxford/AstraZeneca, Pfizer/BioNTech   \n",
              "5580                               Pfizer/BioNTech   \n",
              "2422                      Moderna, Pfizer/BioNTech   \n",
              "\n",
              "                           source_name  \\\n",
              "2897                Ministry of Health   \n",
              "4944          Government of Montserrat   \n",
              "7842  Government of the United Kingdom   \n",
              "5580                Ministry of Health   \n",
              "2422  Government of the Faeroe Islands   \n",
              "\n",
              "                                         source_website  \n",
              "2897      https://www.data.gov.gr/datasets/mdg_emvolio/  \n",
              "4944  https://www.facebook.com/GIUMontserrat/photos/...  \n",
              "7842  https://coronavirus.data.gov.uk/details/health...  \n",
              "5580  https://twitter.com/EstrellaOnline/status/1373...  \n",
              "2422                              https://corona.fo/api  "
            ]
          },
          "execution_count": 4,
          "metadata": {},
          "output_type": "execute_result"
        }
      ],
      "source": [
        "# Cargar Dataset de Vacunación Mundial\n",
        "try:\n",
        "    vaccination_df = pd.read_csv('country_vaccinations.csv', parse_dates = ['date'])\n",
        "    print('Dataset importado con éxito!')\n",
        "    print('Shape: {} rows x {} columns.'.format(vaccination_df.shape[0], vaccination_df.shape[1]))\n",
        "    print('Contiene datos de {} países diferentes.'.format(vaccination_df['country'].nunique()))\n",
        "except RuntimeError as err:\n",
        "    print(\"RuntimeError: {0}\".format(err))\n",
        "\n",
        "# Visualizar información del Dataset\n",
        "print(vaccination_df.info())\n",
        "\n",
        "# Visualizar 5 filas del Dataset\n",
        "vaccination_df.sample(5)"
      ]
    },
    {
      "cell_type": "code",
      "execution_count": 5,
      "metadata": {
        "colab": {
          "base_uri": "https://localhost:8080/",
          "height": 432
        },
        "id": "i6MGEfWt4e26",
        "outputId": "1ea7be3e-9020-48b8-c77e-66e8ef98fa26"
      },
      "outputs": [
        {
          "name": "stdout",
          "output_type": "stream",
          "text": [
            "Dataset importado con éxito!\n",
            "Shape: 205 rows x 2 columns.\n",
            "Contiene datos de 205 países diferentes.\n",
            "<class 'geopandas.geodataframe.GeoDataFrame'>\n",
            "Int64Index: 205 entries, 1 to 254\n",
            "Data columns (total 2 columns):\n",
            " #   Column    Non-Null Count  Dtype   \n",
            "---  ------    --------------  -----   \n",
            " 0   country   205 non-null    object  \n",
            " 1   geometry  205 non-null    geometry\n",
            "dtypes: geometry(1), object(1)\n",
            "memory usage: 4.8+ KB\n",
            "None\n"
          ]
        },
        {
          "data": {
            "text/html": "<div>\n<style scoped>\n    .dataframe tbody tr th:only-of-type {\n        vertical-align: middle;\n    }\n\n    .dataframe tbody tr th {\n        vertical-align: top;\n    }\n\n    .dataframe thead th {\n        text-align: right;\n    }\n</style>\n<table border=\"1\" class=\"dataframe\">\n  <thead>\n    <tr style=\"text-align: right;\">\n      <th></th>\n      <th>country</th>\n      <th>geometry</th>\n    </tr>\n  </thead>\n  <tbody>\n    <tr>\n      <th>25</th>\n      <td>The Bahamas</td>\n      <td>MULTIPOLYGON (((-73.03393 21.15673, -73.09759 ...</td>\n    </tr>\n    <tr>\n      <th>63</th>\n      <td>Dominica</td>\n      <td>POLYGON ((-61.36286 15.20181, -61.37409 15.204...</td>\n    </tr>\n    <tr>\n      <th>26</th>\n      <td>Bosnia and Herzegovina</td>\n      <td>POLYGON ((16.94153 45.24122, 16.94732 45.23569...</td>\n    </tr>\n    <tr>\n      <th>113</th>\n      <td>Jamaica</td>\n      <td>POLYGON ((-76.26374 18.01236, -76.25678 17.996...</td>\n    </tr>\n    <tr>\n      <th>35</th>\n      <td>Brunei</td>\n      <td>MULTIPOLYGON (((115.13453 4.90884, 115.14584 4...</td>\n    </tr>\n  </tbody>\n</table>\n</div>",
            "text/plain": [
              "                    country                                           geometry\n",
              "25              The Bahamas  MULTIPOLYGON (((-73.03393 21.15673, -73.09759 ...\n",
              "63                 Dominica  POLYGON ((-61.36286 15.20181, -61.37409 15.204...\n",
              "26   Bosnia and Herzegovina  POLYGON ((16.94153 45.24122, 16.94732 45.23569...\n",
              "113                 Jamaica  POLYGON ((-76.26374 18.01236, -76.25678 17.996...\n",
              "35                   Brunei  MULTIPOLYGON (((115.13453 4.90884, 115.14584 4..."
            ]
          },
          "execution_count": 5,
          "metadata": {},
          "output_type": "execute_result"
        }
      ],
      "source": [
        "# Cargar Datos Geoespaciales para Visualización\n",
        "try:\n",
        "    map_df = gpd.read_file('https://raw.githubusercontent.com/nvkelso/natural-earth-vector/master/geojson/ne_10m_admin_0_countries.geojson')\n",
        "    map_df = map_df[map_df['SOVEREIGNT'] == map_df['ADMIN']][['ADMIN', 'geometry']]\n",
        "    map_df.columns = ['country', 'geometry']\n",
        "    print('Dataset importado con éxito!')\n",
        "    print('Shape: {} rows x {} columns.'.format(map_df.shape[0], map_df.shape[1]))\n",
        "    print('Contiene datos de {} países diferentes.'.format(map_df['country'].nunique()))\n",
        "except RuntimeError as err:\n",
        "    print(\"RuntimeError: {0}\".format(err))\n",
        "\n",
        "# Visualizar información del Dataset\n",
        "print(map_df.info())\n",
        "\n",
        "# Visualizar 5 filas del Dataset\n",
        "map_df.sample(5)"
      ]
    },
    {
      "cell_type": "markdown",
      "metadata": {
        "id": "ADU8dYvF4e2_"
      },
      "source": [
        "### 2.3 Procesamiento del Dataset sobre Vacunación Mundial\n",
        "\n",
        "A continuación se crean subconjuntos de datos para Latinoamérica y para Colombia con base en el Dataset *vaccination_df*. <br>\n",
        "\n",
        "** Nota **: No todos los países se encuentran actualizados hasta el mismo día en el conjunto de datos. Por lo tanto, debemos seleccionar la última fecha que sea común en todos los países."
      ]
    },
    {
      "cell_type": "code",
      "execution_count": 6,
      "metadata": {
        "id": "eYk1N2Ke4e3B"
      },
      "outputs": [],
      "source": [
        " # Constantes para el filtrado del Dataset \n",
        "latam_countries =  pd.Series(['Argentina','Bolivia','Brazil','Chile','Colombia','Costa Rica','Cuba','Ecuador','El Salvador','Guatemala','Honduras','Mexico','Nicaragua','Panama','Paraguay','Peru','Puerto Rico','Dominican Republic','Uruguay','Venezuela'])\n",
        "latam_countries_total =  pd.Series(['Argentina','Bolivia','Brazil','Chile','Colombia','Costa Rica','Cuba','Ecuador','El Salvador','Guatemala','Honduras','Mexico','Nicaragua','Panama','Paraguay','Peru','Puerto Rico','Dominican Republic','Uruguay','Venezuela'])"
      ]
    },
    {
      "cell_type": "code",
      "execution_count": 7,
      "metadata": {
        "colab": {
          "base_uri": "https://localhost:8080/",
          "height": 1000
        },
        "id": "FqbzY7B24e3C",
        "outputId": "8c1ca2ef-57ea-4140-bfff-da38c68c43e2"
      },
      "outputs": [
        {
          "name": "stdout",
          "output_type": "stream",
          "text": [
            "Subconjuntos de datos creado!\n",
            "Shape: 17 rows x 15 columns.\n",
            "Contiene datos de 17 países diferentes.\n",
            "<class 'pandas.core.frame.DataFrame'>\n",
            "RangeIndex: 17 entries, 0 to 16\n",
            "Data columns (total 15 columns):\n",
            " #   Column                               Non-Null Count  Dtype         \n",
            "---  ------                               --------------  -----         \n",
            " 0   country                              17 non-null     object        \n",
            " 1   iso_code                             17 non-null     object        \n",
            " 2   vaccines                             17 non-null     object        \n",
            " 3   date                                 17 non-null     datetime64[ns]\n",
            " 4   total_vaccinations                   17 non-null     float64       \n",
            " 5   people_vaccinated                    16 non-null     float64       \n",
            " 6   people_fully_vaccinated              9 non-null      float64       \n",
            " 7   daily_vaccinations_raw               15 non-null     float64       \n",
            " 8   daily_vaccinations                   17 non-null     float64       \n",
            " 9   total_vaccinations_per_hundred       17 non-null     float64       \n",
            " 10  people_vaccinated_per_hundred        16 non-null     float64       \n",
            " 11  people_fully_vaccinated_per_hundred  9 non-null      float64       \n",
            " 12  daily_vaccinations_per_million       17 non-null     float64       \n",
            " 13  source_name                          17 non-null     object        \n",
            " 14  source_website                       17 non-null     object        \n",
            "dtypes: datetime64[ns](1), float64(9), object(5)\n",
            "memory usage: 2.1+ KB\n",
            "None\n"
          ]
        },
        {
          "data": {
            "text/html": "<div>\n<style scoped>\n    .dataframe tbody tr th:only-of-type {\n        vertical-align: middle;\n    }\n\n    .dataframe tbody tr th {\n        vertical-align: top;\n    }\n\n    .dataframe thead th {\n        text-align: right;\n    }\n</style>\n<table border=\"1\" class=\"dataframe\">\n  <thead>\n    <tr style=\"text-align: right;\">\n      <th></th>\n      <th>country</th>\n      <th>iso_code</th>\n      <th>vaccines</th>\n      <th>date</th>\n      <th>total_vaccinations</th>\n      <th>people_vaccinated</th>\n      <th>people_fully_vaccinated</th>\n      <th>daily_vaccinations_raw</th>\n      <th>daily_vaccinations</th>\n      <th>total_vaccinations_per_hundred</th>\n      <th>people_vaccinated_per_hundred</th>\n      <th>people_fully_vaccinated_per_hundred</th>\n      <th>daily_vaccinations_per_million</th>\n      <th>source_name</th>\n      <th>source_website</th>\n    </tr>\n  </thead>\n  <tbody>\n    <tr>\n      <th>0</th>\n      <td>Argentina</td>\n      <td>ARG</td>\n      <td>Oxford/AstraZeneca, Sinopharm/Beijing, Sputnik V</td>\n      <td>2021-03-23</td>\n      <td>3240731.0</td>\n      <td>2618750.0</td>\n      <td>621981.0</td>\n      <td>98287.0</td>\n      <td>99910.0</td>\n      <td>7.17</td>\n      <td>5.79</td>\n      <td>1.38</td>\n      <td>2211.0</td>\n      <td>Ministry of Health</td>\n      <td>http://datos.salud.gob.ar/dataset/vacunas-cont...</td>\n    </tr>\n    <tr>\n      <th>1</th>\n      <td>Bolivia</td>\n      <td>BOL</td>\n      <td>Sputnik V</td>\n      <td>2021-03-22</td>\n      <td>180187.0</td>\n      <td>151952.0</td>\n      <td>28235.0</td>\n      <td>11710.0</td>\n      <td>5482.0</td>\n      <td>1.54</td>\n      <td>1.30</td>\n      <td>0.24</td>\n      <td>470.0</td>\n      <td>Ministry of Health</td>\n      <td>https://twitter.com/SaludDeportesBo/status/137...</td>\n    </tr>\n    <tr>\n      <th>2</th>\n      <td>Brazil</td>\n      <td>BRA</td>\n      <td>Oxford/AstraZeneca, Sinovac</td>\n      <td>2021-03-23</td>\n      <td>15209201.0</td>\n      <td>11559487.0</td>\n      <td>3649714.0</td>\n      <td>1092641.0</td>\n      <td>417182.0</td>\n      <td>7.16</td>\n      <td>5.44</td>\n      <td>1.72</td>\n      <td>1963.0</td>\n      <td>Ministry of Health</td>\n      <td>https://viz.saude.gov.br/extensions/DEMAS_C19V...</td>\n    </tr>\n    <tr>\n      <th>3</th>\n      <td>Chile</td>\n      <td>CHL</td>\n      <td>Pfizer/BioNTech, Sinovac</td>\n      <td>2021-03-23</td>\n      <td>8968634.0</td>\n      <td>5889862.0</td>\n      <td>3078772.0</td>\n      <td>224219.0</td>\n      <td>217127.0</td>\n      <td>46.92</td>\n      <td>30.81</td>\n      <td>16.11</td>\n      <td>11358.0</td>\n      <td>Department of Statistics and Health Information</td>\n      <td>https://www.gob.cl/yomevacuno/</td>\n    </tr>\n    <tr>\n      <th>4</th>\n      <td>Colombia</td>\n      <td>COL</td>\n      <td>Pfizer/BioNTech, Sinovac</td>\n      <td>2021-03-22</td>\n      <td>1238259.0</td>\n      <td>1177935.0</td>\n      <td>60324.0</td>\n      <td>23251.0</td>\n      <td>46328.0</td>\n      <td>2.43</td>\n      <td>2.31</td>\n      <td>0.12</td>\n      <td>910.0</td>\n      <td>Ministry of Health via Universidad de La Sabana</td>\n      <td>https://www.minsalud.gov.co/salud/publica/Vacu...</td>\n    </tr>\n    <tr>\n      <th>5</th>\n      <td>Costa Rica</td>\n      <td>CRI</td>\n      <td>Pfizer/BioNTech</td>\n      <td>2021-03-22</td>\n      <td>312425.0</td>\n      <td>206198.0</td>\n      <td>106227.0</td>\n      <td>NaN</td>\n      <td>9192.0</td>\n      <td>6.13</td>\n      <td>4.05</td>\n      <td>2.09</td>\n      <td>1804.0</td>\n      <td>Costa Rican Social Security Fund</td>\n      <td>https://www.ccss.sa.cr/web/coronavirus/vacunacion</td>\n    </tr>\n    <tr>\n      <th>6</th>\n      <td>Dominican Republic</td>\n      <td>DOM</td>\n      <td>Oxford/AstraZeneca, Sinovac</td>\n      <td>2021-03-23</td>\n      <td>800000.0</td>\n      <td>800000.0</td>\n      <td>NaN</td>\n      <td>58915.0</td>\n      <td>15625.0</td>\n      <td>7.37</td>\n      <td>7.37</td>\n      <td>NaN</td>\n      <td>1440.0</td>\n      <td>Ministry of Public Health</td>\n      <td>https://twitter.com/SaludPublicaRD/status/1374...</td>\n    </tr>\n    <tr>\n      <th>7</th>\n      <td>Ecuador</td>\n      <td>ECU</td>\n      <td>Pfizer/BioNTech</td>\n      <td>2021-03-21</td>\n      <td>178970.0</td>\n      <td>140765.0</td>\n      <td>38205.0</td>\n      <td>16183.0</td>\n      <td>5528.0</td>\n      <td>1.01</td>\n      <td>0.80</td>\n      <td>0.22</td>\n      <td>313.0</td>\n      <td>Government of Ecuador via Ecuacovid</td>\n      <td>https://github.com/andrab/ecuacovid</td>\n    </tr>\n    <tr>\n      <th>8</th>\n      <td>El Salvador</td>\n      <td>SLV</td>\n      <td>Oxford/AstraZeneca</td>\n      <td>2021-03-21</td>\n      <td>49000.0</td>\n      <td>49000.0</td>\n      <td>NaN</td>\n      <td>5512.0</td>\n      <td>3429.0</td>\n      <td>0.76</td>\n      <td>0.76</td>\n      <td>NaN</td>\n      <td>529.0</td>\n      <td>Ministry of Health</td>\n      <td>https://www.laprensagrafica.com/covid-19/El-Sa...</td>\n    </tr>\n    <tr>\n      <th>9</th>\n      <td>Guatemala</td>\n      <td>GTM</td>\n      <td>Moderna</td>\n      <td>2021-03-22</td>\n      <td>72405.0</td>\n      <td>72405.0</td>\n      <td>NaN</td>\n      <td>3139.0</td>\n      <td>4296.0</td>\n      <td>0.40</td>\n      <td>0.40</td>\n      <td>NaN</td>\n      <td>240.0</td>\n      <td>Ministry of Health</td>\n      <td>https://gtmvigilanciacovid.shinyapps.io/3869aa...</td>\n    </tr>\n    <tr>\n      <th>10</th>\n      <td>Honduras</td>\n      <td>HND</td>\n      <td>Moderna, Oxford/AstraZeneca</td>\n      <td>2021-03-21</td>\n      <td>43073.0</td>\n      <td>43073.0</td>\n      <td>NaN</td>\n      <td>21470.0</td>\n      <td>5218.0</td>\n      <td>0.43</td>\n      <td>0.43</td>\n      <td>NaN</td>\n      <td>527.0</td>\n      <td>Government of Honduras</td>\n      <td>https://www.laprensa.hn/honduras/1451346-410/h...</td>\n    </tr>\n    <tr>\n      <th>11</th>\n      <td>Mexico</td>\n      <td>MEX</td>\n      <td>Oxford/AstraZeneca, Pfizer/BioNTech, Sputnik V</td>\n      <td>2021-03-23</td>\n      <td>5926967.0</td>\n      <td>5046896.0</td>\n      <td>734463.0</td>\n      <td>145608.0</td>\n      <td>199455.0</td>\n      <td>4.60</td>\n      <td>3.91</td>\n      <td>0.57</td>\n      <td>1547.0</td>\n      <td>Secretary of Health</td>\n      <td>https://www.gob.mx/salud/prensa/122-aplicacion...</td>\n    </tr>\n    <tr>\n      <th>12</th>\n      <td>Panama</td>\n      <td>PAN</td>\n      <td>Pfizer/BioNTech</td>\n      <td>2021-03-21</td>\n      <td>309660.0</td>\n      <td>NaN</td>\n      <td>NaN</td>\n      <td>336.0</td>\n      <td>7980.0</td>\n      <td>7.18</td>\n      <td>NaN</td>\n      <td>NaN</td>\n      <td>1849.0</td>\n      <td>Ministry of Health</td>\n      <td>https://twitter.com/EstrellaOnline/status/1373...</td>\n    </tr>\n    <tr>\n      <th>13</th>\n      <td>Paraguay</td>\n      <td>PRY</td>\n      <td>Sputnik V</td>\n      <td>2021-03-22</td>\n      <td>14724.0</td>\n      <td>13329.0</td>\n      <td>NaN</td>\n      <td>1.0</td>\n      <td>379.0</td>\n      <td>0.21</td>\n      <td>0.19</td>\n      <td>NaN</td>\n      <td>53.0</td>\n      <td>Government of Paraguay</td>\n      <td>https://vacunate.mspbs.gov.py/index-listado-va...</td>\n    </tr>\n    <tr>\n      <th>14</th>\n      <td>Peru</td>\n      <td>PER</td>\n      <td>Sinopharm/Beijing</td>\n      <td>2021-03-22</td>\n      <td>706750.0</td>\n      <td>487486.0</td>\n      <td>219264.0</td>\n      <td>9517.0</td>\n      <td>21579.0</td>\n      <td>2.14</td>\n      <td>1.48</td>\n      <td>0.67</td>\n      <td>654.0</td>\n      <td>Ministry of Health</td>\n      <td>https://www.datosabiertos.gob.pe/dataset/vacun...</td>\n    </tr>\n    <tr>\n      <th>15</th>\n      <td>Uruguay</td>\n      <td>URY</td>\n      <td>Pfizer/BioNTech, Sinovac</td>\n      <td>2021-03-23</td>\n      <td>376693.0</td>\n      <td>376693.0</td>\n      <td>NaN</td>\n      <td>30261.0</td>\n      <td>22301.0</td>\n      <td>10.84</td>\n      <td>10.84</td>\n      <td>NaN</td>\n      <td>6420.0</td>\n      <td>Ministry of Health</td>\n      <td>https://monitor.uruguaysevacuna.gub.uy/</td>\n    </tr>\n    <tr>\n      <th>16</th>\n      <td>Venezuela</td>\n      <td>VEN</td>\n      <td>Sputnik V</td>\n      <td>2021-03-04</td>\n      <td>12194.0</td>\n      <td>12194.0</td>\n      <td>NaN</td>\n      <td>NaN</td>\n      <td>1204.0</td>\n      <td>0.04</td>\n      <td>0.04</td>\n      <td>NaN</td>\n      <td>42.0</td>\n      <td>Government of Venezuela</td>\n      <td>https://www.semana.com/mundo/articulo/y-el-car...</td>\n    </tr>\n  </tbody>\n</table>\n</div>",
            "text/plain": [
              "               country iso_code  \\\n",
              "0            Argentina      ARG   \n",
              "1              Bolivia      BOL   \n",
              "2               Brazil      BRA   \n",
              "3                Chile      CHL   \n",
              "4             Colombia      COL   \n",
              "5           Costa Rica      CRI   \n",
              "6   Dominican Republic      DOM   \n",
              "7              Ecuador      ECU   \n",
              "8          El Salvador      SLV   \n",
              "9            Guatemala      GTM   \n",
              "10            Honduras      HND   \n",
              "11              Mexico      MEX   \n",
              "12              Panama      PAN   \n",
              "13            Paraguay      PRY   \n",
              "14                Peru      PER   \n",
              "15             Uruguay      URY   \n",
              "16           Venezuela      VEN   \n",
              "\n",
              "                                            vaccines       date  \\\n",
              "0   Oxford/AstraZeneca, Sinopharm/Beijing, Sputnik V 2021-03-23   \n",
              "1                                          Sputnik V 2021-03-22   \n",
              "2                        Oxford/AstraZeneca, Sinovac 2021-03-23   \n",
              "3                           Pfizer/BioNTech, Sinovac 2021-03-23   \n",
              "4                           Pfizer/BioNTech, Sinovac 2021-03-22   \n",
              "5                                    Pfizer/BioNTech 2021-03-22   \n",
              "6                        Oxford/AstraZeneca, Sinovac 2021-03-23   \n",
              "7                                    Pfizer/BioNTech 2021-03-21   \n",
              "8                                 Oxford/AstraZeneca 2021-03-21   \n",
              "9                                            Moderna 2021-03-22   \n",
              "10                       Moderna, Oxford/AstraZeneca 2021-03-21   \n",
              "11    Oxford/AstraZeneca, Pfizer/BioNTech, Sputnik V 2021-03-23   \n",
              "12                                   Pfizer/BioNTech 2021-03-21   \n",
              "13                                         Sputnik V 2021-03-22   \n",
              "14                                 Sinopharm/Beijing 2021-03-22   \n",
              "15                          Pfizer/BioNTech, Sinovac 2021-03-23   \n",
              "16                                         Sputnik V 2021-03-04   \n",
              "\n",
              "    total_vaccinations  people_vaccinated  people_fully_vaccinated  \\\n",
              "0            3240731.0          2618750.0                 621981.0   \n",
              "1             180187.0           151952.0                  28235.0   \n",
              "2           15209201.0         11559487.0                3649714.0   \n",
              "3            8968634.0          5889862.0                3078772.0   \n",
              "4            1238259.0          1177935.0                  60324.0   \n",
              "5             312425.0           206198.0                 106227.0   \n",
              "6             800000.0           800000.0                      NaN   \n",
              "7             178970.0           140765.0                  38205.0   \n",
              "8              49000.0            49000.0                      NaN   \n",
              "9              72405.0            72405.0                      NaN   \n",
              "10             43073.0            43073.0                      NaN   \n",
              "11           5926967.0          5046896.0                 734463.0   \n",
              "12            309660.0                NaN                      NaN   \n",
              "13             14724.0            13329.0                      NaN   \n",
              "14            706750.0           487486.0                 219264.0   \n",
              "15            376693.0           376693.0                      NaN   \n",
              "16             12194.0            12194.0                      NaN   \n",
              "\n",
              "    daily_vaccinations_raw  daily_vaccinations  \\\n",
              "0                  98287.0             99910.0   \n",
              "1                  11710.0              5482.0   \n",
              "2                1092641.0            417182.0   \n",
              "3                 224219.0            217127.0   \n",
              "4                  23251.0             46328.0   \n",
              "5                      NaN              9192.0   \n",
              "6                  58915.0             15625.0   \n",
              "7                  16183.0              5528.0   \n",
              "8                   5512.0              3429.0   \n",
              "9                   3139.0              4296.0   \n",
              "10                 21470.0              5218.0   \n",
              "11                145608.0            199455.0   \n",
              "12                   336.0              7980.0   \n",
              "13                     1.0               379.0   \n",
              "14                  9517.0             21579.0   \n",
              "15                 30261.0             22301.0   \n",
              "16                     NaN              1204.0   \n",
              "\n",
              "    total_vaccinations_per_hundred  people_vaccinated_per_hundred  \\\n",
              "0                             7.17                           5.79   \n",
              "1                             1.54                           1.30   \n",
              "2                             7.16                           5.44   \n",
              "3                            46.92                          30.81   \n",
              "4                             2.43                           2.31   \n",
              "5                             6.13                           4.05   \n",
              "6                             7.37                           7.37   \n",
              "7                             1.01                           0.80   \n",
              "8                             0.76                           0.76   \n",
              "9                             0.40                           0.40   \n",
              "10                            0.43                           0.43   \n",
              "11                            4.60                           3.91   \n",
              "12                            7.18                            NaN   \n",
              "13                            0.21                           0.19   \n",
              "14                            2.14                           1.48   \n",
              "15                           10.84                          10.84   \n",
              "16                            0.04                           0.04   \n",
              "\n",
              "    people_fully_vaccinated_per_hundred  daily_vaccinations_per_million  \\\n",
              "0                                  1.38                          2211.0   \n",
              "1                                  0.24                           470.0   \n",
              "2                                  1.72                          1963.0   \n",
              "3                                 16.11                         11358.0   \n",
              "4                                  0.12                           910.0   \n",
              "5                                  2.09                          1804.0   \n",
              "6                                   NaN                          1440.0   \n",
              "7                                  0.22                           313.0   \n",
              "8                                   NaN                           529.0   \n",
              "9                                   NaN                           240.0   \n",
              "10                                  NaN                           527.0   \n",
              "11                                 0.57                          1547.0   \n",
              "12                                  NaN                          1849.0   \n",
              "13                                  NaN                            53.0   \n",
              "14                                 0.67                           654.0   \n",
              "15                                  NaN                          6420.0   \n",
              "16                                  NaN                            42.0   \n",
              "\n",
              "                                        source_name  \\\n",
              "0                                Ministry of Health   \n",
              "1                                Ministry of Health   \n",
              "2                                Ministry of Health   \n",
              "3   Department of Statistics and Health Information   \n",
              "4   Ministry of Health via Universidad de La Sabana   \n",
              "5                  Costa Rican Social Security Fund   \n",
              "6                         Ministry of Public Health   \n",
              "7               Government of Ecuador via Ecuacovid   \n",
              "8                                Ministry of Health   \n",
              "9                                Ministry of Health   \n",
              "10                           Government of Honduras   \n",
              "11                              Secretary of Health   \n",
              "12                               Ministry of Health   \n",
              "13                           Government of Paraguay   \n",
              "14                               Ministry of Health   \n",
              "15                               Ministry of Health   \n",
              "16                          Government of Venezuela   \n",
              "\n",
              "                                       source_website  \n",
              "0   http://datos.salud.gob.ar/dataset/vacunas-cont...  \n",
              "1   https://twitter.com/SaludDeportesBo/status/137...  \n",
              "2   https://viz.saude.gov.br/extensions/DEMAS_C19V...  \n",
              "3                      https://www.gob.cl/yomevacuno/  \n",
              "4   https://www.minsalud.gov.co/salud/publica/Vacu...  \n",
              "5   https://www.ccss.sa.cr/web/coronavirus/vacunacion  \n",
              "6   https://twitter.com/SaludPublicaRD/status/1374...  \n",
              "7                 https://github.com/andrab/ecuacovid  \n",
              "8   https://www.laprensagrafica.com/covid-19/El-Sa...  \n",
              "9   https://gtmvigilanciacovid.shinyapps.io/3869aa...  \n",
              "10  https://www.laprensa.hn/honduras/1451346-410/h...  \n",
              "11  https://www.gob.mx/salud/prensa/122-aplicacion...  \n",
              "12  https://twitter.com/EstrellaOnline/status/1373...  \n",
              "13  https://vacunate.mspbs.gov.py/index-listado-va...  \n",
              "14  https://www.datosabiertos.gob.pe/dataset/vacun...  \n",
              "15            https://monitor.uruguaysevacuna.gub.uy/  \n",
              "16  https://www.semana.com/mundo/articulo/y-el-car...  "
            ]
          },
          "execution_count": 7,
          "metadata": {},
          "output_type": "execute_result"
        }
      ],
      "source": [
        "# Crear Dataset para Latinoamérica\n",
        "vaccination_df_latam = vaccination_df[vaccination_df['country'].isin(latam_countries)]\n",
        "vaccination_df_latam_copy = vaccination_df_latam.dropna()\n",
        "vaccination_df_latam = vaccination_df_latam.groupby(['country', 'iso_code', 'vaccines']).last().reset_index()\n",
        "print('Subconjuntos de datos creado!')\n",
        "print('Shape: {} rows x {} columns.'.format(vaccination_df_latam.shape[0], vaccination_df_latam.shape[1]))\n",
        "print('Contiene datos de {} países diferentes.'.format(vaccination_df_latam['country'].nunique()))\n",
        "\n",
        "# Visualizar información del Dataset\n",
        "print(vaccination_df_latam.info())\n",
        "\n",
        "# Visualizar el Dataset para Latinoamérica \n",
        "vaccination_df_latam"
      ]
    },
    {
      "cell_type": "markdown",
      "metadata": {
        "id": "Jgm9tELr4e3E"
      },
      "source": [
        "Cabe recordar que el DataFrame *vaccination_df* contiene datos desde el inicio de la vacunación para cada país. En consecuencia, primero debemos utilizar el método `groupby ()` para agrupar los datos en función de tres características: *'country', 'iso_code', 'vaccines'*. \n",
        "Estamos interesados ​​en el último día; por lo tanto, conservaremos la última entrada de cada grupo."
      ]
    },
    {
      "cell_type": "code",
      "execution_count": 8,
      "metadata": {
        "colab": {
          "base_uri": "https://localhost:8080/",
          "height": 570
        },
        "id": "sSfIUrc94e3F",
        "outputId": "29bbbad7-a223-4231-afa3-bb03c8c20341"
      },
      "outputs": [
        {
          "name": "stdout",
          "output_type": "stream",
          "text": [
            "Subconjuntos de datos creado!\n",
            "Shape: 1 rows x 15 columns.\n",
            "Contiene datos de 1 país.\n",
            "<class 'pandas.core.frame.DataFrame'>\n",
            "Int64Index: 1 entries, 4 to 4\n",
            "Data columns (total 15 columns):\n",
            " #   Column                               Non-Null Count  Dtype         \n",
            "---  ------                               --------------  -----         \n",
            " 0   country                              1 non-null      object        \n",
            " 1   iso_code                             1 non-null      object        \n",
            " 2   vaccines                             1 non-null      object        \n",
            " 3   date                                 1 non-null      datetime64[ns]\n",
            " 4   total_vaccinations                   1 non-null      float64       \n",
            " 5   people_vaccinated                    1 non-null      float64       \n",
            " 6   people_fully_vaccinated              1 non-null      float64       \n",
            " 7   daily_vaccinations_raw               1 non-null      float64       \n",
            " 8   daily_vaccinations                   1 non-null      float64       \n",
            " 9   total_vaccinations_per_hundred       1 non-null      float64       \n",
            " 10  people_vaccinated_per_hundred        1 non-null      float64       \n",
            " 11  people_fully_vaccinated_per_hundred  1 non-null      float64       \n",
            " 12  daily_vaccinations_per_million       1 non-null      float64       \n",
            " 13  source_name                          1 non-null      object        \n",
            " 14  source_website                       1 non-null      object        \n",
            "dtypes: datetime64[ns](1), float64(9), object(5)\n",
            "memory usage: 128.0+ bytes\n",
            "None\n"
          ]
        },
        {
          "data": {
            "text/html": "<div>\n<style scoped>\n    .dataframe tbody tr th:only-of-type {\n        vertical-align: middle;\n    }\n\n    .dataframe tbody tr th {\n        vertical-align: top;\n    }\n\n    .dataframe thead th {\n        text-align: right;\n    }\n</style>\n<table border=\"1\" class=\"dataframe\">\n  <thead>\n    <tr style=\"text-align: right;\">\n      <th></th>\n      <th>country</th>\n      <th>iso_code</th>\n      <th>vaccines</th>\n      <th>date</th>\n      <th>total_vaccinations</th>\n      <th>people_vaccinated</th>\n      <th>people_fully_vaccinated</th>\n      <th>daily_vaccinations_raw</th>\n      <th>daily_vaccinations</th>\n      <th>total_vaccinations_per_hundred</th>\n      <th>people_vaccinated_per_hundred</th>\n      <th>people_fully_vaccinated_per_hundred</th>\n      <th>daily_vaccinations_per_million</th>\n      <th>source_name</th>\n      <th>source_website</th>\n    </tr>\n  </thead>\n  <tbody>\n    <tr>\n      <th>4</th>\n      <td>Colombia</td>\n      <td>COL</td>\n      <td>Pfizer/BioNTech, Sinovac</td>\n      <td>2021-03-22</td>\n      <td>1238259.0</td>\n      <td>1177935.0</td>\n      <td>60324.0</td>\n      <td>23251.0</td>\n      <td>46328.0</td>\n      <td>2.43</td>\n      <td>2.31</td>\n      <td>0.12</td>\n      <td>910.0</td>\n      <td>Ministry of Health via Universidad de La Sabana</td>\n      <td>https://www.minsalud.gov.co/salud/publica/Vacu...</td>\n    </tr>\n  </tbody>\n</table>\n</div>",
            "text/plain": [
              "    country iso_code                  vaccines       date  total_vaccinations  \\\n",
              "4  Colombia      COL  Pfizer/BioNTech, Sinovac 2021-03-22           1238259.0   \n",
              "\n",
              "   people_vaccinated  people_fully_vaccinated  daily_vaccinations_raw  \\\n",
              "4          1177935.0                  60324.0                 23251.0   \n",
              "\n",
              "   daily_vaccinations  total_vaccinations_per_hundred  \\\n",
              "4             46328.0                            2.43   \n",
              "\n",
              "   people_vaccinated_per_hundred  people_fully_vaccinated_per_hundred  \\\n",
              "4                           2.31                                 0.12   \n",
              "\n",
              "   daily_vaccinations_per_million  \\\n",
              "4                           910.0   \n",
              "\n",
              "                                       source_name  \\\n",
              "4  Ministry of Health via Universidad de La Sabana   \n",
              "\n",
              "                                      source_website  \n",
              "4  https://www.minsalud.gov.co/salud/publica/Vacu...  "
            ]
          },
          "execution_count": 8,
          "metadata": {},
          "output_type": "execute_result"
        }
      ],
      "source": [
        "# Crear Dataset para Colombia\n",
        "colombia = pd.Series('Colombia')\n",
        "vaccination_df_col = vaccination_df_latam.groupby(['country', 'iso_code', 'vaccines']).last().reset_index()\n",
        "vaccination_df_col = vaccination_df_col[vaccination_df_col['country'].isin(colombia)]\n",
        "print('Subconjuntos de datos creado!')\n",
        "print('Shape: {} rows x {} columns.'.format(vaccination_df_col.shape[0], vaccination_df_col.shape[1]))\n",
        "print('Contiene datos de {} país.'.format(vaccination_df_col['country'].nunique()))\n",
        "\n",
        "# Visualizar información del Dataset\n",
        "print(vaccination_df_col.info())\n",
        "\n",
        "# Visualizar Dataset\n",
        "vaccination_df_col.sample(1)"
      ]
    },
    {
      "cell_type": "code",
      "execution_count": 9,
      "metadata": {
        "colab": {
          "base_uri": "https://localhost:8080/",
          "height": 678
        },
        "id": "fmvm-vvUkYol",
        "outputId": "ce580f10-239a-41ef-9156-4c441d970a20"
      },
      "outputs": [
        {
          "name": "stdout",
          "output_type": "stream",
          "text": [
            "La fecha más reciente en común para todos los países (LATAM/COL) es: 2021-03-22\n"
          ]
        },
        {
          "data": {
            "text/html": "<div>\n<style scoped>\n    .dataframe tbody tr th:only-of-type {\n        vertical-align: middle;\n    }\n\n    .dataframe tbody tr th {\n        vertical-align: top;\n    }\n\n    .dataframe thead th {\n        text-align: right;\n    }\n</style>\n<table border=\"1\" class=\"dataframe\">\n  <thead>\n    <tr style=\"text-align: right;\">\n      <th></th>\n      <th>country</th>\n      <th>iso_code</th>\n      <th>vaccines</th>\n      <th>date</th>\n      <th>total_vaccinations</th>\n      <th>people_vaccinated</th>\n      <th>people_fully_vaccinated</th>\n      <th>daily_vaccinations_raw</th>\n      <th>daily_vaccinations</th>\n      <th>total_vaccinations_per_hundred</th>\n      <th>people_vaccinated_per_hundred</th>\n      <th>people_fully_vaccinated_per_hundred</th>\n      <th>daily_vaccinations_per_million</th>\n      <th>source_name</th>\n      <th>source_website</th>\n    </tr>\n  </thead>\n  <tbody>\n    <tr>\n      <th>0</th>\n      <td>Argentina</td>\n      <td>ARG</td>\n      <td>Oxford/AstraZeneca, Sinopharm/Beijing, Sputnik V</td>\n      <td>2021-03-23</td>\n      <td>3240731.0</td>\n      <td>2618750.0</td>\n      <td>621981.0</td>\n      <td>98287.0</td>\n      <td>99910.0</td>\n      <td>7.17</td>\n      <td>5.79</td>\n      <td>1.38</td>\n      <td>2211.0</td>\n      <td>Ministry of Health</td>\n      <td>http://datos.salud.gob.ar/dataset/vacunas-cont...</td>\n    </tr>\n    <tr>\n      <th>1</th>\n      <td>Bolivia</td>\n      <td>BOL</td>\n      <td>Sputnik V</td>\n      <td>2021-03-22</td>\n      <td>180187.0</td>\n      <td>151952.0</td>\n      <td>28235.0</td>\n      <td>11710.0</td>\n      <td>5482.0</td>\n      <td>1.54</td>\n      <td>1.30</td>\n      <td>0.24</td>\n      <td>470.0</td>\n      <td>Ministry of Health</td>\n      <td>https://twitter.com/SaludDeportesBo/status/137...</td>\n    </tr>\n    <tr>\n      <th>2</th>\n      <td>Brazil</td>\n      <td>BRA</td>\n      <td>Oxford/AstraZeneca, Sinovac</td>\n      <td>2021-03-23</td>\n      <td>15209201.0</td>\n      <td>11559487.0</td>\n      <td>3649714.0</td>\n      <td>1092641.0</td>\n      <td>417182.0</td>\n      <td>7.16</td>\n      <td>5.44</td>\n      <td>1.72</td>\n      <td>1963.0</td>\n      <td>Ministry of Health</td>\n      <td>https://viz.saude.gov.br/extensions/DEMAS_C19V...</td>\n    </tr>\n    <tr>\n      <th>3</th>\n      <td>Chile</td>\n      <td>CHL</td>\n      <td>Pfizer/BioNTech, Sinovac</td>\n      <td>2021-03-23</td>\n      <td>8968634.0</td>\n      <td>5889862.0</td>\n      <td>3078772.0</td>\n      <td>224219.0</td>\n      <td>217127.0</td>\n      <td>46.92</td>\n      <td>30.81</td>\n      <td>16.11</td>\n      <td>11358.0</td>\n      <td>Department of Statistics and Health Information</td>\n      <td>https://www.gob.cl/yomevacuno/</td>\n    </tr>\n    <tr>\n      <th>4</th>\n      <td>Colombia</td>\n      <td>COL</td>\n      <td>Pfizer/BioNTech, Sinovac</td>\n      <td>2021-03-22</td>\n      <td>1238259.0</td>\n      <td>1177935.0</td>\n      <td>60324.0</td>\n      <td>23251.0</td>\n      <td>46328.0</td>\n      <td>2.43</td>\n      <td>2.31</td>\n      <td>0.12</td>\n      <td>910.0</td>\n      <td>Ministry of Health via Universidad de La Sabana</td>\n      <td>https://www.minsalud.gov.co/salud/publica/Vacu...</td>\n    </tr>\n    <tr>\n      <th>5</th>\n      <td>Costa Rica</td>\n      <td>CRI</td>\n      <td>Pfizer/BioNTech</td>\n      <td>2021-03-22</td>\n      <td>312425.0</td>\n      <td>206198.0</td>\n      <td>106227.0</td>\n      <td>NaN</td>\n      <td>9192.0</td>\n      <td>6.13</td>\n      <td>4.05</td>\n      <td>2.09</td>\n      <td>1804.0</td>\n      <td>Costa Rican Social Security Fund</td>\n      <td>https://www.ccss.sa.cr/web/coronavirus/vacunacion</td>\n    </tr>\n    <tr>\n      <th>6</th>\n      <td>Dominican Republic</td>\n      <td>DOM</td>\n      <td>Oxford/AstraZeneca, Sinovac</td>\n      <td>2021-03-23</td>\n      <td>800000.0</td>\n      <td>800000.0</td>\n      <td>NaN</td>\n      <td>58915.0</td>\n      <td>15625.0</td>\n      <td>7.37</td>\n      <td>7.37</td>\n      <td>NaN</td>\n      <td>1440.0</td>\n      <td>Ministry of Public Health</td>\n      <td>https://twitter.com/SaludPublicaRD/status/1374...</td>\n    </tr>\n    <tr>\n      <th>7</th>\n      <td>Ecuador</td>\n      <td>ECU</td>\n      <td>Pfizer/BioNTech</td>\n      <td>2021-03-21</td>\n      <td>178970.0</td>\n      <td>140765.0</td>\n      <td>38205.0</td>\n      <td>16183.0</td>\n      <td>5528.0</td>\n      <td>1.01</td>\n      <td>0.80</td>\n      <td>0.22</td>\n      <td>313.0</td>\n      <td>Government of Ecuador via Ecuacovid</td>\n      <td>https://github.com/andrab/ecuacovid</td>\n    </tr>\n    <tr>\n      <th>8</th>\n      <td>El Salvador</td>\n      <td>SLV</td>\n      <td>Oxford/AstraZeneca</td>\n      <td>2021-03-21</td>\n      <td>49000.0</td>\n      <td>49000.0</td>\n      <td>NaN</td>\n      <td>5512.0</td>\n      <td>3429.0</td>\n      <td>0.76</td>\n      <td>0.76</td>\n      <td>NaN</td>\n      <td>529.0</td>\n      <td>Ministry of Health</td>\n      <td>https://www.laprensagrafica.com/covid-19/El-Sa...</td>\n    </tr>\n    <tr>\n      <th>9</th>\n      <td>Guatemala</td>\n      <td>GTM</td>\n      <td>Moderna</td>\n      <td>2021-03-22</td>\n      <td>72405.0</td>\n      <td>72405.0</td>\n      <td>NaN</td>\n      <td>3139.0</td>\n      <td>4296.0</td>\n      <td>0.40</td>\n      <td>0.40</td>\n      <td>NaN</td>\n      <td>240.0</td>\n      <td>Ministry of Health</td>\n      <td>https://gtmvigilanciacovid.shinyapps.io/3869aa...</td>\n    </tr>\n    <tr>\n      <th>10</th>\n      <td>Honduras</td>\n      <td>HND</td>\n      <td>Moderna, Oxford/AstraZeneca</td>\n      <td>2021-03-21</td>\n      <td>43073.0</td>\n      <td>43073.0</td>\n      <td>NaN</td>\n      <td>21470.0</td>\n      <td>5218.0</td>\n      <td>0.43</td>\n      <td>0.43</td>\n      <td>NaN</td>\n      <td>527.0</td>\n      <td>Government of Honduras</td>\n      <td>https://www.laprensa.hn/honduras/1451346-410/h...</td>\n    </tr>\n    <tr>\n      <th>11</th>\n      <td>Mexico</td>\n      <td>MEX</td>\n      <td>Oxford/AstraZeneca, Pfizer/BioNTech, Sputnik V</td>\n      <td>2021-03-23</td>\n      <td>5926967.0</td>\n      <td>5046896.0</td>\n      <td>734463.0</td>\n      <td>145608.0</td>\n      <td>199455.0</td>\n      <td>4.60</td>\n      <td>3.91</td>\n      <td>0.57</td>\n      <td>1547.0</td>\n      <td>Secretary of Health</td>\n      <td>https://www.gob.mx/salud/prensa/122-aplicacion...</td>\n    </tr>\n    <tr>\n      <th>12</th>\n      <td>Panama</td>\n      <td>PAN</td>\n      <td>Pfizer/BioNTech</td>\n      <td>2021-03-21</td>\n      <td>309660.0</td>\n      <td>NaN</td>\n      <td>NaN</td>\n      <td>336.0</td>\n      <td>7980.0</td>\n      <td>7.18</td>\n      <td>NaN</td>\n      <td>NaN</td>\n      <td>1849.0</td>\n      <td>Ministry of Health</td>\n      <td>https://twitter.com/EstrellaOnline/status/1373...</td>\n    </tr>\n    <tr>\n      <th>13</th>\n      <td>Paraguay</td>\n      <td>PRY</td>\n      <td>Sputnik V</td>\n      <td>2021-03-22</td>\n      <td>14724.0</td>\n      <td>13329.0</td>\n      <td>NaN</td>\n      <td>1.0</td>\n      <td>379.0</td>\n      <td>0.21</td>\n      <td>0.19</td>\n      <td>NaN</td>\n      <td>53.0</td>\n      <td>Government of Paraguay</td>\n      <td>https://vacunate.mspbs.gov.py/index-listado-va...</td>\n    </tr>\n    <tr>\n      <th>14</th>\n      <td>Peru</td>\n      <td>PER</td>\n      <td>Sinopharm/Beijing</td>\n      <td>2021-03-22</td>\n      <td>706750.0</td>\n      <td>487486.0</td>\n      <td>219264.0</td>\n      <td>9517.0</td>\n      <td>21579.0</td>\n      <td>2.14</td>\n      <td>1.48</td>\n      <td>0.67</td>\n      <td>654.0</td>\n      <td>Ministry of Health</td>\n      <td>https://www.datosabiertos.gob.pe/dataset/vacun...</td>\n    </tr>\n    <tr>\n      <th>15</th>\n      <td>Uruguay</td>\n      <td>URY</td>\n      <td>Pfizer/BioNTech, Sinovac</td>\n      <td>2021-03-23</td>\n      <td>376693.0</td>\n      <td>376693.0</td>\n      <td>NaN</td>\n      <td>30261.0</td>\n      <td>22301.0</td>\n      <td>10.84</td>\n      <td>10.84</td>\n      <td>NaN</td>\n      <td>6420.0</td>\n      <td>Ministry of Health</td>\n      <td>https://monitor.uruguaysevacuna.gub.uy/</td>\n    </tr>\n    <tr>\n      <th>16</th>\n      <td>Venezuela</td>\n      <td>VEN</td>\n      <td>Sputnik V</td>\n      <td>2021-03-04</td>\n      <td>12194.0</td>\n      <td>12194.0</td>\n      <td>NaN</td>\n      <td>NaN</td>\n      <td>1204.0</td>\n      <td>0.04</td>\n      <td>0.04</td>\n      <td>NaN</td>\n      <td>42.0</td>\n      <td>Government of Venezuela</td>\n      <td>https://www.semana.com/mundo/articulo/y-el-car...</td>\n    </tr>\n  </tbody>\n</table>\n</div>",
            "text/plain": [
              "               country iso_code  \\\n",
              "0            Argentina      ARG   \n",
              "1              Bolivia      BOL   \n",
              "2               Brazil      BRA   \n",
              "3                Chile      CHL   \n",
              "4             Colombia      COL   \n",
              "5           Costa Rica      CRI   \n",
              "6   Dominican Republic      DOM   \n",
              "7              Ecuador      ECU   \n",
              "8          El Salvador      SLV   \n",
              "9            Guatemala      GTM   \n",
              "10            Honduras      HND   \n",
              "11              Mexico      MEX   \n",
              "12              Panama      PAN   \n",
              "13            Paraguay      PRY   \n",
              "14                Peru      PER   \n",
              "15             Uruguay      URY   \n",
              "16           Venezuela      VEN   \n",
              "\n",
              "                                            vaccines       date  \\\n",
              "0   Oxford/AstraZeneca, Sinopharm/Beijing, Sputnik V 2021-03-23   \n",
              "1                                          Sputnik V 2021-03-22   \n",
              "2                        Oxford/AstraZeneca, Sinovac 2021-03-23   \n",
              "3                           Pfizer/BioNTech, Sinovac 2021-03-23   \n",
              "4                           Pfizer/BioNTech, Sinovac 2021-03-22   \n",
              "5                                    Pfizer/BioNTech 2021-03-22   \n",
              "6                        Oxford/AstraZeneca, Sinovac 2021-03-23   \n",
              "7                                    Pfizer/BioNTech 2021-03-21   \n",
              "8                                 Oxford/AstraZeneca 2021-03-21   \n",
              "9                                            Moderna 2021-03-22   \n",
              "10                       Moderna, Oxford/AstraZeneca 2021-03-21   \n",
              "11    Oxford/AstraZeneca, Pfizer/BioNTech, Sputnik V 2021-03-23   \n",
              "12                                   Pfizer/BioNTech 2021-03-21   \n",
              "13                                         Sputnik V 2021-03-22   \n",
              "14                                 Sinopharm/Beijing 2021-03-22   \n",
              "15                          Pfizer/BioNTech, Sinovac 2021-03-23   \n",
              "16                                         Sputnik V 2021-03-04   \n",
              "\n",
              "    total_vaccinations  people_vaccinated  people_fully_vaccinated  \\\n",
              "0            3240731.0          2618750.0                 621981.0   \n",
              "1             180187.0           151952.0                  28235.0   \n",
              "2           15209201.0         11559487.0                3649714.0   \n",
              "3            8968634.0          5889862.0                3078772.0   \n",
              "4            1238259.0          1177935.0                  60324.0   \n",
              "5             312425.0           206198.0                 106227.0   \n",
              "6             800000.0           800000.0                      NaN   \n",
              "7             178970.0           140765.0                  38205.0   \n",
              "8              49000.0            49000.0                      NaN   \n",
              "9              72405.0            72405.0                      NaN   \n",
              "10             43073.0            43073.0                      NaN   \n",
              "11           5926967.0          5046896.0                 734463.0   \n",
              "12            309660.0                NaN                      NaN   \n",
              "13             14724.0            13329.0                      NaN   \n",
              "14            706750.0           487486.0                 219264.0   \n",
              "15            376693.0           376693.0                      NaN   \n",
              "16             12194.0            12194.0                      NaN   \n",
              "\n",
              "    daily_vaccinations_raw  daily_vaccinations  \\\n",
              "0                  98287.0             99910.0   \n",
              "1                  11710.0              5482.0   \n",
              "2                1092641.0            417182.0   \n",
              "3                 224219.0            217127.0   \n",
              "4                  23251.0             46328.0   \n",
              "5                      NaN              9192.0   \n",
              "6                  58915.0             15625.0   \n",
              "7                  16183.0              5528.0   \n",
              "8                   5512.0              3429.0   \n",
              "9                   3139.0              4296.0   \n",
              "10                 21470.0              5218.0   \n",
              "11                145608.0            199455.0   \n",
              "12                   336.0              7980.0   \n",
              "13                     1.0               379.0   \n",
              "14                  9517.0             21579.0   \n",
              "15                 30261.0             22301.0   \n",
              "16                     NaN              1204.0   \n",
              "\n",
              "    total_vaccinations_per_hundred  people_vaccinated_per_hundred  \\\n",
              "0                             7.17                           5.79   \n",
              "1                             1.54                           1.30   \n",
              "2                             7.16                           5.44   \n",
              "3                            46.92                          30.81   \n",
              "4                             2.43                           2.31   \n",
              "5                             6.13                           4.05   \n",
              "6                             7.37                           7.37   \n",
              "7                             1.01                           0.80   \n",
              "8                             0.76                           0.76   \n",
              "9                             0.40                           0.40   \n",
              "10                            0.43                           0.43   \n",
              "11                            4.60                           3.91   \n",
              "12                            7.18                            NaN   \n",
              "13                            0.21                           0.19   \n",
              "14                            2.14                           1.48   \n",
              "15                           10.84                          10.84   \n",
              "16                            0.04                           0.04   \n",
              "\n",
              "    people_fully_vaccinated_per_hundred  daily_vaccinations_per_million  \\\n",
              "0                                  1.38                          2211.0   \n",
              "1                                  0.24                           470.0   \n",
              "2                                  1.72                          1963.0   \n",
              "3                                 16.11                         11358.0   \n",
              "4                                  0.12                           910.0   \n",
              "5                                  2.09                          1804.0   \n",
              "6                                   NaN                          1440.0   \n",
              "7                                  0.22                           313.0   \n",
              "8                                   NaN                           529.0   \n",
              "9                                   NaN                           240.0   \n",
              "10                                  NaN                           527.0   \n",
              "11                                 0.57                          1547.0   \n",
              "12                                  NaN                          1849.0   \n",
              "13                                  NaN                            53.0   \n",
              "14                                 0.67                           654.0   \n",
              "15                                  NaN                          6420.0   \n",
              "16                                  NaN                            42.0   \n",
              "\n",
              "                                        source_name  \\\n",
              "0                                Ministry of Health   \n",
              "1                                Ministry of Health   \n",
              "2                                Ministry of Health   \n",
              "3   Department of Statistics and Health Information   \n",
              "4   Ministry of Health via Universidad de La Sabana   \n",
              "5                  Costa Rican Social Security Fund   \n",
              "6                         Ministry of Public Health   \n",
              "7               Government of Ecuador via Ecuacovid   \n",
              "8                                Ministry of Health   \n",
              "9                                Ministry of Health   \n",
              "10                           Government of Honduras   \n",
              "11                              Secretary of Health   \n",
              "12                               Ministry of Health   \n",
              "13                           Government of Paraguay   \n",
              "14                               Ministry of Health   \n",
              "15                               Ministry of Health   \n",
              "16                          Government of Venezuela   \n",
              "\n",
              "                                       source_website  \n",
              "0   http://datos.salud.gob.ar/dataset/vacunas-cont...  \n",
              "1   https://twitter.com/SaludDeportesBo/status/137...  \n",
              "2   https://viz.saude.gov.br/extensions/DEMAS_C19V...  \n",
              "3                      https://www.gob.cl/yomevacuno/  \n",
              "4   https://www.minsalud.gov.co/salud/publica/Vacu...  \n",
              "5   https://www.ccss.sa.cr/web/coronavirus/vacunacion  \n",
              "6   https://twitter.com/SaludPublicaRD/status/1374...  \n",
              "7                 https://github.com/andrab/ecuacovid  \n",
              "8   https://www.laprensagrafica.com/covid-19/El-Sa...  \n",
              "9   https://gtmvigilanciacovid.shinyapps.io/3869aa...  \n",
              "10  https://www.laprensa.hn/honduras/1451346-410/h...  \n",
              "11  https://www.gob.mx/salud/prensa/122-aplicacion...  \n",
              "12  https://twitter.com/EstrellaOnline/status/1373...  \n",
              "13  https://vacunate.mspbs.gov.py/index-listado-va...  \n",
              "14  https://www.datosabiertos.gob.pe/dataset/vacun...  \n",
              "15            https://monitor.uruguaysevacuna.gub.uy/  \n",
              "16  https://www.semana.com/mundo/articulo/y-el-car...  "
            ]
          },
          "execution_count": 9,
          "metadata": {},
          "output_type": "execute_result"
        }
      ],
      "source": [
        "# Inspección de los Datasets: Hallar fecha en común más reciente.\n",
        "final_date = vaccination_df_col['date'].unique().min()\n",
        "final_date_str = str(pd.to_datetime(final_date).date())\n",
        "#vaccination_df_latam = vaccination_df_latam[vaccination_df_latam['date'] <= final_date_str]\n",
        "print('La fecha más reciente en común para todos los países (LATAM/COL) es:', final_date_str)\n",
        "\n",
        "vaccination_df_latam"
      ]
    },
    {
      "cell_type": "markdown",
      "metadata": {
        "id": "HMg3nphN4e3J"
      },
      "source": [
        "### 2.4 Procesamiento del Dataset sobre Datos Geoespaciales\n",
        "\n",
        "A continuación se crea un subconjunto de datos correspondiente únicamente a los países de *latam_countries* con base en el Dataset *map_df*."
      ]
    },
    {
      "cell_type": "code",
      "execution_count": 10,
      "metadata": {
        "colab": {
          "base_uri": "https://localhost:8080/",
          "height": 871
        },
        "id": "DeiXTz-34e3K",
        "outputId": "d54b6d82-4c37-4631-87a7-abcd4a87b753"
      },
      "outputs": [
        {
          "name": "stdout",
          "output_type": "stream",
          "text": [
            "Subconjuntos de datos creado!\n",
            "Shape: 19 rows x 2 columns.\n",
            "Contiene datos de 19 países diferentes.\n",
            "<class 'geopandas.geodataframe.GeoDataFrame'>\n",
            "Int64Index: 19 entries, 8 to 243\n",
            "Data columns (total 2 columns):\n",
            " #   Column    Non-Null Count  Dtype   \n",
            "---  ------    --------------  -----   \n",
            " 0   country   19 non-null     object  \n",
            " 1   geometry  19 non-null     geometry\n",
            "dtypes: geometry(1), object(1)\n",
            "memory usage: 456.0+ bytes\n",
            "None\n"
          ]
        },
        {
          "data": {
            "text/html": "<div>\n<style scoped>\n    .dataframe tbody tr th:only-of-type {\n        vertical-align: middle;\n    }\n\n    .dataframe tbody tr th {\n        vertical-align: top;\n    }\n\n    .dataframe thead th {\n        text-align: right;\n    }\n</style>\n<table border=\"1\" class=\"dataframe\">\n  <thead>\n    <tr style=\"text-align: right;\">\n      <th></th>\n      <th>country</th>\n      <th>geometry</th>\n    </tr>\n  </thead>\n  <tbody>\n    <tr>\n      <th>8</th>\n      <td>Argentina</td>\n      <td>MULTIPOLYGON (((-68.65412 -54.88624, -68.65413...</td>\n    </tr>\n    <tr>\n      <th>32</th>\n      <td>Bolivia</td>\n      <td>POLYGON ((-65.29247 -11.50472, -65.25756 -11.4...</td>\n    </tr>\n    <tr>\n      <th>33</th>\n      <td>Brazil</td>\n      <td>MULTIPOLYGON (((-48.54259 -27.81666, -48.55187...</td>\n    </tr>\n    <tr>\n      <th>41</th>\n      <td>Chile</td>\n      <td>MULTIPOLYGON (((-67.25609 -55.82887, -67.24511...</td>\n    </tr>\n    <tr>\n      <th>50</th>\n      <td>Colombia</td>\n      <td>MULTIPOLYGON (((-78.20489 2.68734, -78.18768 2...</td>\n    </tr>\n    <tr>\n      <th>53</th>\n      <td>Costa Rica</td>\n      <td>MULTIPOLYGON (((-87.09903 5.51602, -87.11767 5...</td>\n    </tr>\n    <tr>\n      <th>55</th>\n      <td>Cuba</td>\n      <td>MULTIPOLYGON (((-78.38419 20.56216, -78.36726 ...</td>\n    </tr>\n    <tr>\n      <th>65</th>\n      <td>Dominican Republic</td>\n      <td>MULTIPOLYGON (((-71.50740 17.55126, -71.52448 ...</td>\n    </tr>\n    <tr>\n      <th>67</th>\n      <td>Ecuador</td>\n      <td>MULTIPOLYGON (((-80.11510 -2.99798, -80.13103 ...</td>\n    </tr>\n    <tr>\n      <th>93</th>\n      <td>Guatemala</td>\n      <td>POLYGON ((-89.16050 17.81431, -89.15622 17.598...</td>\n    </tr>\n    <tr>\n      <th>98</th>\n      <td>Honduras</td>\n      <td>MULTIPOLYGON (((-87.62434 13.25292, -87.64656 ...</td>\n    </tr>\n    <tr>\n      <th>146</th>\n      <td>Mexico</td>\n      <td>MULTIPOLYGON (((-114.73404 18.32925, -114.7405...</td>\n    </tr>\n    <tr>\n      <th>166</th>\n      <td>Nicaragua</td>\n      <td>MULTIPOLYGON (((-83.72037 11.88369, -83.71984 ...</td>\n    </tr>\n    <tr>\n      <th>175</th>\n      <td>Panama</td>\n      <td>MULTIPOLYGON (((-81.80720 7.29157, -81.80773 7...</td>\n    </tr>\n    <tr>\n      <th>177</th>\n      <td>Peru</td>\n      <td>MULTIPOLYGON (((-76.17566 -14.28838, -76.17959...</td>\n    </tr>\n    <tr>\n      <th>186</th>\n      <td>Paraguay</td>\n      <td>POLYGON ((-58.15880 -20.16512, -58.15833 -20.1...</td>\n    </tr>\n    <tr>\n      <th>205</th>\n      <td>El Salvador</td>\n      <td>MULTIPOLYGON (((-87.69700 13.17806, -87.69319 ...</td>\n    </tr>\n    <tr>\n      <th>237</th>\n      <td>Uruguay</td>\n      <td>POLYGON ((-56.90637 -30.10855, -56.86921 -30.1...</td>\n    </tr>\n    <tr>\n      <th>243</th>\n      <td>Venezuela</td>\n      <td>MULTIPOLYGON (((-61.39027 8.58058, -61.36986 8...</td>\n    </tr>\n  </tbody>\n</table>\n</div>",
            "text/plain": [
              "                country                                           geometry\n",
              "8             Argentina  MULTIPOLYGON (((-68.65412 -54.88624, -68.65413...\n",
              "32              Bolivia  POLYGON ((-65.29247 -11.50472, -65.25756 -11.4...\n",
              "33               Brazil  MULTIPOLYGON (((-48.54259 -27.81666, -48.55187...\n",
              "41                Chile  MULTIPOLYGON (((-67.25609 -55.82887, -67.24511...\n",
              "50             Colombia  MULTIPOLYGON (((-78.20489 2.68734, -78.18768 2...\n",
              "53           Costa Rica  MULTIPOLYGON (((-87.09903 5.51602, -87.11767 5...\n",
              "55                 Cuba  MULTIPOLYGON (((-78.38419 20.56216, -78.36726 ...\n",
              "65   Dominican Republic  MULTIPOLYGON (((-71.50740 17.55126, -71.52448 ...\n",
              "67              Ecuador  MULTIPOLYGON (((-80.11510 -2.99798, -80.13103 ...\n",
              "93            Guatemala  POLYGON ((-89.16050 17.81431, -89.15622 17.598...\n",
              "98             Honduras  MULTIPOLYGON (((-87.62434 13.25292, -87.64656 ...\n",
              "146              Mexico  MULTIPOLYGON (((-114.73404 18.32925, -114.7405...\n",
              "166           Nicaragua  MULTIPOLYGON (((-83.72037 11.88369, -83.71984 ...\n",
              "175              Panama  MULTIPOLYGON (((-81.80720 7.29157, -81.80773 7...\n",
              "177                Peru  MULTIPOLYGON (((-76.17566 -14.28838, -76.17959...\n",
              "186            Paraguay  POLYGON ((-58.15880 -20.16512, -58.15833 -20.1...\n",
              "205         El Salvador  MULTIPOLYGON (((-87.69700 13.17806, -87.69319 ...\n",
              "237             Uruguay  POLYGON ((-56.90637 -30.10855, -56.86921 -30.1...\n",
              "243           Venezuela  MULTIPOLYGON (((-61.39027 8.58058, -61.36986 8..."
            ]
          },
          "execution_count": 10,
          "metadata": {},
          "output_type": "execute_result"
        }
      ],
      "source": [
        "# Crear Dataset para Latinoamérica\n",
        "map_df_latam = map_df[map_df['country'].isin(latam_countries)]\n",
        "print('Subconjuntos de datos creado!')\n",
        "print('Shape: {} rows x {} columns.'.format(map_df_latam.shape[0], map_df_latam.shape[1]))\n",
        "print('Contiene datos de {} países diferentes.'.format(map_df_latam['country'].nunique()))\n",
        "\n",
        "# Visualizar información del Dataset\n",
        "print(map_df_latam.info())\n",
        "\n",
        "# Visualizar 5 filas del Dataset\n",
        "map_df_latam"
      ]
    },
    {
      "cell_type": "markdown",
      "metadata": {
        "id": "0rHN49C_4e3M"
      },
      "source": [
        "### 2.5 Combinación de los Datasets\n",
        "\n",
        "A continuación, se fusionarán los DataFrames *vaccination_df_latam* y *map_df_latam* en función de de datos basados ​​en la característica común de *'country'*."
      ]
    },
    {
      "cell_type": "code",
      "execution_count": 11,
      "metadata": {
        "colab": {
          "base_uri": "https://localhost:8080/",
          "height": 1000
        },
        "id": "yUBobCWm4e3N",
        "outputId": "faaf2983-ee34-4870-ab4c-8c13cb837e71"
      },
      "outputs": [
        {
          "name": "stdout",
          "output_type": "stream",
          "text": [
            "Subconjuntos de datos creado!\n",
            "Shape: 17 rows x 16 columns.\n",
            "Contiene datos de 17 países diferentes.\n",
            "<class 'pandas.core.frame.DataFrame'>\n",
            "Int64Index: 17 entries, 0 to 16\n",
            "Data columns (total 16 columns):\n",
            " #   Column                               Non-Null Count  Dtype         \n",
            "---  ------                               --------------  -----         \n",
            " 0   country                              17 non-null     object        \n",
            " 1   iso_code                             17 non-null     object        \n",
            " 2   vaccines                             17 non-null     object        \n",
            " 3   date                                 17 non-null     datetime64[ns]\n",
            " 4   total_vaccinations                   17 non-null     float64       \n",
            " 5   people_vaccinated                    16 non-null     float64       \n",
            " 6   people_fully_vaccinated              9 non-null      float64       \n",
            " 7   daily_vaccinations_raw               15 non-null     float64       \n",
            " 8   daily_vaccinations                   17 non-null     float64       \n",
            " 9   total_vaccinations_per_hundred       17 non-null     float64       \n",
            " 10  people_vaccinated_per_hundred        16 non-null     float64       \n",
            " 11  people_fully_vaccinated_per_hundred  9 non-null      float64       \n",
            " 12  daily_vaccinations_per_million       17 non-null     float64       \n",
            " 13  source_name                          17 non-null     object        \n",
            " 14  source_website                       17 non-null     object        \n",
            " 15  geometry                             17 non-null     geometry      \n",
            "dtypes: datetime64[ns](1), float64(9), geometry(1), object(5)\n",
            "memory usage: 2.3+ KB\n",
            "None\n"
          ]
        },
        {
          "data": {
            "text/html": "<div>\n<style scoped>\n    .dataframe tbody tr th:only-of-type {\n        vertical-align: middle;\n    }\n\n    .dataframe tbody tr th {\n        vertical-align: top;\n    }\n\n    .dataframe thead th {\n        text-align: right;\n    }\n</style>\n<table border=\"1\" class=\"dataframe\">\n  <thead>\n    <tr style=\"text-align: right;\">\n      <th></th>\n      <th>country</th>\n      <th>iso_code</th>\n      <th>vaccines</th>\n      <th>date</th>\n      <th>total_vaccinations</th>\n      <th>people_vaccinated</th>\n      <th>people_fully_vaccinated</th>\n      <th>daily_vaccinations_raw</th>\n      <th>daily_vaccinations</th>\n      <th>total_vaccinations_per_hundred</th>\n      <th>people_vaccinated_per_hundred</th>\n      <th>people_fully_vaccinated_per_hundred</th>\n      <th>daily_vaccinations_per_million</th>\n      <th>source_name</th>\n      <th>source_website</th>\n      <th>geometry</th>\n    </tr>\n  </thead>\n  <tbody>\n    <tr>\n      <th>0</th>\n      <td>Argentina</td>\n      <td>ARG</td>\n      <td>Oxford/AstraZeneca, Sinopharm/Beijing, Sputnik V</td>\n      <td>2021-03-23</td>\n      <td>3240731.0</td>\n      <td>2618750.0</td>\n      <td>621981.0</td>\n      <td>98287.0</td>\n      <td>99910.0</td>\n      <td>7.17</td>\n      <td>5.79</td>\n      <td>1.38</td>\n      <td>2211.0</td>\n      <td>Ministry of Health</td>\n      <td>http://datos.salud.gob.ar/dataset/vacunas-cont...</td>\n      <td>MULTIPOLYGON (((-68.65412 -54.88624, -68.65413...</td>\n    </tr>\n    <tr>\n      <th>1</th>\n      <td>Bolivia</td>\n      <td>BOL</td>\n      <td>Sputnik V</td>\n      <td>2021-03-22</td>\n      <td>180187.0</td>\n      <td>151952.0</td>\n      <td>28235.0</td>\n      <td>11710.0</td>\n      <td>5482.0</td>\n      <td>1.54</td>\n      <td>1.30</td>\n      <td>0.24</td>\n      <td>470.0</td>\n      <td>Ministry of Health</td>\n      <td>https://twitter.com/SaludDeportesBo/status/137...</td>\n      <td>POLYGON ((-65.29247 -11.50472, -65.25756 -11.4...</td>\n    </tr>\n    <tr>\n      <th>2</th>\n      <td>Brazil</td>\n      <td>BRA</td>\n      <td>Oxford/AstraZeneca, Sinovac</td>\n      <td>2021-03-23</td>\n      <td>15209201.0</td>\n      <td>11559487.0</td>\n      <td>3649714.0</td>\n      <td>1092641.0</td>\n      <td>417182.0</td>\n      <td>7.16</td>\n      <td>5.44</td>\n      <td>1.72</td>\n      <td>1963.0</td>\n      <td>Ministry of Health</td>\n      <td>https://viz.saude.gov.br/extensions/DEMAS_C19V...</td>\n      <td>MULTIPOLYGON (((-48.54259 -27.81666, -48.55187...</td>\n    </tr>\n    <tr>\n      <th>3</th>\n      <td>Chile</td>\n      <td>CHL</td>\n      <td>Pfizer/BioNTech, Sinovac</td>\n      <td>2021-03-23</td>\n      <td>8968634.0</td>\n      <td>5889862.0</td>\n      <td>3078772.0</td>\n      <td>224219.0</td>\n      <td>217127.0</td>\n      <td>46.92</td>\n      <td>30.81</td>\n      <td>16.11</td>\n      <td>11358.0</td>\n      <td>Department of Statistics and Health Information</td>\n      <td>https://www.gob.cl/yomevacuno/</td>\n      <td>MULTIPOLYGON (((-67.25609 -55.82887, -67.24511...</td>\n    </tr>\n    <tr>\n      <th>4</th>\n      <td>Colombia</td>\n      <td>COL</td>\n      <td>Pfizer/BioNTech, Sinovac</td>\n      <td>2021-03-22</td>\n      <td>1238259.0</td>\n      <td>1177935.0</td>\n      <td>60324.0</td>\n      <td>23251.0</td>\n      <td>46328.0</td>\n      <td>2.43</td>\n      <td>2.31</td>\n      <td>0.12</td>\n      <td>910.0</td>\n      <td>Ministry of Health via Universidad de La Sabana</td>\n      <td>https://www.minsalud.gov.co/salud/publica/Vacu...</td>\n      <td>MULTIPOLYGON (((-78.20489 2.68734, -78.18768 2...</td>\n    </tr>\n    <tr>\n      <th>5</th>\n      <td>Costa Rica</td>\n      <td>CRI</td>\n      <td>Pfizer/BioNTech</td>\n      <td>2021-03-22</td>\n      <td>312425.0</td>\n      <td>206198.0</td>\n      <td>106227.0</td>\n      <td>NaN</td>\n      <td>9192.0</td>\n      <td>6.13</td>\n      <td>4.05</td>\n      <td>2.09</td>\n      <td>1804.0</td>\n      <td>Costa Rican Social Security Fund</td>\n      <td>https://www.ccss.sa.cr/web/coronavirus/vacunacion</td>\n      <td>MULTIPOLYGON (((-87.09903 5.51602, -87.11767 5...</td>\n    </tr>\n    <tr>\n      <th>6</th>\n      <td>Dominican Republic</td>\n      <td>DOM</td>\n      <td>Oxford/AstraZeneca, Sinovac</td>\n      <td>2021-03-23</td>\n      <td>800000.0</td>\n      <td>800000.0</td>\n      <td>NaN</td>\n      <td>58915.0</td>\n      <td>15625.0</td>\n      <td>7.37</td>\n      <td>7.37</td>\n      <td>NaN</td>\n      <td>1440.0</td>\n      <td>Ministry of Public Health</td>\n      <td>https://twitter.com/SaludPublicaRD/status/1374...</td>\n      <td>MULTIPOLYGON (((-71.50740 17.55126, -71.52448 ...</td>\n    </tr>\n    <tr>\n      <th>7</th>\n      <td>Ecuador</td>\n      <td>ECU</td>\n      <td>Pfizer/BioNTech</td>\n      <td>2021-03-21</td>\n      <td>178970.0</td>\n      <td>140765.0</td>\n      <td>38205.0</td>\n      <td>16183.0</td>\n      <td>5528.0</td>\n      <td>1.01</td>\n      <td>0.80</td>\n      <td>0.22</td>\n      <td>313.0</td>\n      <td>Government of Ecuador via Ecuacovid</td>\n      <td>https://github.com/andrab/ecuacovid</td>\n      <td>MULTIPOLYGON (((-80.11510 -2.99798, -80.13103 ...</td>\n    </tr>\n    <tr>\n      <th>8</th>\n      <td>El Salvador</td>\n      <td>SLV</td>\n      <td>Oxford/AstraZeneca</td>\n      <td>2021-03-21</td>\n      <td>49000.0</td>\n      <td>49000.0</td>\n      <td>NaN</td>\n      <td>5512.0</td>\n      <td>3429.0</td>\n      <td>0.76</td>\n      <td>0.76</td>\n      <td>NaN</td>\n      <td>529.0</td>\n      <td>Ministry of Health</td>\n      <td>https://www.laprensagrafica.com/covid-19/El-Sa...</td>\n      <td>MULTIPOLYGON (((-87.69700 13.17806, -87.69319 ...</td>\n    </tr>\n    <tr>\n      <th>9</th>\n      <td>Guatemala</td>\n      <td>GTM</td>\n      <td>Moderna</td>\n      <td>2021-03-22</td>\n      <td>72405.0</td>\n      <td>72405.0</td>\n      <td>NaN</td>\n      <td>3139.0</td>\n      <td>4296.0</td>\n      <td>0.40</td>\n      <td>0.40</td>\n      <td>NaN</td>\n      <td>240.0</td>\n      <td>Ministry of Health</td>\n      <td>https://gtmvigilanciacovid.shinyapps.io/3869aa...</td>\n      <td>POLYGON ((-89.16050 17.81431, -89.15622 17.598...</td>\n    </tr>\n    <tr>\n      <th>10</th>\n      <td>Honduras</td>\n      <td>HND</td>\n      <td>Moderna, Oxford/AstraZeneca</td>\n      <td>2021-03-21</td>\n      <td>43073.0</td>\n      <td>43073.0</td>\n      <td>NaN</td>\n      <td>21470.0</td>\n      <td>5218.0</td>\n      <td>0.43</td>\n      <td>0.43</td>\n      <td>NaN</td>\n      <td>527.0</td>\n      <td>Government of Honduras</td>\n      <td>https://www.laprensa.hn/honduras/1451346-410/h...</td>\n      <td>MULTIPOLYGON (((-87.62434 13.25292, -87.64656 ...</td>\n    </tr>\n    <tr>\n      <th>11</th>\n      <td>Mexico</td>\n      <td>MEX</td>\n      <td>Oxford/AstraZeneca, Pfizer/BioNTech, Sputnik V</td>\n      <td>2021-03-23</td>\n      <td>5926967.0</td>\n      <td>5046896.0</td>\n      <td>734463.0</td>\n      <td>145608.0</td>\n      <td>199455.0</td>\n      <td>4.60</td>\n      <td>3.91</td>\n      <td>0.57</td>\n      <td>1547.0</td>\n      <td>Secretary of Health</td>\n      <td>https://www.gob.mx/salud/prensa/122-aplicacion...</td>\n      <td>MULTIPOLYGON (((-114.73404 18.32925, -114.7405...</td>\n    </tr>\n    <tr>\n      <th>12</th>\n      <td>Panama</td>\n      <td>PAN</td>\n      <td>Pfizer/BioNTech</td>\n      <td>2021-03-21</td>\n      <td>309660.0</td>\n      <td>NaN</td>\n      <td>NaN</td>\n      <td>336.0</td>\n      <td>7980.0</td>\n      <td>7.18</td>\n      <td>NaN</td>\n      <td>NaN</td>\n      <td>1849.0</td>\n      <td>Ministry of Health</td>\n      <td>https://twitter.com/EstrellaOnline/status/1373...</td>\n      <td>MULTIPOLYGON (((-81.80720 7.29157, -81.80773 7...</td>\n    </tr>\n    <tr>\n      <th>13</th>\n      <td>Paraguay</td>\n      <td>PRY</td>\n      <td>Sputnik V</td>\n      <td>2021-03-22</td>\n      <td>14724.0</td>\n      <td>13329.0</td>\n      <td>NaN</td>\n      <td>1.0</td>\n      <td>379.0</td>\n      <td>0.21</td>\n      <td>0.19</td>\n      <td>NaN</td>\n      <td>53.0</td>\n      <td>Government of Paraguay</td>\n      <td>https://vacunate.mspbs.gov.py/index-listado-va...</td>\n      <td>POLYGON ((-58.15880 -20.16512, -58.15833 -20.1...</td>\n    </tr>\n    <tr>\n      <th>14</th>\n      <td>Peru</td>\n      <td>PER</td>\n      <td>Sinopharm/Beijing</td>\n      <td>2021-03-22</td>\n      <td>706750.0</td>\n      <td>487486.0</td>\n      <td>219264.0</td>\n      <td>9517.0</td>\n      <td>21579.0</td>\n      <td>2.14</td>\n      <td>1.48</td>\n      <td>0.67</td>\n      <td>654.0</td>\n      <td>Ministry of Health</td>\n      <td>https://www.datosabiertos.gob.pe/dataset/vacun...</td>\n      <td>MULTIPOLYGON (((-76.17566 -14.28838, -76.17959...</td>\n    </tr>\n    <tr>\n      <th>15</th>\n      <td>Uruguay</td>\n      <td>URY</td>\n      <td>Pfizer/BioNTech, Sinovac</td>\n      <td>2021-03-23</td>\n      <td>376693.0</td>\n      <td>376693.0</td>\n      <td>NaN</td>\n      <td>30261.0</td>\n      <td>22301.0</td>\n      <td>10.84</td>\n      <td>10.84</td>\n      <td>NaN</td>\n      <td>6420.0</td>\n      <td>Ministry of Health</td>\n      <td>https://monitor.uruguaysevacuna.gub.uy/</td>\n      <td>POLYGON ((-56.90637 -30.10855, -56.86921 -30.1...</td>\n    </tr>\n    <tr>\n      <th>16</th>\n      <td>Venezuela</td>\n      <td>VEN</td>\n      <td>Sputnik V</td>\n      <td>2021-03-04</td>\n      <td>12194.0</td>\n      <td>12194.0</td>\n      <td>NaN</td>\n      <td>NaN</td>\n      <td>1204.0</td>\n      <td>0.04</td>\n      <td>0.04</td>\n      <td>NaN</td>\n      <td>42.0</td>\n      <td>Government of Venezuela</td>\n      <td>https://www.semana.com/mundo/articulo/y-el-car...</td>\n      <td>MULTIPOLYGON (((-61.39027 8.58058, -61.36986 8...</td>\n    </tr>\n  </tbody>\n</table>\n</div>",
            "text/plain": [
              "               country iso_code  \\\n",
              "0            Argentina      ARG   \n",
              "1              Bolivia      BOL   \n",
              "2               Brazil      BRA   \n",
              "3                Chile      CHL   \n",
              "4             Colombia      COL   \n",
              "5           Costa Rica      CRI   \n",
              "6   Dominican Republic      DOM   \n",
              "7              Ecuador      ECU   \n",
              "8          El Salvador      SLV   \n",
              "9            Guatemala      GTM   \n",
              "10            Honduras      HND   \n",
              "11              Mexico      MEX   \n",
              "12              Panama      PAN   \n",
              "13            Paraguay      PRY   \n",
              "14                Peru      PER   \n",
              "15             Uruguay      URY   \n",
              "16           Venezuela      VEN   \n",
              "\n",
              "                                            vaccines       date  \\\n",
              "0   Oxford/AstraZeneca, Sinopharm/Beijing, Sputnik V 2021-03-23   \n",
              "1                                          Sputnik V 2021-03-22   \n",
              "2                        Oxford/AstraZeneca, Sinovac 2021-03-23   \n",
              "3                           Pfizer/BioNTech, Sinovac 2021-03-23   \n",
              "4                           Pfizer/BioNTech, Sinovac 2021-03-22   \n",
              "5                                    Pfizer/BioNTech 2021-03-22   \n",
              "6                        Oxford/AstraZeneca, Sinovac 2021-03-23   \n",
              "7                                    Pfizer/BioNTech 2021-03-21   \n",
              "8                                 Oxford/AstraZeneca 2021-03-21   \n",
              "9                                            Moderna 2021-03-22   \n",
              "10                       Moderna, Oxford/AstraZeneca 2021-03-21   \n",
              "11    Oxford/AstraZeneca, Pfizer/BioNTech, Sputnik V 2021-03-23   \n",
              "12                                   Pfizer/BioNTech 2021-03-21   \n",
              "13                                         Sputnik V 2021-03-22   \n",
              "14                                 Sinopharm/Beijing 2021-03-22   \n",
              "15                          Pfizer/BioNTech, Sinovac 2021-03-23   \n",
              "16                                         Sputnik V 2021-03-04   \n",
              "\n",
              "    total_vaccinations  people_vaccinated  people_fully_vaccinated  \\\n",
              "0            3240731.0          2618750.0                 621981.0   \n",
              "1             180187.0           151952.0                  28235.0   \n",
              "2           15209201.0         11559487.0                3649714.0   \n",
              "3            8968634.0          5889862.0                3078772.0   \n",
              "4            1238259.0          1177935.0                  60324.0   \n",
              "5             312425.0           206198.0                 106227.0   \n",
              "6             800000.0           800000.0                      NaN   \n",
              "7             178970.0           140765.0                  38205.0   \n",
              "8              49000.0            49000.0                      NaN   \n",
              "9              72405.0            72405.0                      NaN   \n",
              "10             43073.0            43073.0                      NaN   \n",
              "11           5926967.0          5046896.0                 734463.0   \n",
              "12            309660.0                NaN                      NaN   \n",
              "13             14724.0            13329.0                      NaN   \n",
              "14            706750.0           487486.0                 219264.0   \n",
              "15            376693.0           376693.0                      NaN   \n",
              "16             12194.0            12194.0                      NaN   \n",
              "\n",
              "    daily_vaccinations_raw  daily_vaccinations  \\\n",
              "0                  98287.0             99910.0   \n",
              "1                  11710.0              5482.0   \n",
              "2                1092641.0            417182.0   \n",
              "3                 224219.0            217127.0   \n",
              "4                  23251.0             46328.0   \n",
              "5                      NaN              9192.0   \n",
              "6                  58915.0             15625.0   \n",
              "7                  16183.0              5528.0   \n",
              "8                   5512.0              3429.0   \n",
              "9                   3139.0              4296.0   \n",
              "10                 21470.0              5218.0   \n",
              "11                145608.0            199455.0   \n",
              "12                   336.0              7980.0   \n",
              "13                     1.0               379.0   \n",
              "14                  9517.0             21579.0   \n",
              "15                 30261.0             22301.0   \n",
              "16                     NaN              1204.0   \n",
              "\n",
              "    total_vaccinations_per_hundred  people_vaccinated_per_hundred  \\\n",
              "0                             7.17                           5.79   \n",
              "1                             1.54                           1.30   \n",
              "2                             7.16                           5.44   \n",
              "3                            46.92                          30.81   \n",
              "4                             2.43                           2.31   \n",
              "5                             6.13                           4.05   \n",
              "6                             7.37                           7.37   \n",
              "7                             1.01                           0.80   \n",
              "8                             0.76                           0.76   \n",
              "9                             0.40                           0.40   \n",
              "10                            0.43                           0.43   \n",
              "11                            4.60                           3.91   \n",
              "12                            7.18                            NaN   \n",
              "13                            0.21                           0.19   \n",
              "14                            2.14                           1.48   \n",
              "15                           10.84                          10.84   \n",
              "16                            0.04                           0.04   \n",
              "\n",
              "    people_fully_vaccinated_per_hundred  daily_vaccinations_per_million  \\\n",
              "0                                  1.38                          2211.0   \n",
              "1                                  0.24                           470.0   \n",
              "2                                  1.72                          1963.0   \n",
              "3                                 16.11                         11358.0   \n",
              "4                                  0.12                           910.0   \n",
              "5                                  2.09                          1804.0   \n",
              "6                                   NaN                          1440.0   \n",
              "7                                  0.22                           313.0   \n",
              "8                                   NaN                           529.0   \n",
              "9                                   NaN                           240.0   \n",
              "10                                  NaN                           527.0   \n",
              "11                                 0.57                          1547.0   \n",
              "12                                  NaN                          1849.0   \n",
              "13                                  NaN                            53.0   \n",
              "14                                 0.67                           654.0   \n",
              "15                                  NaN                          6420.0   \n",
              "16                                  NaN                            42.0   \n",
              "\n",
              "                                        source_name  \\\n",
              "0                                Ministry of Health   \n",
              "1                                Ministry of Health   \n",
              "2                                Ministry of Health   \n",
              "3   Department of Statistics and Health Information   \n",
              "4   Ministry of Health via Universidad de La Sabana   \n",
              "5                  Costa Rican Social Security Fund   \n",
              "6                         Ministry of Public Health   \n",
              "7               Government of Ecuador via Ecuacovid   \n",
              "8                                Ministry of Health   \n",
              "9                                Ministry of Health   \n",
              "10                           Government of Honduras   \n",
              "11                              Secretary of Health   \n",
              "12                               Ministry of Health   \n",
              "13                           Government of Paraguay   \n",
              "14                               Ministry of Health   \n",
              "15                               Ministry of Health   \n",
              "16                          Government of Venezuela   \n",
              "\n",
              "                                       source_website  \\\n",
              "0   http://datos.salud.gob.ar/dataset/vacunas-cont...   \n",
              "1   https://twitter.com/SaludDeportesBo/status/137...   \n",
              "2   https://viz.saude.gov.br/extensions/DEMAS_C19V...   \n",
              "3                      https://www.gob.cl/yomevacuno/   \n",
              "4   https://www.minsalud.gov.co/salud/publica/Vacu...   \n",
              "5   https://www.ccss.sa.cr/web/coronavirus/vacunacion   \n",
              "6   https://twitter.com/SaludPublicaRD/status/1374...   \n",
              "7                 https://github.com/andrab/ecuacovid   \n",
              "8   https://www.laprensagrafica.com/covid-19/El-Sa...   \n",
              "9   https://gtmvigilanciacovid.shinyapps.io/3869aa...   \n",
              "10  https://www.laprensa.hn/honduras/1451346-410/h...   \n",
              "11  https://www.gob.mx/salud/prensa/122-aplicacion...   \n",
              "12  https://twitter.com/EstrellaOnline/status/1373...   \n",
              "13  https://vacunate.mspbs.gov.py/index-listado-va...   \n",
              "14  https://www.datosabiertos.gob.pe/dataset/vacun...   \n",
              "15            https://monitor.uruguaysevacuna.gub.uy/   \n",
              "16  https://www.semana.com/mundo/articulo/y-el-car...   \n",
              "\n",
              "                                             geometry  \n",
              "0   MULTIPOLYGON (((-68.65412 -54.88624, -68.65413...  \n",
              "1   POLYGON ((-65.29247 -11.50472, -65.25756 -11.4...  \n",
              "2   MULTIPOLYGON (((-48.54259 -27.81666, -48.55187...  \n",
              "3   MULTIPOLYGON (((-67.25609 -55.82887, -67.24511...  \n",
              "4   MULTIPOLYGON (((-78.20489 2.68734, -78.18768 2...  \n",
              "5   MULTIPOLYGON (((-87.09903 5.51602, -87.11767 5...  \n",
              "6   MULTIPOLYGON (((-71.50740 17.55126, -71.52448 ...  \n",
              "7   MULTIPOLYGON (((-80.11510 -2.99798, -80.13103 ...  \n",
              "8   MULTIPOLYGON (((-87.69700 13.17806, -87.69319 ...  \n",
              "9   POLYGON ((-89.16050 17.81431, -89.15622 17.598...  \n",
              "10  MULTIPOLYGON (((-87.62434 13.25292, -87.64656 ...  \n",
              "11  MULTIPOLYGON (((-114.73404 18.32925, -114.7405...  \n",
              "12  MULTIPOLYGON (((-81.80720 7.29157, -81.80773 7...  \n",
              "13  POLYGON ((-58.15880 -20.16512, -58.15833 -20.1...  \n",
              "14  MULTIPOLYGON (((-76.17566 -14.28838, -76.17959...  \n",
              "15  POLYGON ((-56.90637 -30.10855, -56.86921 -30.1...  \n",
              "16  MULTIPOLYGON (((-61.39027 8.58058, -61.36986 8...  "
            ]
          },
          "execution_count": 11,
          "metadata": {},
          "output_type": "execute_result"
        }
      ],
      "source": [
        "# Fusionar los DataFrames vaccination_df_latam y map_df_latam\n",
        "merged_df_latam = pd.merge(vaccination_df_latam, map_df_latam, on = 'country', how = 'left')\n",
        "print('Subconjuntos de datos creado!')\n",
        "print('Shape: {} rows x {} columns.'.format(merged_df_latam.shape[0], merged_df_latam.shape[1]))\n",
        "print('Contiene datos de {} países diferentes.'.format(merged_df_latam['country'].nunique()))\n",
        "\n",
        "# Visualizar información del Dataset\n",
        "print(merged_df_latam.info())\n",
        "\n",
        "# Visualizar muestra del DataFrame\n",
        "merged_df_latam"
      ]
    },
    {
      "cell_type": "markdown",
      "metadata": {
        "id": "SWk3SLnm4e3P"
      },
      "source": [
        "## **3. Visualización de los Datos**\n",
        "---\n"
      ]
    },
    {
      "cell_type": "markdown",
      "metadata": {
        "id": "6EStsUnUbnmg"
      },
      "source": [
        "### 3.1 Correlación entre las Variables\n",
        "\n",
        "La gráfica que se presenta a continuación muestra la correlación que existe entre las variables del DataFrame *vaccination_df_latam*.\n"
      ]
    },
    {
      "cell_type": "code",
      "execution_count": 12,
      "metadata": {
        "colab": {
          "base_uri": "https://localhost:8080/",
          "height": 1000
        },
        "id": "GLk45gC8bnmg",
        "outputId": "584e1123-bd41-415a-832c-6fb73a6f5c38"
      },
      "outputs": [
        {
          "data": {
            "application/vnd.plotly.v1+json": {
              "config": {
                "plotlyServerURL": "https://plot.ly"
              },
              "data": [
                {
                  "dimensions": [
                    {
                      "axis": {
                        "matches": true
                      },
                      "label": "total_vaccinations",
                      "values": [
                        3240731
                      ]
                    },
                    {
                      "axis": {
                        "matches": true
                      },
                      "label": "people_vaccinated",
                      "values": [
                        2618750
                      ]
                    },
                    {
                      "axis": {
                        "matches": true
                      },
                      "label": "people_fully_vaccinated",
                      "values": [
                        621981
                      ]
                    }
                  ],
                  "hovertemplate": "country=Argentina<br>%{xaxis.title.text}=%{x}<br>%{yaxis.title.text}=%{y}<extra></extra>",
                  "legendgroup": "Argentina",
                  "marker": {
                    "color": "#636efa",
                    "symbol": "circle"
                  },
                  "name": "Argentina",
                  "showlegend": true,
                  "type": "splom"
                },
                {
                  "dimensions": [
                    {
                      "axis": {
                        "matches": true
                      },
                      "label": "total_vaccinations",
                      "values": [
                        180187
                      ]
                    },
                    {
                      "axis": {
                        "matches": true
                      },
                      "label": "people_vaccinated",
                      "values": [
                        151952
                      ]
                    },
                    {
                      "axis": {
                        "matches": true
                      },
                      "label": "people_fully_vaccinated",
                      "values": [
                        28235
                      ]
                    }
                  ],
                  "hovertemplate": "country=Bolivia<br>%{xaxis.title.text}=%{x}<br>%{yaxis.title.text}=%{y}<extra></extra>",
                  "legendgroup": "Bolivia",
                  "marker": {
                    "color": "#EF553B",
                    "symbol": "circle"
                  },
                  "name": "Bolivia",
                  "showlegend": true,
                  "type": "splom"
                },
                {
                  "dimensions": [
                    {
                      "axis": {
                        "matches": true
                      },
                      "label": "total_vaccinations",
                      "values": [
                        15209201
                      ]
                    },
                    {
                      "axis": {
                        "matches": true
                      },
                      "label": "people_vaccinated",
                      "values": [
                        11559487
                      ]
                    },
                    {
                      "axis": {
                        "matches": true
                      },
                      "label": "people_fully_vaccinated",
                      "values": [
                        3649714
                      ]
                    }
                  ],
                  "hovertemplate": "country=Brazil<br>%{xaxis.title.text}=%{x}<br>%{yaxis.title.text}=%{y}<extra></extra>",
                  "legendgroup": "Brazil",
                  "marker": {
                    "color": "#00cc96",
                    "symbol": "circle"
                  },
                  "name": "Brazil",
                  "showlegend": true,
                  "type": "splom"
                },
                {
                  "dimensions": [
                    {
                      "axis": {
                        "matches": true
                      },
                      "label": "total_vaccinations",
                      "values": [
                        8968634
                      ]
                    },
                    {
                      "axis": {
                        "matches": true
                      },
                      "label": "people_vaccinated",
                      "values": [
                        5889862
                      ]
                    },
                    {
                      "axis": {
                        "matches": true
                      },
                      "label": "people_fully_vaccinated",
                      "values": [
                        3078772
                      ]
                    }
                  ],
                  "hovertemplate": "country=Chile<br>%{xaxis.title.text}=%{x}<br>%{yaxis.title.text}=%{y}<extra></extra>",
                  "legendgroup": "Chile",
                  "marker": {
                    "color": "#ab63fa",
                    "symbol": "circle"
                  },
                  "name": "Chile",
                  "showlegend": true,
                  "type": "splom"
                },
                {
                  "dimensions": [
                    {
                      "axis": {
                        "matches": true
                      },
                      "label": "total_vaccinations",
                      "values": [
                        1238259
                      ]
                    },
                    {
                      "axis": {
                        "matches": true
                      },
                      "label": "people_vaccinated",
                      "values": [
                        1177935
                      ]
                    },
                    {
                      "axis": {
                        "matches": true
                      },
                      "label": "people_fully_vaccinated",
                      "values": [
                        60324
                      ]
                    }
                  ],
                  "hovertemplate": "country=Colombia<br>%{xaxis.title.text}=%{x}<br>%{yaxis.title.text}=%{y}<extra></extra>",
                  "legendgroup": "Colombia",
                  "marker": {
                    "color": "#FFA15A",
                    "symbol": "circle"
                  },
                  "name": "Colombia",
                  "showlegend": true,
                  "type": "splom"
                },
                {
                  "dimensions": [
                    {
                      "axis": {
                        "matches": true
                      },
                      "label": "total_vaccinations",
                      "values": [
                        312425
                      ]
                    },
                    {
                      "axis": {
                        "matches": true
                      },
                      "label": "people_vaccinated",
                      "values": [
                        206198
                      ]
                    },
                    {
                      "axis": {
                        "matches": true
                      },
                      "label": "people_fully_vaccinated",
                      "values": [
                        106227
                      ]
                    }
                  ],
                  "hovertemplate": "country=Costa Rica<br>%{xaxis.title.text}=%{x}<br>%{yaxis.title.text}=%{y}<extra></extra>",
                  "legendgroup": "Costa Rica",
                  "marker": {
                    "color": "#19d3f3",
                    "symbol": "circle"
                  },
                  "name": "Costa Rica",
                  "showlegend": true,
                  "type": "splom"
                },
                {
                  "dimensions": [
                    {
                      "axis": {
                        "matches": true
                      },
                      "label": "total_vaccinations",
                      "values": [
                        800000
                      ]
                    },
                    {
                      "axis": {
                        "matches": true
                      },
                      "label": "people_vaccinated",
                      "values": [
                        800000
                      ]
                    },
                    {
                      "axis": {
                        "matches": true
                      },
                      "label": "people_fully_vaccinated",
                      "values": [
                        null
                      ]
                    }
                  ],
                  "hovertemplate": "country=Dominican Republic<br>%{xaxis.title.text}=%{x}<br>%{yaxis.title.text}=%{y}<extra></extra>",
                  "legendgroup": "Dominican Republic",
                  "marker": {
                    "color": "#FF6692",
                    "symbol": "circle"
                  },
                  "name": "Dominican Republic",
                  "showlegend": true,
                  "type": "splom"
                },
                {
                  "dimensions": [
                    {
                      "axis": {
                        "matches": true
                      },
                      "label": "total_vaccinations",
                      "values": [
                        178970
                      ]
                    },
                    {
                      "axis": {
                        "matches": true
                      },
                      "label": "people_vaccinated",
                      "values": [
                        140765
                      ]
                    },
                    {
                      "axis": {
                        "matches": true
                      },
                      "label": "people_fully_vaccinated",
                      "values": [
                        38205
                      ]
                    }
                  ],
                  "hovertemplate": "country=Ecuador<br>%{xaxis.title.text}=%{x}<br>%{yaxis.title.text}=%{y}<extra></extra>",
                  "legendgroup": "Ecuador",
                  "marker": {
                    "color": "#B6E880",
                    "symbol": "circle"
                  },
                  "name": "Ecuador",
                  "showlegend": true,
                  "type": "splom"
                },
                {
                  "dimensions": [
                    {
                      "axis": {
                        "matches": true
                      },
                      "label": "total_vaccinations",
                      "values": [
                        49000
                      ]
                    },
                    {
                      "axis": {
                        "matches": true
                      },
                      "label": "people_vaccinated",
                      "values": [
                        49000
                      ]
                    },
                    {
                      "axis": {
                        "matches": true
                      },
                      "label": "people_fully_vaccinated",
                      "values": [
                        null
                      ]
                    }
                  ],
                  "hovertemplate": "country=El Salvador<br>%{xaxis.title.text}=%{x}<br>%{yaxis.title.text}=%{y}<extra></extra>",
                  "legendgroup": "El Salvador",
                  "marker": {
                    "color": "#FF97FF",
                    "symbol": "circle"
                  },
                  "name": "El Salvador",
                  "showlegend": true,
                  "type": "splom"
                },
                {
                  "dimensions": [
                    {
                      "axis": {
                        "matches": true
                      },
                      "label": "total_vaccinations",
                      "values": [
                        72405
                      ]
                    },
                    {
                      "axis": {
                        "matches": true
                      },
                      "label": "people_vaccinated",
                      "values": [
                        72405
                      ]
                    },
                    {
                      "axis": {
                        "matches": true
                      },
                      "label": "people_fully_vaccinated",
                      "values": [
                        null
                      ]
                    }
                  ],
                  "hovertemplate": "country=Guatemala<br>%{xaxis.title.text}=%{x}<br>%{yaxis.title.text}=%{y}<extra></extra>",
                  "legendgroup": "Guatemala",
                  "marker": {
                    "color": "#FECB52",
                    "symbol": "circle"
                  },
                  "name": "Guatemala",
                  "showlegend": true,
                  "type": "splom"
                },
                {
                  "dimensions": [
                    {
                      "axis": {
                        "matches": true
                      },
                      "label": "total_vaccinations",
                      "values": [
                        43073
                      ]
                    },
                    {
                      "axis": {
                        "matches": true
                      },
                      "label": "people_vaccinated",
                      "values": [
                        43073
                      ]
                    },
                    {
                      "axis": {
                        "matches": true
                      },
                      "label": "people_fully_vaccinated",
                      "values": [
                        null
                      ]
                    }
                  ],
                  "hovertemplate": "country=Honduras<br>%{xaxis.title.text}=%{x}<br>%{yaxis.title.text}=%{y}<extra></extra>",
                  "legendgroup": "Honduras",
                  "marker": {
                    "color": "#636efa",
                    "symbol": "circle"
                  },
                  "name": "Honduras",
                  "showlegend": true,
                  "type": "splom"
                },
                {
                  "dimensions": [
                    {
                      "axis": {
                        "matches": true
                      },
                      "label": "total_vaccinations",
                      "values": [
                        5926967
                      ]
                    },
                    {
                      "axis": {
                        "matches": true
                      },
                      "label": "people_vaccinated",
                      "values": [
                        5046896
                      ]
                    },
                    {
                      "axis": {
                        "matches": true
                      },
                      "label": "people_fully_vaccinated",
                      "values": [
                        734463
                      ]
                    }
                  ],
                  "hovertemplate": "country=Mexico<br>%{xaxis.title.text}=%{x}<br>%{yaxis.title.text}=%{y}<extra></extra>",
                  "legendgroup": "Mexico",
                  "marker": {
                    "color": "#EF553B",
                    "symbol": "circle"
                  },
                  "name": "Mexico",
                  "showlegend": true,
                  "type": "splom"
                },
                {
                  "dimensions": [
                    {
                      "axis": {
                        "matches": true
                      },
                      "label": "total_vaccinations",
                      "values": [
                        309660
                      ]
                    },
                    {
                      "axis": {
                        "matches": true
                      },
                      "label": "people_vaccinated",
                      "values": [
                        null
                      ]
                    },
                    {
                      "axis": {
                        "matches": true
                      },
                      "label": "people_fully_vaccinated",
                      "values": [
                        null
                      ]
                    }
                  ],
                  "hovertemplate": "country=Panama<br>%{xaxis.title.text}=%{x}<br>%{yaxis.title.text}=%{y}<extra></extra>",
                  "legendgroup": "Panama",
                  "marker": {
                    "color": "#00cc96",
                    "symbol": "circle"
                  },
                  "name": "Panama",
                  "showlegend": true,
                  "type": "splom"
                },
                {
                  "dimensions": [
                    {
                      "axis": {
                        "matches": true
                      },
                      "label": "total_vaccinations",
                      "values": [
                        14724
                      ]
                    },
                    {
                      "axis": {
                        "matches": true
                      },
                      "label": "people_vaccinated",
                      "values": [
                        13329
                      ]
                    },
                    {
                      "axis": {
                        "matches": true
                      },
                      "label": "people_fully_vaccinated",
                      "values": [
                        null
                      ]
                    }
                  ],
                  "hovertemplate": "country=Paraguay<br>%{xaxis.title.text}=%{x}<br>%{yaxis.title.text}=%{y}<extra></extra>",
                  "legendgroup": "Paraguay",
                  "marker": {
                    "color": "#ab63fa",
                    "symbol": "circle"
                  },
                  "name": "Paraguay",
                  "showlegend": true,
                  "type": "splom"
                },
                {
                  "dimensions": [
                    {
                      "axis": {
                        "matches": true
                      },
                      "label": "total_vaccinations",
                      "values": [
                        706750
                      ]
                    },
                    {
                      "axis": {
                        "matches": true
                      },
                      "label": "people_vaccinated",
                      "values": [
                        487486
                      ]
                    },
                    {
                      "axis": {
                        "matches": true
                      },
                      "label": "people_fully_vaccinated",
                      "values": [
                        219264
                      ]
                    }
                  ],
                  "hovertemplate": "country=Peru<br>%{xaxis.title.text}=%{x}<br>%{yaxis.title.text}=%{y}<extra></extra>",
                  "legendgroup": "Peru",
                  "marker": {
                    "color": "#FFA15A",
                    "symbol": "circle"
                  },
                  "name": "Peru",
                  "showlegend": true,
                  "type": "splom"
                },
                {
                  "dimensions": [
                    {
                      "axis": {
                        "matches": true
                      },
                      "label": "total_vaccinations",
                      "values": [
                        376693
                      ]
                    },
                    {
                      "axis": {
                        "matches": true
                      },
                      "label": "people_vaccinated",
                      "values": [
                        376693
                      ]
                    },
                    {
                      "axis": {
                        "matches": true
                      },
                      "label": "people_fully_vaccinated",
                      "values": [
                        null
                      ]
                    }
                  ],
                  "hovertemplate": "country=Uruguay<br>%{xaxis.title.text}=%{x}<br>%{yaxis.title.text}=%{y}<extra></extra>",
                  "legendgroup": "Uruguay",
                  "marker": {
                    "color": "#19d3f3",
                    "symbol": "circle"
                  },
                  "name": "Uruguay",
                  "showlegend": true,
                  "type": "splom"
                },
                {
                  "dimensions": [
                    {
                      "axis": {
                        "matches": true
                      },
                      "label": "total_vaccinations",
                      "values": [
                        12194
                      ]
                    },
                    {
                      "axis": {
                        "matches": true
                      },
                      "label": "people_vaccinated",
                      "values": [
                        12194
                      ]
                    },
                    {
                      "axis": {
                        "matches": true
                      },
                      "label": "people_fully_vaccinated",
                      "values": [
                        null
                      ]
                    }
                  ],
                  "hovertemplate": "country=Venezuela<br>%{xaxis.title.text}=%{x}<br>%{yaxis.title.text}=%{y}<extra></extra>",
                  "legendgroup": "Venezuela",
                  "marker": {
                    "color": "#FF6692",
                    "symbol": "circle"
                  },
                  "name": "Venezuela",
                  "showlegend": true,
                  "type": "splom"
                }
              ],
              "layout": {
                "dragmode": "select",
                "height": 720,
                "legend": {
                  "title": {
                    "text": "country"
                  },
                  "tracegroupgap": 0
                },
                "template": {
                  "data": {
                    "bar": [
                      {
                        "error_x": {
                          "color": "#2a3f5f"
                        },
                        "error_y": {
                          "color": "#2a3f5f"
                        },
                        "marker": {
                          "line": {
                            "color": "#E5ECF6",
                            "width": 0.5
                          }
                        },
                        "type": "bar"
                      }
                    ],
                    "barpolar": [
                      {
                        "marker": {
                          "line": {
                            "color": "#E5ECF6",
                            "width": 0.5
                          }
                        },
                        "type": "barpolar"
                      }
                    ],
                    "carpet": [
                      {
                        "aaxis": {
                          "endlinecolor": "#2a3f5f",
                          "gridcolor": "white",
                          "linecolor": "white",
                          "minorgridcolor": "white",
                          "startlinecolor": "#2a3f5f"
                        },
                        "baxis": {
                          "endlinecolor": "#2a3f5f",
                          "gridcolor": "white",
                          "linecolor": "white",
                          "minorgridcolor": "white",
                          "startlinecolor": "#2a3f5f"
                        },
                        "type": "carpet"
                      }
                    ],
                    "choropleth": [
                      {
                        "colorbar": {
                          "outlinewidth": 0,
                          "ticks": ""
                        },
                        "type": "choropleth"
                      }
                    ],
                    "contour": [
                      {
                        "colorbar": {
                          "outlinewidth": 0,
                          "ticks": ""
                        },
                        "colorscale": [
                          [
                            0,
                            "#0d0887"
                          ],
                          [
                            0.1111111111111111,
                            "#46039f"
                          ],
                          [
                            0.2222222222222222,
                            "#7201a8"
                          ],
                          [
                            0.3333333333333333,
                            "#9c179e"
                          ],
                          [
                            0.4444444444444444,
                            "#bd3786"
                          ],
                          [
                            0.5555555555555556,
                            "#d8576b"
                          ],
                          [
                            0.6666666666666666,
                            "#ed7953"
                          ],
                          [
                            0.7777777777777778,
                            "#fb9f3a"
                          ],
                          [
                            0.8888888888888888,
                            "#fdca26"
                          ],
                          [
                            1,
                            "#f0f921"
                          ]
                        ],
                        "type": "contour"
                      }
                    ],
                    "contourcarpet": [
                      {
                        "colorbar": {
                          "outlinewidth": 0,
                          "ticks": ""
                        },
                        "type": "contourcarpet"
                      }
                    ],
                    "heatmap": [
                      {
                        "colorbar": {
                          "outlinewidth": 0,
                          "ticks": ""
                        },
                        "colorscale": [
                          [
                            0,
                            "#0d0887"
                          ],
                          [
                            0.1111111111111111,
                            "#46039f"
                          ],
                          [
                            0.2222222222222222,
                            "#7201a8"
                          ],
                          [
                            0.3333333333333333,
                            "#9c179e"
                          ],
                          [
                            0.4444444444444444,
                            "#bd3786"
                          ],
                          [
                            0.5555555555555556,
                            "#d8576b"
                          ],
                          [
                            0.6666666666666666,
                            "#ed7953"
                          ],
                          [
                            0.7777777777777778,
                            "#fb9f3a"
                          ],
                          [
                            0.8888888888888888,
                            "#fdca26"
                          ],
                          [
                            1,
                            "#f0f921"
                          ]
                        ],
                        "type": "heatmap"
                      }
                    ],
                    "heatmapgl": [
                      {
                        "colorbar": {
                          "outlinewidth": 0,
                          "ticks": ""
                        },
                        "colorscale": [
                          [
                            0,
                            "#0d0887"
                          ],
                          [
                            0.1111111111111111,
                            "#46039f"
                          ],
                          [
                            0.2222222222222222,
                            "#7201a8"
                          ],
                          [
                            0.3333333333333333,
                            "#9c179e"
                          ],
                          [
                            0.4444444444444444,
                            "#bd3786"
                          ],
                          [
                            0.5555555555555556,
                            "#d8576b"
                          ],
                          [
                            0.6666666666666666,
                            "#ed7953"
                          ],
                          [
                            0.7777777777777778,
                            "#fb9f3a"
                          ],
                          [
                            0.8888888888888888,
                            "#fdca26"
                          ],
                          [
                            1,
                            "#f0f921"
                          ]
                        ],
                        "type": "heatmapgl"
                      }
                    ],
                    "histogram": [
                      {
                        "marker": {
                          "colorbar": {
                            "outlinewidth": 0,
                            "ticks": ""
                          }
                        },
                        "type": "histogram"
                      }
                    ],
                    "histogram2d": [
                      {
                        "colorbar": {
                          "outlinewidth": 0,
                          "ticks": ""
                        },
                        "colorscale": [
                          [
                            0,
                            "#0d0887"
                          ],
                          [
                            0.1111111111111111,
                            "#46039f"
                          ],
                          [
                            0.2222222222222222,
                            "#7201a8"
                          ],
                          [
                            0.3333333333333333,
                            "#9c179e"
                          ],
                          [
                            0.4444444444444444,
                            "#bd3786"
                          ],
                          [
                            0.5555555555555556,
                            "#d8576b"
                          ],
                          [
                            0.6666666666666666,
                            "#ed7953"
                          ],
                          [
                            0.7777777777777778,
                            "#fb9f3a"
                          ],
                          [
                            0.8888888888888888,
                            "#fdca26"
                          ],
                          [
                            1,
                            "#f0f921"
                          ]
                        ],
                        "type": "histogram2d"
                      }
                    ],
                    "histogram2dcontour": [
                      {
                        "colorbar": {
                          "outlinewidth": 0,
                          "ticks": ""
                        },
                        "colorscale": [
                          [
                            0,
                            "#0d0887"
                          ],
                          [
                            0.1111111111111111,
                            "#46039f"
                          ],
                          [
                            0.2222222222222222,
                            "#7201a8"
                          ],
                          [
                            0.3333333333333333,
                            "#9c179e"
                          ],
                          [
                            0.4444444444444444,
                            "#bd3786"
                          ],
                          [
                            0.5555555555555556,
                            "#d8576b"
                          ],
                          [
                            0.6666666666666666,
                            "#ed7953"
                          ],
                          [
                            0.7777777777777778,
                            "#fb9f3a"
                          ],
                          [
                            0.8888888888888888,
                            "#fdca26"
                          ],
                          [
                            1,
                            "#f0f921"
                          ]
                        ],
                        "type": "histogram2dcontour"
                      }
                    ],
                    "mesh3d": [
                      {
                        "colorbar": {
                          "outlinewidth": 0,
                          "ticks": ""
                        },
                        "type": "mesh3d"
                      }
                    ],
                    "parcoords": [
                      {
                        "line": {
                          "colorbar": {
                            "outlinewidth": 0,
                            "ticks": ""
                          }
                        },
                        "type": "parcoords"
                      }
                    ],
                    "pie": [
                      {
                        "automargin": true,
                        "type": "pie"
                      }
                    ],
                    "scatter": [
                      {
                        "marker": {
                          "colorbar": {
                            "outlinewidth": 0,
                            "ticks": ""
                          }
                        },
                        "type": "scatter"
                      }
                    ],
                    "scatter3d": [
                      {
                        "line": {
                          "colorbar": {
                            "outlinewidth": 0,
                            "ticks": ""
                          }
                        },
                        "marker": {
                          "colorbar": {
                            "outlinewidth": 0,
                            "ticks": ""
                          }
                        },
                        "type": "scatter3d"
                      }
                    ],
                    "scattercarpet": [
                      {
                        "marker": {
                          "colorbar": {
                            "outlinewidth": 0,
                            "ticks": ""
                          }
                        },
                        "type": "scattercarpet"
                      }
                    ],
                    "scattergeo": [
                      {
                        "marker": {
                          "colorbar": {
                            "outlinewidth": 0,
                            "ticks": ""
                          }
                        },
                        "type": "scattergeo"
                      }
                    ],
                    "scattergl": [
                      {
                        "marker": {
                          "colorbar": {
                            "outlinewidth": 0,
                            "ticks": ""
                          }
                        },
                        "type": "scattergl"
                      }
                    ],
                    "scattermapbox": [
                      {
                        "marker": {
                          "colorbar": {
                            "outlinewidth": 0,
                            "ticks": ""
                          }
                        },
                        "type": "scattermapbox"
                      }
                    ],
                    "scatterpolar": [
                      {
                        "marker": {
                          "colorbar": {
                            "outlinewidth": 0,
                            "ticks": ""
                          }
                        },
                        "type": "scatterpolar"
                      }
                    ],
                    "scatterpolargl": [
                      {
                        "marker": {
                          "colorbar": {
                            "outlinewidth": 0,
                            "ticks": ""
                          }
                        },
                        "type": "scatterpolargl"
                      }
                    ],
                    "scatterternary": [
                      {
                        "marker": {
                          "colorbar": {
                            "outlinewidth": 0,
                            "ticks": ""
                          }
                        },
                        "type": "scatterternary"
                      }
                    ],
                    "surface": [
                      {
                        "colorbar": {
                          "outlinewidth": 0,
                          "ticks": ""
                        },
                        "colorscale": [
                          [
                            0,
                            "#0d0887"
                          ],
                          [
                            0.1111111111111111,
                            "#46039f"
                          ],
                          [
                            0.2222222222222222,
                            "#7201a8"
                          ],
                          [
                            0.3333333333333333,
                            "#9c179e"
                          ],
                          [
                            0.4444444444444444,
                            "#bd3786"
                          ],
                          [
                            0.5555555555555556,
                            "#d8576b"
                          ],
                          [
                            0.6666666666666666,
                            "#ed7953"
                          ],
                          [
                            0.7777777777777778,
                            "#fb9f3a"
                          ],
                          [
                            0.8888888888888888,
                            "#fdca26"
                          ],
                          [
                            1,
                            "#f0f921"
                          ]
                        ],
                        "type": "surface"
                      }
                    ],
                    "table": [
                      {
                        "cells": {
                          "fill": {
                            "color": "#EBF0F8"
                          },
                          "line": {
                            "color": "white"
                          }
                        },
                        "header": {
                          "fill": {
                            "color": "#C8D4E3"
                          },
                          "line": {
                            "color": "white"
                          }
                        },
                        "type": "table"
                      }
                    ]
                  },
                  "layout": {
                    "annotationdefaults": {
                      "arrowcolor": "#2a3f5f",
                      "arrowhead": 0,
                      "arrowwidth": 1
                    },
                    "autotypenumbers": "strict",
                    "coloraxis": {
                      "colorbar": {
                        "outlinewidth": 0,
                        "ticks": ""
                      }
                    },
                    "colorscale": {
                      "diverging": [
                        [
                          0,
                          "#8e0152"
                        ],
                        [
                          0.1,
                          "#c51b7d"
                        ],
                        [
                          0.2,
                          "#de77ae"
                        ],
                        [
                          0.3,
                          "#f1b6da"
                        ],
                        [
                          0.4,
                          "#fde0ef"
                        ],
                        [
                          0.5,
                          "#f7f7f7"
                        ],
                        [
                          0.6,
                          "#e6f5d0"
                        ],
                        [
                          0.7,
                          "#b8e186"
                        ],
                        [
                          0.8,
                          "#7fbc41"
                        ],
                        [
                          0.9,
                          "#4d9221"
                        ],
                        [
                          1,
                          "#276419"
                        ]
                      ],
                      "sequential": [
                        [
                          0,
                          "#0d0887"
                        ],
                        [
                          0.1111111111111111,
                          "#46039f"
                        ],
                        [
                          0.2222222222222222,
                          "#7201a8"
                        ],
                        [
                          0.3333333333333333,
                          "#9c179e"
                        ],
                        [
                          0.4444444444444444,
                          "#bd3786"
                        ],
                        [
                          0.5555555555555556,
                          "#d8576b"
                        ],
                        [
                          0.6666666666666666,
                          "#ed7953"
                        ],
                        [
                          0.7777777777777778,
                          "#fb9f3a"
                        ],
                        [
                          0.8888888888888888,
                          "#fdca26"
                        ],
                        [
                          1,
                          "#f0f921"
                        ]
                      ],
                      "sequentialminus": [
                        [
                          0,
                          "#0d0887"
                        ],
                        [
                          0.1111111111111111,
                          "#46039f"
                        ],
                        [
                          0.2222222222222222,
                          "#7201a8"
                        ],
                        [
                          0.3333333333333333,
                          "#9c179e"
                        ],
                        [
                          0.4444444444444444,
                          "#bd3786"
                        ],
                        [
                          0.5555555555555556,
                          "#d8576b"
                        ],
                        [
                          0.6666666666666666,
                          "#ed7953"
                        ],
                        [
                          0.7777777777777778,
                          "#fb9f3a"
                        ],
                        [
                          0.8888888888888888,
                          "#fdca26"
                        ],
                        [
                          1,
                          "#f0f921"
                        ]
                      ]
                    },
                    "colorway": [
                      "#636efa",
                      "#EF553B",
                      "#00cc96",
                      "#ab63fa",
                      "#FFA15A",
                      "#19d3f3",
                      "#FF6692",
                      "#B6E880",
                      "#FF97FF",
                      "#FECB52"
                    ],
                    "font": {
                      "color": "#2a3f5f"
                    },
                    "geo": {
                      "bgcolor": "white",
                      "lakecolor": "white",
                      "landcolor": "#E5ECF6",
                      "showlakes": true,
                      "showland": true,
                      "subunitcolor": "white"
                    },
                    "hoverlabel": {
                      "align": "left"
                    },
                    "hovermode": "closest",
                    "mapbox": {
                      "style": "light"
                    },
                    "paper_bgcolor": "white",
                    "plot_bgcolor": "#E5ECF6",
                    "polar": {
                      "angularaxis": {
                        "gridcolor": "white",
                        "linecolor": "white",
                        "ticks": ""
                      },
                      "bgcolor": "#E5ECF6",
                      "radialaxis": {
                        "gridcolor": "white",
                        "linecolor": "white",
                        "ticks": ""
                      }
                    },
                    "scene": {
                      "xaxis": {
                        "backgroundcolor": "#E5ECF6",
                        "gridcolor": "white",
                        "gridwidth": 2,
                        "linecolor": "white",
                        "showbackground": true,
                        "ticks": "",
                        "zerolinecolor": "white"
                      },
                      "yaxis": {
                        "backgroundcolor": "#E5ECF6",
                        "gridcolor": "white",
                        "gridwidth": 2,
                        "linecolor": "white",
                        "showbackground": true,
                        "ticks": "",
                        "zerolinecolor": "white"
                      },
                      "zaxis": {
                        "backgroundcolor": "#E5ECF6",
                        "gridcolor": "white",
                        "gridwidth": 2,
                        "linecolor": "white",
                        "showbackground": true,
                        "ticks": "",
                        "zerolinecolor": "white"
                      }
                    },
                    "shapedefaults": {
                      "line": {
                        "color": "#2a3f5f"
                      }
                    },
                    "ternary": {
                      "aaxis": {
                        "gridcolor": "white",
                        "linecolor": "white",
                        "ticks": ""
                      },
                      "baxis": {
                        "gridcolor": "white",
                        "linecolor": "white",
                        "ticks": ""
                      },
                      "bgcolor": "#E5ECF6",
                      "caxis": {
                        "gridcolor": "white",
                        "linecolor": "white",
                        "ticks": ""
                      }
                    },
                    "title": {
                      "x": 0.05
                    },
                    "xaxis": {
                      "automargin": true,
                      "gridcolor": "white",
                      "linecolor": "white",
                      "ticks": "",
                      "title": {
                        "standoff": 15
                      },
                      "zerolinecolor": "white",
                      "zerolinewidth": 2
                    },
                    "yaxis": {
                      "automargin": true,
                      "gridcolor": "white",
                      "linecolor": "white",
                      "ticks": "",
                      "title": {
                        "standoff": 15
                      },
                      "zerolinecolor": "white",
                      "zerolinewidth": 2
                    }
                  }
                },
                "title": {
                  "text": "Correlación entre las variables claves de vacunación"
                },
                "width": 1280
              }
            }
          },
          "metadata": {},
          "output_type": "display_data"
        }
      ],
      "source": [
        "# Correlation PairPlot\n",
        "\n",
        "correlations_fig_1 = px.scatter_matrix(vaccination_df_latam,\n",
        "                    dimensions=[\"total_vaccinations\", \"people_vaccinated\", \"people_fully_vaccinated\"], \n",
        "                    color=\"country\",\n",
        "                    title='Correlación entre las variables claves de vacunación',\n",
        "                    width=1280,\n",
        "                    height=720)\n",
        "correlations_fig_1.show()\n",
        "correlations_fig_1.write_image(\"correlations_fig_1.png\") \n"
      ]
    },
    {
      "cell_type": "code",
      "execution_count": 13,
      "metadata": {},
      "outputs": [
        {
          "data": {
            "application/vnd.plotly.v1+json": {
              "config": {
                "plotlyServerURL": "https://plot.ly"
              },
              "data": [
                {
                  "coloraxis": "coloraxis",
                  "hovertemplate": "x: %{x}<br>y: %{y}<br>color: %{z}<extra></extra>",
                  "name": "0",
                  "type": "heatmap",
                  "x": [
                    "total_vaccinations",
                    "people_vaccinated",
                    "people_fully_vaccinated",
                    "daily_vaccinations_raw",
                    "daily_vaccinations",
                    "total_vaccinations_per_hundred",
                    "people_vaccinated_per_hundred",
                    "people_fully_vaccinated_per_hundred",
                    "daily_vaccinations_per_million"
                  ],
                  "xaxis": "x",
                  "y": [
                    "total_vaccinations",
                    "people_vaccinated",
                    "people_fully_vaccinated",
                    "daily_vaccinations_raw",
                    "daily_vaccinations",
                    "total_vaccinations_per_hundred",
                    "people_vaccinated_per_hundred",
                    "people_fully_vaccinated_per_hundred",
                    "daily_vaccinations_per_million"
                  ],
                  "yaxis": "y",
                  "z": [
                    [
                      1,
                      0.9960623968560803,
                      0.9561465376109521,
                      0.9170531096540575,
                      0.9938937000325287,
                      0.4968886798343912,
                      0.492153352675433,
                      0.4105492028719881,
                      0.4358029709889164
                    ],
                    [
                      0.9960623968560803,
                      1,
                      0.9228393679297069,
                      0.9248193721849072,
                      0.998685661995059,
                      0.44126752127841945,
                      0.43551045396861754,
                      0.32874722537357914,
                      0.3840565136610698
                    ],
                    [
                      0.9561465376109521,
                      0.9228393679297069,
                      1,
                      0.8363974526299575,
                      0.9149518861704752,
                      0.644789895150925,
                      0.6563809685556965,
                      0.6199933288260177,
                      0.6458265573850948
                    ],
                    [
                      0.9170531096540575,
                      0.9248193721849072,
                      0.8363974526299575,
                      1,
                      0.9136235317963564,
                      0.19869085948570614,
                      0.1981808212235429,
                      0.10374648254085524,
                      0.1646973324732218
                    ],
                    [
                      0.9938937000325287,
                      0.998685661995059,
                      0.9149518861704752,
                      0.9136235317963564,
                      1,
                      0.4354575447310672,
                      0.4358451506239743,
                      0.3271655149937638,
                      0.38936593374254436
                    ],
                    [
                      0.4968886798343912,
                      0.44126752127841945,
                      0.644789895150925,
                      0.19869085948570614,
                      0.4354575447310672,
                      1,
                      0.9906601575563599,
                      0.9966718450419839,
                      0.949140294526156
                    ],
                    [
                      0.492153352675433,
                      0.43551045396861754,
                      0.6563809685556965,
                      0.1981808212235429,
                      0.4358451506239743,
                      0.9906601575563599,
                      1,
                      0.9923552662960144,
                      0.9713465831718244
                    ],
                    [
                      0.4105492028719881,
                      0.32874722537357914,
                      0.6199933288260177,
                      0.10374648254085524,
                      0.3271655149937638,
                      0.9966718450419839,
                      0.9923552662960144,
                      1,
                      0.9929040463727278
                    ],
                    [
                      0.4358029709889164,
                      0.3840565136610698,
                      0.6458265573850948,
                      0.1646973324732218,
                      0.38936593374254436,
                      0.949140294526156,
                      0.9713465831718244,
                      0.9929040463727278,
                      1
                    ]
                  ]
                }
              ],
              "layout": {
                "coloraxis": {
                  "colorscale": [
                    [
                      0,
                      "#000004"
                    ],
                    [
                      0.1111111111111111,
                      "#1b0c41"
                    ],
                    [
                      0.2222222222222222,
                      "#4a0c6b"
                    ],
                    [
                      0.3333333333333333,
                      "#781c6d"
                    ],
                    [
                      0.4444444444444444,
                      "#a52c60"
                    ],
                    [
                      0.5555555555555556,
                      "#cf4446"
                    ],
                    [
                      0.6666666666666666,
                      "#ed6925"
                    ],
                    [
                      0.7777777777777778,
                      "#fb9b06"
                    ],
                    [
                      0.8888888888888888,
                      "#f7d13d"
                    ],
                    [
                      1,
                      "#fcffa4"
                    ]
                  ]
                },
                "height": 700,
                "template": {
                  "data": {
                    "bar": [
                      {
                        "error_x": {
                          "color": "#2a3f5f"
                        },
                        "error_y": {
                          "color": "#2a3f5f"
                        },
                        "marker": {
                          "line": {
                            "color": "#E5ECF6",
                            "width": 0.5
                          }
                        },
                        "type": "bar"
                      }
                    ],
                    "barpolar": [
                      {
                        "marker": {
                          "line": {
                            "color": "#E5ECF6",
                            "width": 0.5
                          }
                        },
                        "type": "barpolar"
                      }
                    ],
                    "carpet": [
                      {
                        "aaxis": {
                          "endlinecolor": "#2a3f5f",
                          "gridcolor": "white",
                          "linecolor": "white",
                          "minorgridcolor": "white",
                          "startlinecolor": "#2a3f5f"
                        },
                        "baxis": {
                          "endlinecolor": "#2a3f5f",
                          "gridcolor": "white",
                          "linecolor": "white",
                          "minorgridcolor": "white",
                          "startlinecolor": "#2a3f5f"
                        },
                        "type": "carpet"
                      }
                    ],
                    "choropleth": [
                      {
                        "colorbar": {
                          "outlinewidth": 0,
                          "ticks": ""
                        },
                        "type": "choropleth"
                      }
                    ],
                    "contour": [
                      {
                        "colorbar": {
                          "outlinewidth": 0,
                          "ticks": ""
                        },
                        "colorscale": [
                          [
                            0,
                            "#0d0887"
                          ],
                          [
                            0.1111111111111111,
                            "#46039f"
                          ],
                          [
                            0.2222222222222222,
                            "#7201a8"
                          ],
                          [
                            0.3333333333333333,
                            "#9c179e"
                          ],
                          [
                            0.4444444444444444,
                            "#bd3786"
                          ],
                          [
                            0.5555555555555556,
                            "#d8576b"
                          ],
                          [
                            0.6666666666666666,
                            "#ed7953"
                          ],
                          [
                            0.7777777777777778,
                            "#fb9f3a"
                          ],
                          [
                            0.8888888888888888,
                            "#fdca26"
                          ],
                          [
                            1,
                            "#f0f921"
                          ]
                        ],
                        "type": "contour"
                      }
                    ],
                    "contourcarpet": [
                      {
                        "colorbar": {
                          "outlinewidth": 0,
                          "ticks": ""
                        },
                        "type": "contourcarpet"
                      }
                    ],
                    "heatmap": [
                      {
                        "colorbar": {
                          "outlinewidth": 0,
                          "ticks": ""
                        },
                        "colorscale": [
                          [
                            0,
                            "#0d0887"
                          ],
                          [
                            0.1111111111111111,
                            "#46039f"
                          ],
                          [
                            0.2222222222222222,
                            "#7201a8"
                          ],
                          [
                            0.3333333333333333,
                            "#9c179e"
                          ],
                          [
                            0.4444444444444444,
                            "#bd3786"
                          ],
                          [
                            0.5555555555555556,
                            "#d8576b"
                          ],
                          [
                            0.6666666666666666,
                            "#ed7953"
                          ],
                          [
                            0.7777777777777778,
                            "#fb9f3a"
                          ],
                          [
                            0.8888888888888888,
                            "#fdca26"
                          ],
                          [
                            1,
                            "#f0f921"
                          ]
                        ],
                        "type": "heatmap"
                      }
                    ],
                    "heatmapgl": [
                      {
                        "colorbar": {
                          "outlinewidth": 0,
                          "ticks": ""
                        },
                        "colorscale": [
                          [
                            0,
                            "#0d0887"
                          ],
                          [
                            0.1111111111111111,
                            "#46039f"
                          ],
                          [
                            0.2222222222222222,
                            "#7201a8"
                          ],
                          [
                            0.3333333333333333,
                            "#9c179e"
                          ],
                          [
                            0.4444444444444444,
                            "#bd3786"
                          ],
                          [
                            0.5555555555555556,
                            "#d8576b"
                          ],
                          [
                            0.6666666666666666,
                            "#ed7953"
                          ],
                          [
                            0.7777777777777778,
                            "#fb9f3a"
                          ],
                          [
                            0.8888888888888888,
                            "#fdca26"
                          ],
                          [
                            1,
                            "#f0f921"
                          ]
                        ],
                        "type": "heatmapgl"
                      }
                    ],
                    "histogram": [
                      {
                        "marker": {
                          "colorbar": {
                            "outlinewidth": 0,
                            "ticks": ""
                          }
                        },
                        "type": "histogram"
                      }
                    ],
                    "histogram2d": [
                      {
                        "colorbar": {
                          "outlinewidth": 0,
                          "ticks": ""
                        },
                        "colorscale": [
                          [
                            0,
                            "#0d0887"
                          ],
                          [
                            0.1111111111111111,
                            "#46039f"
                          ],
                          [
                            0.2222222222222222,
                            "#7201a8"
                          ],
                          [
                            0.3333333333333333,
                            "#9c179e"
                          ],
                          [
                            0.4444444444444444,
                            "#bd3786"
                          ],
                          [
                            0.5555555555555556,
                            "#d8576b"
                          ],
                          [
                            0.6666666666666666,
                            "#ed7953"
                          ],
                          [
                            0.7777777777777778,
                            "#fb9f3a"
                          ],
                          [
                            0.8888888888888888,
                            "#fdca26"
                          ],
                          [
                            1,
                            "#f0f921"
                          ]
                        ],
                        "type": "histogram2d"
                      }
                    ],
                    "histogram2dcontour": [
                      {
                        "colorbar": {
                          "outlinewidth": 0,
                          "ticks": ""
                        },
                        "colorscale": [
                          [
                            0,
                            "#0d0887"
                          ],
                          [
                            0.1111111111111111,
                            "#46039f"
                          ],
                          [
                            0.2222222222222222,
                            "#7201a8"
                          ],
                          [
                            0.3333333333333333,
                            "#9c179e"
                          ],
                          [
                            0.4444444444444444,
                            "#bd3786"
                          ],
                          [
                            0.5555555555555556,
                            "#d8576b"
                          ],
                          [
                            0.6666666666666666,
                            "#ed7953"
                          ],
                          [
                            0.7777777777777778,
                            "#fb9f3a"
                          ],
                          [
                            0.8888888888888888,
                            "#fdca26"
                          ],
                          [
                            1,
                            "#f0f921"
                          ]
                        ],
                        "type": "histogram2dcontour"
                      }
                    ],
                    "mesh3d": [
                      {
                        "colorbar": {
                          "outlinewidth": 0,
                          "ticks": ""
                        },
                        "type": "mesh3d"
                      }
                    ],
                    "parcoords": [
                      {
                        "line": {
                          "colorbar": {
                            "outlinewidth": 0,
                            "ticks": ""
                          }
                        },
                        "type": "parcoords"
                      }
                    ],
                    "pie": [
                      {
                        "automargin": true,
                        "type": "pie"
                      }
                    ],
                    "scatter": [
                      {
                        "marker": {
                          "colorbar": {
                            "outlinewidth": 0,
                            "ticks": ""
                          }
                        },
                        "type": "scatter"
                      }
                    ],
                    "scatter3d": [
                      {
                        "line": {
                          "colorbar": {
                            "outlinewidth": 0,
                            "ticks": ""
                          }
                        },
                        "marker": {
                          "colorbar": {
                            "outlinewidth": 0,
                            "ticks": ""
                          }
                        },
                        "type": "scatter3d"
                      }
                    ],
                    "scattercarpet": [
                      {
                        "marker": {
                          "colorbar": {
                            "outlinewidth": 0,
                            "ticks": ""
                          }
                        },
                        "type": "scattercarpet"
                      }
                    ],
                    "scattergeo": [
                      {
                        "marker": {
                          "colorbar": {
                            "outlinewidth": 0,
                            "ticks": ""
                          }
                        },
                        "type": "scattergeo"
                      }
                    ],
                    "scattergl": [
                      {
                        "marker": {
                          "colorbar": {
                            "outlinewidth": 0,
                            "ticks": ""
                          }
                        },
                        "type": "scattergl"
                      }
                    ],
                    "scattermapbox": [
                      {
                        "marker": {
                          "colorbar": {
                            "outlinewidth": 0,
                            "ticks": ""
                          }
                        },
                        "type": "scattermapbox"
                      }
                    ],
                    "scatterpolar": [
                      {
                        "marker": {
                          "colorbar": {
                            "outlinewidth": 0,
                            "ticks": ""
                          }
                        },
                        "type": "scatterpolar"
                      }
                    ],
                    "scatterpolargl": [
                      {
                        "marker": {
                          "colorbar": {
                            "outlinewidth": 0,
                            "ticks": ""
                          }
                        },
                        "type": "scatterpolargl"
                      }
                    ],
                    "scatterternary": [
                      {
                        "marker": {
                          "colorbar": {
                            "outlinewidth": 0,
                            "ticks": ""
                          }
                        },
                        "type": "scatterternary"
                      }
                    ],
                    "surface": [
                      {
                        "colorbar": {
                          "outlinewidth": 0,
                          "ticks": ""
                        },
                        "colorscale": [
                          [
                            0,
                            "#0d0887"
                          ],
                          [
                            0.1111111111111111,
                            "#46039f"
                          ],
                          [
                            0.2222222222222222,
                            "#7201a8"
                          ],
                          [
                            0.3333333333333333,
                            "#9c179e"
                          ],
                          [
                            0.4444444444444444,
                            "#bd3786"
                          ],
                          [
                            0.5555555555555556,
                            "#d8576b"
                          ],
                          [
                            0.6666666666666666,
                            "#ed7953"
                          ],
                          [
                            0.7777777777777778,
                            "#fb9f3a"
                          ],
                          [
                            0.8888888888888888,
                            "#fdca26"
                          ],
                          [
                            1,
                            "#f0f921"
                          ]
                        ],
                        "type": "surface"
                      }
                    ],
                    "table": [
                      {
                        "cells": {
                          "fill": {
                            "color": "#EBF0F8"
                          },
                          "line": {
                            "color": "white"
                          }
                        },
                        "header": {
                          "fill": {
                            "color": "#C8D4E3"
                          },
                          "line": {
                            "color": "white"
                          }
                        },
                        "type": "table"
                      }
                    ]
                  },
                  "layout": {
                    "annotationdefaults": {
                      "arrowcolor": "#2a3f5f",
                      "arrowhead": 0,
                      "arrowwidth": 1
                    },
                    "autotypenumbers": "strict",
                    "coloraxis": {
                      "colorbar": {
                        "outlinewidth": 0,
                        "ticks": ""
                      }
                    },
                    "colorscale": {
                      "diverging": [
                        [
                          0,
                          "#8e0152"
                        ],
                        [
                          0.1,
                          "#c51b7d"
                        ],
                        [
                          0.2,
                          "#de77ae"
                        ],
                        [
                          0.3,
                          "#f1b6da"
                        ],
                        [
                          0.4,
                          "#fde0ef"
                        ],
                        [
                          0.5,
                          "#f7f7f7"
                        ],
                        [
                          0.6,
                          "#e6f5d0"
                        ],
                        [
                          0.7,
                          "#b8e186"
                        ],
                        [
                          0.8,
                          "#7fbc41"
                        ],
                        [
                          0.9,
                          "#4d9221"
                        ],
                        [
                          1,
                          "#276419"
                        ]
                      ],
                      "sequential": [
                        [
                          0,
                          "#0d0887"
                        ],
                        [
                          0.1111111111111111,
                          "#46039f"
                        ],
                        [
                          0.2222222222222222,
                          "#7201a8"
                        ],
                        [
                          0.3333333333333333,
                          "#9c179e"
                        ],
                        [
                          0.4444444444444444,
                          "#bd3786"
                        ],
                        [
                          0.5555555555555556,
                          "#d8576b"
                        ],
                        [
                          0.6666666666666666,
                          "#ed7953"
                        ],
                        [
                          0.7777777777777778,
                          "#fb9f3a"
                        ],
                        [
                          0.8888888888888888,
                          "#fdca26"
                        ],
                        [
                          1,
                          "#f0f921"
                        ]
                      ],
                      "sequentialminus": [
                        [
                          0,
                          "#0d0887"
                        ],
                        [
                          0.1111111111111111,
                          "#46039f"
                        ],
                        [
                          0.2222222222222222,
                          "#7201a8"
                        ],
                        [
                          0.3333333333333333,
                          "#9c179e"
                        ],
                        [
                          0.4444444444444444,
                          "#bd3786"
                        ],
                        [
                          0.5555555555555556,
                          "#d8576b"
                        ],
                        [
                          0.6666666666666666,
                          "#ed7953"
                        ],
                        [
                          0.7777777777777778,
                          "#fb9f3a"
                        ],
                        [
                          0.8888888888888888,
                          "#fdca26"
                        ],
                        [
                          1,
                          "#f0f921"
                        ]
                      ]
                    },
                    "colorway": [
                      "#636efa",
                      "#EF553B",
                      "#00cc96",
                      "#ab63fa",
                      "#FFA15A",
                      "#19d3f3",
                      "#FF6692",
                      "#B6E880",
                      "#FF97FF",
                      "#FECB52"
                    ],
                    "font": {
                      "color": "#2a3f5f"
                    },
                    "geo": {
                      "bgcolor": "white",
                      "lakecolor": "white",
                      "landcolor": "#E5ECF6",
                      "showlakes": true,
                      "showland": true,
                      "subunitcolor": "white"
                    },
                    "hoverlabel": {
                      "align": "left"
                    },
                    "hovermode": "closest",
                    "mapbox": {
                      "style": "light"
                    },
                    "paper_bgcolor": "white",
                    "plot_bgcolor": "#E5ECF6",
                    "polar": {
                      "angularaxis": {
                        "gridcolor": "white",
                        "linecolor": "white",
                        "ticks": ""
                      },
                      "bgcolor": "#E5ECF6",
                      "radialaxis": {
                        "gridcolor": "white",
                        "linecolor": "white",
                        "ticks": ""
                      }
                    },
                    "scene": {
                      "xaxis": {
                        "backgroundcolor": "#E5ECF6",
                        "gridcolor": "white",
                        "gridwidth": 2,
                        "linecolor": "white",
                        "showbackground": true,
                        "ticks": "",
                        "zerolinecolor": "white"
                      },
                      "yaxis": {
                        "backgroundcolor": "#E5ECF6",
                        "gridcolor": "white",
                        "gridwidth": 2,
                        "linecolor": "white",
                        "showbackground": true,
                        "ticks": "",
                        "zerolinecolor": "white"
                      },
                      "zaxis": {
                        "backgroundcolor": "#E5ECF6",
                        "gridcolor": "white",
                        "gridwidth": 2,
                        "linecolor": "white",
                        "showbackground": true,
                        "ticks": "",
                        "zerolinecolor": "white"
                      }
                    },
                    "shapedefaults": {
                      "line": {
                        "color": "#2a3f5f"
                      }
                    },
                    "ternary": {
                      "aaxis": {
                        "gridcolor": "white",
                        "linecolor": "white",
                        "ticks": ""
                      },
                      "baxis": {
                        "gridcolor": "white",
                        "linecolor": "white",
                        "ticks": ""
                      },
                      "bgcolor": "#E5ECF6",
                      "caxis": {
                        "gridcolor": "white",
                        "linecolor": "white",
                        "ticks": ""
                      }
                    },
                    "title": {
                      "x": 0.05
                    },
                    "xaxis": {
                      "automargin": true,
                      "gridcolor": "white",
                      "linecolor": "white",
                      "ticks": "",
                      "title": {
                        "standoff": 15
                      },
                      "zerolinecolor": "white",
                      "zerolinewidth": 2
                    },
                    "yaxis": {
                      "automargin": true,
                      "gridcolor": "white",
                      "linecolor": "white",
                      "ticks": "",
                      "title": {
                        "standoff": 15
                      },
                      "zerolinecolor": "white",
                      "zerolinewidth": 2
                    }
                  }
                },
                "title": {
                  "text": "Correlación entre las Variables del Dataset \"vaccination_df_latam\""
                },
                "width": 1280,
                "xaxis": {
                  "anchor": "y",
                  "domain": [
                    0,
                    1
                  ]
                },
                "yaxis": {
                  "anchor": "x",
                  "autorange": "reversed",
                  "domain": [
                    0,
                    1
                  ]
                }
              }
            }
          },
          "metadata": {},
          "output_type": "display_data"
        }
      ],
      "source": [
        "# Correlation Heatmap\n",
        "\n",
        "correlations_fig_2= px.imshow(vaccination_df_latam.corr(),\n",
        "                    aspect='auto', \n",
        "                    title='Correlación entre las Variables del Dataset \"vaccination_df_latam\"',\n",
        "                    width=1280,\n",
        "                    height=700,\n",
        "                    color_continuous_scale='inferno')\n",
        "correlations_fig_2.show()\n",
        "correlations_fig_2.write_image(\"correlations_fig_2.png\")"
      ]
    },
    {
      "cell_type": "markdown",
      "metadata": {
        "id": "GAYnoWo54e3Q"
      },
      "source": [
        "### 3.2 Distribución de los Esquemas de Inmunización\n",
        "\n",
        "La gráfica que se presenta a continuación muestra la distribución de los esquemas de inmunización elegidos por los países en el DataFrame *vaccination_df_latam*."
      ]
    },
    {
      "cell_type": "code",
      "execution_count": 14,
      "metadata": {},
      "outputs": [
        {
          "data": {
            "application/vnd.plotly.v1+json": {
              "config": {
                "plotlyServerURL": "https://plot.ly"
              },
              "data": [
                {
                  "labels": [
                    "Sputnik V",
                    "Pfizer/BioNTech",
                    "Pfizer/BioNTech, Sinovac",
                    "Oxford/AstraZeneca, Sinovac",
                    "Oxford/AstraZeneca",
                    "Moderna",
                    "Oxford/AstraZeneca, Pfizer/BioNTech, Sputnik V",
                    "Sinopharm/Beijing",
                    "Moderna, Oxford/AstraZeneca",
                    "Oxford/AstraZeneca, Sinopharm/Beijing, Sputnik V"
                  ],
                  "type": "pie",
                  "values": [
                    17.647058823529413,
                    17.647058823529413,
                    17.647058823529413,
                    11.76470588235294,
                    5.88235294117647,
                    5.88235294117647,
                    5.88235294117647,
                    5.88235294117647,
                    5.88235294117647,
                    5.88235294117647
                  ]
                }
              ],
              "layout": {
                "height": 720,
                "template": {
                  "data": {
                    "bar": [
                      {
                        "error_x": {
                          "color": "#2a3f5f"
                        },
                        "error_y": {
                          "color": "#2a3f5f"
                        },
                        "marker": {
                          "line": {
                            "color": "#E5ECF6",
                            "width": 0.5
                          }
                        },
                        "type": "bar"
                      }
                    ],
                    "barpolar": [
                      {
                        "marker": {
                          "line": {
                            "color": "#E5ECF6",
                            "width": 0.5
                          }
                        },
                        "type": "barpolar"
                      }
                    ],
                    "carpet": [
                      {
                        "aaxis": {
                          "endlinecolor": "#2a3f5f",
                          "gridcolor": "white",
                          "linecolor": "white",
                          "minorgridcolor": "white",
                          "startlinecolor": "#2a3f5f"
                        },
                        "baxis": {
                          "endlinecolor": "#2a3f5f",
                          "gridcolor": "white",
                          "linecolor": "white",
                          "minorgridcolor": "white",
                          "startlinecolor": "#2a3f5f"
                        },
                        "type": "carpet"
                      }
                    ],
                    "choropleth": [
                      {
                        "colorbar": {
                          "outlinewidth": 0,
                          "ticks": ""
                        },
                        "type": "choropleth"
                      }
                    ],
                    "contour": [
                      {
                        "colorbar": {
                          "outlinewidth": 0,
                          "ticks": ""
                        },
                        "colorscale": [
                          [
                            0,
                            "#0d0887"
                          ],
                          [
                            0.1111111111111111,
                            "#46039f"
                          ],
                          [
                            0.2222222222222222,
                            "#7201a8"
                          ],
                          [
                            0.3333333333333333,
                            "#9c179e"
                          ],
                          [
                            0.4444444444444444,
                            "#bd3786"
                          ],
                          [
                            0.5555555555555556,
                            "#d8576b"
                          ],
                          [
                            0.6666666666666666,
                            "#ed7953"
                          ],
                          [
                            0.7777777777777778,
                            "#fb9f3a"
                          ],
                          [
                            0.8888888888888888,
                            "#fdca26"
                          ],
                          [
                            1,
                            "#f0f921"
                          ]
                        ],
                        "type": "contour"
                      }
                    ],
                    "contourcarpet": [
                      {
                        "colorbar": {
                          "outlinewidth": 0,
                          "ticks": ""
                        },
                        "type": "contourcarpet"
                      }
                    ],
                    "heatmap": [
                      {
                        "colorbar": {
                          "outlinewidth": 0,
                          "ticks": ""
                        },
                        "colorscale": [
                          [
                            0,
                            "#0d0887"
                          ],
                          [
                            0.1111111111111111,
                            "#46039f"
                          ],
                          [
                            0.2222222222222222,
                            "#7201a8"
                          ],
                          [
                            0.3333333333333333,
                            "#9c179e"
                          ],
                          [
                            0.4444444444444444,
                            "#bd3786"
                          ],
                          [
                            0.5555555555555556,
                            "#d8576b"
                          ],
                          [
                            0.6666666666666666,
                            "#ed7953"
                          ],
                          [
                            0.7777777777777778,
                            "#fb9f3a"
                          ],
                          [
                            0.8888888888888888,
                            "#fdca26"
                          ],
                          [
                            1,
                            "#f0f921"
                          ]
                        ],
                        "type": "heatmap"
                      }
                    ],
                    "heatmapgl": [
                      {
                        "colorbar": {
                          "outlinewidth": 0,
                          "ticks": ""
                        },
                        "colorscale": [
                          [
                            0,
                            "#0d0887"
                          ],
                          [
                            0.1111111111111111,
                            "#46039f"
                          ],
                          [
                            0.2222222222222222,
                            "#7201a8"
                          ],
                          [
                            0.3333333333333333,
                            "#9c179e"
                          ],
                          [
                            0.4444444444444444,
                            "#bd3786"
                          ],
                          [
                            0.5555555555555556,
                            "#d8576b"
                          ],
                          [
                            0.6666666666666666,
                            "#ed7953"
                          ],
                          [
                            0.7777777777777778,
                            "#fb9f3a"
                          ],
                          [
                            0.8888888888888888,
                            "#fdca26"
                          ],
                          [
                            1,
                            "#f0f921"
                          ]
                        ],
                        "type": "heatmapgl"
                      }
                    ],
                    "histogram": [
                      {
                        "marker": {
                          "colorbar": {
                            "outlinewidth": 0,
                            "ticks": ""
                          }
                        },
                        "type": "histogram"
                      }
                    ],
                    "histogram2d": [
                      {
                        "colorbar": {
                          "outlinewidth": 0,
                          "ticks": ""
                        },
                        "colorscale": [
                          [
                            0,
                            "#0d0887"
                          ],
                          [
                            0.1111111111111111,
                            "#46039f"
                          ],
                          [
                            0.2222222222222222,
                            "#7201a8"
                          ],
                          [
                            0.3333333333333333,
                            "#9c179e"
                          ],
                          [
                            0.4444444444444444,
                            "#bd3786"
                          ],
                          [
                            0.5555555555555556,
                            "#d8576b"
                          ],
                          [
                            0.6666666666666666,
                            "#ed7953"
                          ],
                          [
                            0.7777777777777778,
                            "#fb9f3a"
                          ],
                          [
                            0.8888888888888888,
                            "#fdca26"
                          ],
                          [
                            1,
                            "#f0f921"
                          ]
                        ],
                        "type": "histogram2d"
                      }
                    ],
                    "histogram2dcontour": [
                      {
                        "colorbar": {
                          "outlinewidth": 0,
                          "ticks": ""
                        },
                        "colorscale": [
                          [
                            0,
                            "#0d0887"
                          ],
                          [
                            0.1111111111111111,
                            "#46039f"
                          ],
                          [
                            0.2222222222222222,
                            "#7201a8"
                          ],
                          [
                            0.3333333333333333,
                            "#9c179e"
                          ],
                          [
                            0.4444444444444444,
                            "#bd3786"
                          ],
                          [
                            0.5555555555555556,
                            "#d8576b"
                          ],
                          [
                            0.6666666666666666,
                            "#ed7953"
                          ],
                          [
                            0.7777777777777778,
                            "#fb9f3a"
                          ],
                          [
                            0.8888888888888888,
                            "#fdca26"
                          ],
                          [
                            1,
                            "#f0f921"
                          ]
                        ],
                        "type": "histogram2dcontour"
                      }
                    ],
                    "mesh3d": [
                      {
                        "colorbar": {
                          "outlinewidth": 0,
                          "ticks": ""
                        },
                        "type": "mesh3d"
                      }
                    ],
                    "parcoords": [
                      {
                        "line": {
                          "colorbar": {
                            "outlinewidth": 0,
                            "ticks": ""
                          }
                        },
                        "type": "parcoords"
                      }
                    ],
                    "pie": [
                      {
                        "automargin": true,
                        "type": "pie"
                      }
                    ],
                    "scatter": [
                      {
                        "marker": {
                          "colorbar": {
                            "outlinewidth": 0,
                            "ticks": ""
                          }
                        },
                        "type": "scatter"
                      }
                    ],
                    "scatter3d": [
                      {
                        "line": {
                          "colorbar": {
                            "outlinewidth": 0,
                            "ticks": ""
                          }
                        },
                        "marker": {
                          "colorbar": {
                            "outlinewidth": 0,
                            "ticks": ""
                          }
                        },
                        "type": "scatter3d"
                      }
                    ],
                    "scattercarpet": [
                      {
                        "marker": {
                          "colorbar": {
                            "outlinewidth": 0,
                            "ticks": ""
                          }
                        },
                        "type": "scattercarpet"
                      }
                    ],
                    "scattergeo": [
                      {
                        "marker": {
                          "colorbar": {
                            "outlinewidth": 0,
                            "ticks": ""
                          }
                        },
                        "type": "scattergeo"
                      }
                    ],
                    "scattergl": [
                      {
                        "marker": {
                          "colorbar": {
                            "outlinewidth": 0,
                            "ticks": ""
                          }
                        },
                        "type": "scattergl"
                      }
                    ],
                    "scattermapbox": [
                      {
                        "marker": {
                          "colorbar": {
                            "outlinewidth": 0,
                            "ticks": ""
                          }
                        },
                        "type": "scattermapbox"
                      }
                    ],
                    "scatterpolar": [
                      {
                        "marker": {
                          "colorbar": {
                            "outlinewidth": 0,
                            "ticks": ""
                          }
                        },
                        "type": "scatterpolar"
                      }
                    ],
                    "scatterpolargl": [
                      {
                        "marker": {
                          "colorbar": {
                            "outlinewidth": 0,
                            "ticks": ""
                          }
                        },
                        "type": "scatterpolargl"
                      }
                    ],
                    "scatterternary": [
                      {
                        "marker": {
                          "colorbar": {
                            "outlinewidth": 0,
                            "ticks": ""
                          }
                        },
                        "type": "scatterternary"
                      }
                    ],
                    "surface": [
                      {
                        "colorbar": {
                          "outlinewidth": 0,
                          "ticks": ""
                        },
                        "colorscale": [
                          [
                            0,
                            "#0d0887"
                          ],
                          [
                            0.1111111111111111,
                            "#46039f"
                          ],
                          [
                            0.2222222222222222,
                            "#7201a8"
                          ],
                          [
                            0.3333333333333333,
                            "#9c179e"
                          ],
                          [
                            0.4444444444444444,
                            "#bd3786"
                          ],
                          [
                            0.5555555555555556,
                            "#d8576b"
                          ],
                          [
                            0.6666666666666666,
                            "#ed7953"
                          ],
                          [
                            0.7777777777777778,
                            "#fb9f3a"
                          ],
                          [
                            0.8888888888888888,
                            "#fdca26"
                          ],
                          [
                            1,
                            "#f0f921"
                          ]
                        ],
                        "type": "surface"
                      }
                    ],
                    "table": [
                      {
                        "cells": {
                          "fill": {
                            "color": "#EBF0F8"
                          },
                          "line": {
                            "color": "white"
                          }
                        },
                        "header": {
                          "fill": {
                            "color": "#C8D4E3"
                          },
                          "line": {
                            "color": "white"
                          }
                        },
                        "type": "table"
                      }
                    ]
                  },
                  "layout": {
                    "annotationdefaults": {
                      "arrowcolor": "#2a3f5f",
                      "arrowhead": 0,
                      "arrowwidth": 1
                    },
                    "autotypenumbers": "strict",
                    "coloraxis": {
                      "colorbar": {
                        "outlinewidth": 0,
                        "ticks": ""
                      }
                    },
                    "colorscale": {
                      "diverging": [
                        [
                          0,
                          "#8e0152"
                        ],
                        [
                          0.1,
                          "#c51b7d"
                        ],
                        [
                          0.2,
                          "#de77ae"
                        ],
                        [
                          0.3,
                          "#f1b6da"
                        ],
                        [
                          0.4,
                          "#fde0ef"
                        ],
                        [
                          0.5,
                          "#f7f7f7"
                        ],
                        [
                          0.6,
                          "#e6f5d0"
                        ],
                        [
                          0.7,
                          "#b8e186"
                        ],
                        [
                          0.8,
                          "#7fbc41"
                        ],
                        [
                          0.9,
                          "#4d9221"
                        ],
                        [
                          1,
                          "#276419"
                        ]
                      ],
                      "sequential": [
                        [
                          0,
                          "#0d0887"
                        ],
                        [
                          0.1111111111111111,
                          "#46039f"
                        ],
                        [
                          0.2222222222222222,
                          "#7201a8"
                        ],
                        [
                          0.3333333333333333,
                          "#9c179e"
                        ],
                        [
                          0.4444444444444444,
                          "#bd3786"
                        ],
                        [
                          0.5555555555555556,
                          "#d8576b"
                        ],
                        [
                          0.6666666666666666,
                          "#ed7953"
                        ],
                        [
                          0.7777777777777778,
                          "#fb9f3a"
                        ],
                        [
                          0.8888888888888888,
                          "#fdca26"
                        ],
                        [
                          1,
                          "#f0f921"
                        ]
                      ],
                      "sequentialminus": [
                        [
                          0,
                          "#0d0887"
                        ],
                        [
                          0.1111111111111111,
                          "#46039f"
                        ],
                        [
                          0.2222222222222222,
                          "#7201a8"
                        ],
                        [
                          0.3333333333333333,
                          "#9c179e"
                        ],
                        [
                          0.4444444444444444,
                          "#bd3786"
                        ],
                        [
                          0.5555555555555556,
                          "#d8576b"
                        ],
                        [
                          0.6666666666666666,
                          "#ed7953"
                        ],
                        [
                          0.7777777777777778,
                          "#fb9f3a"
                        ],
                        [
                          0.8888888888888888,
                          "#fdca26"
                        ],
                        [
                          1,
                          "#f0f921"
                        ]
                      ]
                    },
                    "colorway": [
                      "#636efa",
                      "#EF553B",
                      "#00cc96",
                      "#ab63fa",
                      "#FFA15A",
                      "#19d3f3",
                      "#FF6692",
                      "#B6E880",
                      "#FF97FF",
                      "#FECB52"
                    ],
                    "font": {
                      "color": "#2a3f5f"
                    },
                    "geo": {
                      "bgcolor": "white",
                      "lakecolor": "white",
                      "landcolor": "#E5ECF6",
                      "showlakes": true,
                      "showland": true,
                      "subunitcolor": "white"
                    },
                    "hoverlabel": {
                      "align": "left"
                    },
                    "hovermode": "closest",
                    "mapbox": {
                      "style": "light"
                    },
                    "paper_bgcolor": "white",
                    "plot_bgcolor": "#E5ECF6",
                    "polar": {
                      "angularaxis": {
                        "gridcolor": "white",
                        "linecolor": "white",
                        "ticks": ""
                      },
                      "bgcolor": "#E5ECF6",
                      "radialaxis": {
                        "gridcolor": "white",
                        "linecolor": "white",
                        "ticks": ""
                      }
                    },
                    "scene": {
                      "xaxis": {
                        "backgroundcolor": "#E5ECF6",
                        "gridcolor": "white",
                        "gridwidth": 2,
                        "linecolor": "white",
                        "showbackground": true,
                        "ticks": "",
                        "zerolinecolor": "white"
                      },
                      "yaxis": {
                        "backgroundcolor": "#E5ECF6",
                        "gridcolor": "white",
                        "gridwidth": 2,
                        "linecolor": "white",
                        "showbackground": true,
                        "ticks": "",
                        "zerolinecolor": "white"
                      },
                      "zaxis": {
                        "backgroundcolor": "#E5ECF6",
                        "gridcolor": "white",
                        "gridwidth": 2,
                        "linecolor": "white",
                        "showbackground": true,
                        "ticks": "",
                        "zerolinecolor": "white"
                      }
                    },
                    "shapedefaults": {
                      "line": {
                        "color": "#2a3f5f"
                      }
                    },
                    "ternary": {
                      "aaxis": {
                        "gridcolor": "white",
                        "linecolor": "white",
                        "ticks": ""
                      },
                      "baxis": {
                        "gridcolor": "white",
                        "linecolor": "white",
                        "ticks": ""
                      },
                      "bgcolor": "#E5ECF6",
                      "caxis": {
                        "gridcolor": "white",
                        "linecolor": "white",
                        "ticks": ""
                      }
                    },
                    "title": {
                      "x": 0.05
                    },
                    "xaxis": {
                      "automargin": true,
                      "gridcolor": "white",
                      "linecolor": "white",
                      "ticks": "",
                      "title": {
                        "standoff": 15
                      },
                      "zerolinecolor": "white",
                      "zerolinewidth": 2
                    },
                    "yaxis": {
                      "automargin": true,
                      "gridcolor": "white",
                      "linecolor": "white",
                      "ticks": "",
                      "title": {
                        "standoff": 15
                      },
                      "zerolinecolor": "white",
                      "zerolinewidth": 2
                    }
                  }
                },
                "title": {
                  "text": "Distribución de los Esquemas de Inmunización en Latinoamérica",
                  "x": 0.5
                },
                "width": 1280
              }
            }
          },
          "metadata": {},
          "output_type": "display_data"
        }
      ],
      "source": [
        "# Pre-procesado de Datos para la Sección 3.2\n",
        "immunisation_schemes = pd.Series(vaccination_df_latam['vaccines'].value_counts(normalize = True)*100)\n",
        "immunisation_schemes.to_frame()\n",
        "labels = immunisation_schemes.keys()\n",
        "values = immunisation_schemes\n",
        "\n",
        "# Immunisation Scheme Distribution (Pie Chart)\n",
        "immunisation_schemes_fig = go.Figure(data=[go.Pie(labels=labels, values=values)])\n",
        "immunisation_schemes_fig.update_layout(title_text=\"Distribución de los Esquemas de Inmunización en Latinoamérica\", title_x=0.5, width = 1280, height = 720)\n",
        "immunisation_schemes_fig.show()\n",
        "immunisation_schemes_fig.write_image(\"immunisation_schemes_fig.png\") "
      ]
    },
    {
      "cell_type": "markdown",
      "metadata": {
        "id": "Og_a2P-abnmk"
      },
      "source": [
        "### 3.3 Esquemas de Inmunización por País\n",
        "\n",
        "La gráfica que se presenta a continuación muestra el esquema de inmunización elegido por cada país del DataFrame *vaccination_df_latam*."
      ]
    },
    {
      "cell_type": "code",
      "execution_count": 15,
      "metadata": {
        "id": "TBup_CXpbnmk",
        "outputId": "4afaba8a-c3da-440c-85b3-3cd147b91bf7"
      },
      "outputs": [
        {
          "data": {
            "text/plain": [
              "\"\\nvaccination_df_latam.plot(column = vaccination_df_latam['vaccines'].value_counts(),\\n              legend = True, \\n              legend_kwds = {'bbox_to_anchor': (1, -0.01), 'frameon': True, 'fontsize': label_size = 7},\\n              ax = ax_2)\\n\\nax_2.set_title('Vaccination Scheme in each Country')\\nax_2.set_xticks([])\\nax_2.set_yticks([])\\n\""
            ]
          },
          "execution_count": 15,
          "metadata": {},
          "output_type": "execute_result"
        },
        {
          "data": {
            "image/png": "[encoded data removed]",
            "text/plain": "<Figure size 1152x648 with 1 Axes>"
          },
          "metadata": {
            "image/png": {
              "height": 520,
              "width": 534
            },
            "needs_background": "light"
          },
          "output_type": "display_data"
        }
      ],
      "source": [
        "# Immunisation Scheme Distribution (Pie Chart)\n",
        "country_immunisation_schemes_fig, ax_2 = plt.subplots(figsize = (16, 9)) \n",
        "map_df_latam['geometry'].boundary.plot(edgecolor = 'black', linewidth = 1, ax = ax_2)\n",
        "map_df_latam[map_df_latam['country'] == 'Colombia']['geometry'].boundary.plot(edgecolor = 'firebrick', linewidth = 1, ax = ax_2)\n",
        "'''\n",
        "vaccination_df_latam.plot(column = vaccination_df_latam['vaccines'].value_counts(),\n",
        "              legend = True, \n",
        "              legend_kwds = {'bbox_to_anchor': (1, -0.01), 'frameon': True, 'fontsize': label_size = 7},\n",
        "              ax = ax_2)\n",
        "\n",
        "ax_2.set_title('Vaccination Scheme in each Country')\n",
        "ax_2.set_xticks([])\n",
        "ax_2.set_yticks([])\n",
        "'''"
      ]
    },
    {
      "cell_type": "markdown",
      "metadata": {
        "id": "wXeuYp50bnmk"
      },
      "source": [
        "### 3.4 Total de Vacunas Aplicadas\n",
        "\n",
        "La gráfica que se presenta a continuación muestra el total de vacunas aplicadas por cada país del DataFrame *vaccination_df_latam*."
      ]
    },
    {
      "cell_type": "code",
      "execution_count": 16,
      "metadata": {
        "id": "dH45mgrUbnmk",
        "outputId": "ff85ee54-b269-4557-d75f-b58e399cd9ad"
      },
      "outputs": [
        {
          "data": {
            "application/vnd.plotly.v1+json": {
              "config": {
                "plotlyServerURL": "https://plot.ly"
              },
              "data": [
                {
                  "alignmentgroup": "True",
                  "hovertemplate": "País=%{x}<br>Total de vacunas aplicadas=%{y}<extra></extra>",
                  "legendgroup": "Argentina",
                  "marker": {
                    "color": "#636efa"
                  },
                  "name": "Argentina",
                  "offsetgroup": "Argentina",
                  "orientation": "v",
                  "showlegend": true,
                  "textposition": "auto",
                  "type": "bar",
                  "x": [
                    "Argentina"
                  ],
                  "xaxis": "x",
                  "y": [
                    3240731
                  ],
                  "yaxis": "y"
                },
                {
                  "alignmentgroup": "True",
                  "hovertemplate": "País=%{x}<br>Total de vacunas aplicadas=%{y}<extra></extra>",
                  "legendgroup": "Bolivia",
                  "marker": {
                    "color": "#EF553B"
                  },
                  "name": "Bolivia",
                  "offsetgroup": "Bolivia",
                  "orientation": "v",
                  "showlegend": true,
                  "textposition": "auto",
                  "type": "bar",
                  "x": [
                    "Bolivia"
                  ],
                  "xaxis": "x",
                  "y": [
                    180187
                  ],
                  "yaxis": "y"
                },
                {
                  "alignmentgroup": "True",
                  "hovertemplate": "País=%{x}<br>Total de vacunas aplicadas=%{y}<extra></extra>",
                  "legendgroup": "Brazil",
                  "marker": {
                    "color": "#00cc96"
                  },
                  "name": "Brazil",
                  "offsetgroup": "Brazil",
                  "orientation": "v",
                  "showlegend": true,
                  "textposition": "auto",
                  "type": "bar",
                  "x": [
                    "Brazil"
                  ],
                  "xaxis": "x",
                  "y": [
                    15209201
                  ],
                  "yaxis": "y"
                },
                {
                  "alignmentgroup": "True",
                  "hovertemplate": "País=%{x}<br>Total de vacunas aplicadas=%{y}<extra></extra>",
                  "legendgroup": "Chile",
                  "marker": {
                    "color": "#ab63fa"
                  },
                  "name": "Chile",
                  "offsetgroup": "Chile",
                  "orientation": "v",
                  "showlegend": true,
                  "textposition": "auto",
                  "type": "bar",
                  "x": [
                    "Chile"
                  ],
                  "xaxis": "x",
                  "y": [
                    8968634
                  ],
                  "yaxis": "y"
                },
                {
                  "alignmentgroup": "True",
                  "hovertemplate": "País=%{x}<br>Total de vacunas aplicadas=%{y}<extra></extra>",
                  "legendgroup": "Colombia",
                  "marker": {
                    "color": "#FFA15A"
                  },
                  "name": "Colombia",
                  "offsetgroup": "Colombia",
                  "orientation": "v",
                  "showlegend": true,
                  "textposition": "auto",
                  "type": "bar",
                  "x": [
                    "Colombia"
                  ],
                  "xaxis": "x",
                  "y": [
                    1238259
                  ],
                  "yaxis": "y"
                },
                {
                  "alignmentgroup": "True",
                  "hovertemplate": "País=%{x}<br>Total de vacunas aplicadas=%{y}<extra></extra>",
                  "legendgroup": "Costa Rica",
                  "marker": {
                    "color": "#19d3f3"
                  },
                  "name": "Costa Rica",
                  "offsetgroup": "Costa Rica",
                  "orientation": "v",
                  "showlegend": true,
                  "textposition": "auto",
                  "type": "bar",
                  "x": [
                    "Costa Rica"
                  ],
                  "xaxis": "x",
                  "y": [
                    312425
                  ],
                  "yaxis": "y"
                },
                {
                  "alignmentgroup": "True",
                  "hovertemplate": "País=%{x}<br>Total de vacunas aplicadas=%{y}<extra></extra>",
                  "legendgroup": "Dominican Republic",
                  "marker": {
                    "color": "#FF6692"
                  },
                  "name": "Dominican Republic",
                  "offsetgroup": "Dominican Republic",
                  "orientation": "v",
                  "showlegend": true,
                  "textposition": "auto",
                  "type": "bar",
                  "x": [
                    "Dominican Republic"
                  ],
                  "xaxis": "x",
                  "y": [
                    800000
                  ],
                  "yaxis": "y"
                },
                {
                  "alignmentgroup": "True",
                  "hovertemplate": "País=%{x}<br>Total de vacunas aplicadas=%{y}<extra></extra>",
                  "legendgroup": "Ecuador",
                  "marker": {
                    "color": "#B6E880"
                  },
                  "name": "Ecuador",
                  "offsetgroup": "Ecuador",
                  "orientation": "v",
                  "showlegend": true,
                  "textposition": "auto",
                  "type": "bar",
                  "x": [
                    "Ecuador"
                  ],
                  "xaxis": "x",
                  "y": [
                    178970
                  ],
                  "yaxis": "y"
                },
                {
                  "alignmentgroup": "True",
                  "hovertemplate": "País=%{x}<br>Total de vacunas aplicadas=%{y}<extra></extra>",
                  "legendgroup": "El Salvador",
                  "marker": {
                    "color": "#FF97FF"
                  },
                  "name": "El Salvador",
                  "offsetgroup": "El Salvador",
                  "orientation": "v",
                  "showlegend": true,
                  "textposition": "auto",
                  "type": "bar",
                  "x": [
                    "El Salvador"
                  ],
                  "xaxis": "x",
                  "y": [
                    49000
                  ],
                  "yaxis": "y"
                },
                {
                  "alignmentgroup": "True",
                  "hovertemplate": "País=%{x}<br>Total de vacunas aplicadas=%{y}<extra></extra>",
                  "legendgroup": "Guatemala",
                  "marker": {
                    "color": "#FECB52"
                  },
                  "name": "Guatemala",
                  "offsetgroup": "Guatemala",
                  "orientation": "v",
                  "showlegend": true,
                  "textposition": "auto",
                  "type": "bar",
                  "x": [
                    "Guatemala"
                  ],
                  "xaxis": "x",
                  "y": [
                    72405
                  ],
                  "yaxis": "y"
                },
                {
                  "alignmentgroup": "True",
                  "hovertemplate": "País=%{x}<br>Total de vacunas aplicadas=%{y}<extra></extra>",
                  "legendgroup": "Honduras",
                  "marker": {
                    "color": "#636efa"
                  },
                  "name": "Honduras",
                  "offsetgroup": "Honduras",
                  "orientation": "v",
                  "showlegend": true,
                  "textposition": "auto",
                  "type": "bar",
                  "x": [
                    "Honduras"
                  ],
                  "xaxis": "x",
                  "y": [
                    43073
                  ],
                  "yaxis": "y"
                },
                {
                  "alignmentgroup": "True",
                  "hovertemplate": "País=%{x}<br>Total de vacunas aplicadas=%{y}<extra></extra>",
                  "legendgroup": "Mexico",
                  "marker": {
                    "color": "#EF553B"
                  },
                  "name": "Mexico",
                  "offsetgroup": "Mexico",
                  "orientation": "v",
                  "showlegend": true,
                  "textposition": "auto",
                  "type": "bar",
                  "x": [
                    "Mexico"
                  ],
                  "xaxis": "x",
                  "y": [
                    5926967
                  ],
                  "yaxis": "y"
                },
                {
                  "alignmentgroup": "True",
                  "hovertemplate": "País=%{x}<br>Total de vacunas aplicadas=%{y}<extra></extra>",
                  "legendgroup": "Panama",
                  "marker": {
                    "color": "#00cc96"
                  },
                  "name": "Panama",
                  "offsetgroup": "Panama",
                  "orientation": "v",
                  "showlegend": true,
                  "textposition": "auto",
                  "type": "bar",
                  "x": [
                    "Panama"
                  ],
                  "xaxis": "x",
                  "y": [
                    309660
                  ],
                  "yaxis": "y"
                },
                {
                  "alignmentgroup": "True",
                  "hovertemplate": "País=%{x}<br>Total de vacunas aplicadas=%{y}<extra></extra>",
                  "legendgroup": "Paraguay",
                  "marker": {
                    "color": "#ab63fa"
                  },
                  "name": "Paraguay",
                  "offsetgroup": "Paraguay",
                  "orientation": "v",
                  "showlegend": true,
                  "textposition": "auto",
                  "type": "bar",
                  "x": [
                    "Paraguay"
                  ],
                  "xaxis": "x",
                  "y": [
                    14724
                  ],
                  "yaxis": "y"
                },
                {
                  "alignmentgroup": "True",
                  "hovertemplate": "País=%{x}<br>Total de vacunas aplicadas=%{y}<extra></extra>",
                  "legendgroup": "Peru",
                  "marker": {
                    "color": "#FFA15A"
                  },
                  "name": "Peru",
                  "offsetgroup": "Peru",
                  "orientation": "v",
                  "showlegend": true,
                  "textposition": "auto",
                  "type": "bar",
                  "x": [
                    "Peru"
                  ],
                  "xaxis": "x",
                  "y": [
                    706750
                  ],
                  "yaxis": "y"
                },
                {
                  "alignmentgroup": "True",
                  "hovertemplate": "País=%{x}<br>Total de vacunas aplicadas=%{y}<extra></extra>",
                  "legendgroup": "Uruguay",
                  "marker": {
                    "color": "#19d3f3"
                  },
                  "name": "Uruguay",
                  "offsetgroup": "Uruguay",
                  "orientation": "v",
                  "showlegend": true,
                  "textposition": "auto",
                  "type": "bar",
                  "x": [
                    "Uruguay"
                  ],
                  "xaxis": "x",
                  "y": [
                    376693
                  ],
                  "yaxis": "y"
                },
                {
                  "alignmentgroup": "True",
                  "hovertemplate": "País=%{x}<br>Total de vacunas aplicadas=%{y}<extra></extra>",
                  "legendgroup": "Venezuela",
                  "marker": {
                    "color": "#FF6692"
                  },
                  "name": "Venezuela",
                  "offsetgroup": "Venezuela",
                  "orientation": "v",
                  "showlegend": true,
                  "textposition": "auto",
                  "type": "bar",
                  "x": [
                    "Venezuela"
                  ],
                  "xaxis": "x",
                  "y": [
                    12194
                  ],
                  "yaxis": "y"
                }
              ],
              "layout": {
                "barmode": "relative",
                "height": 720,
                "legend": {
                  "title": {
                    "text": "País"
                  },
                  "tracegroupgap": 0
                },
                "margin": {
                  "t": 60
                },
                "template": {
                  "data": {
                    "bar": [
                      {
                        "error_x": {
                          "color": "#2a3f5f"
                        },
                        "error_y": {
                          "color": "#2a3f5f"
                        },
                        "marker": {
                          "line": {
                            "color": "#E5ECF6",
                            "width": 0.5
                          }
                        },
                        "type": "bar"
                      }
                    ],
                    "barpolar": [
                      {
                        "marker": {
                          "line": {
                            "color": "#E5ECF6",
                            "width": 0.5
                          }
                        },
                        "type": "barpolar"
                      }
                    ],
                    "carpet": [
                      {
                        "aaxis": {
                          "endlinecolor": "#2a3f5f",
                          "gridcolor": "white",
                          "linecolor": "white",
                          "minorgridcolor": "white",
                          "startlinecolor": "#2a3f5f"
                        },
                        "baxis": {
                          "endlinecolor": "#2a3f5f",
                          "gridcolor": "white",
                          "linecolor": "white",
                          "minorgridcolor": "white",
                          "startlinecolor": "#2a3f5f"
                        },
                        "type": "carpet"
                      }
                    ],
                    "choropleth": [
                      {
                        "colorbar": {
                          "outlinewidth": 0,
                          "ticks": ""
                        },
                        "type": "choropleth"
                      }
                    ],
                    "contour": [
                      {
                        "colorbar": {
                          "outlinewidth": 0,
                          "ticks": ""
                        },
                        "colorscale": [
                          [
                            0,
                            "#0d0887"
                          ],
                          [
                            0.1111111111111111,
                            "#46039f"
                          ],
                          [
                            0.2222222222222222,
                            "#7201a8"
                          ],
                          [
                            0.3333333333333333,
                            "#9c179e"
                          ],
                          [
                            0.4444444444444444,
                            "#bd3786"
                          ],
                          [
                            0.5555555555555556,
                            "#d8576b"
                          ],
                          [
                            0.6666666666666666,
                            "#ed7953"
                          ],
                          [
                            0.7777777777777778,
                            "#fb9f3a"
                          ],
                          [
                            0.8888888888888888,
                            "#fdca26"
                          ],
                          [
                            1,
                            "#f0f921"
                          ]
                        ],
                        "type": "contour"
                      }
                    ],
                    "contourcarpet": [
                      {
                        "colorbar": {
                          "outlinewidth": 0,
                          "ticks": ""
                        },
                        "type": "contourcarpet"
                      }
                    ],
                    "heatmap": [
                      {
                        "colorbar": {
                          "outlinewidth": 0,
                          "ticks": ""
                        },
                        "colorscale": [
                          [
                            0,
                            "#0d0887"
                          ],
                          [
                            0.1111111111111111,
                            "#46039f"
                          ],
                          [
                            0.2222222222222222,
                            "#7201a8"
                          ],
                          [
                            0.3333333333333333,
                            "#9c179e"
                          ],
                          [
                            0.4444444444444444,
                            "#bd3786"
                          ],
                          [
                            0.5555555555555556,
                            "#d8576b"
                          ],
                          [
                            0.6666666666666666,
                            "#ed7953"
                          ],
                          [
                            0.7777777777777778,
                            "#fb9f3a"
                          ],
                          [
                            0.8888888888888888,
                            "#fdca26"
                          ],
                          [
                            1,
                            "#f0f921"
                          ]
                        ],
                        "type": "heatmap"
                      }
                    ],
                    "heatmapgl": [
                      {
                        "colorbar": {
                          "outlinewidth": 0,
                          "ticks": ""
                        },
                        "colorscale": [
                          [
                            0,
                            "#0d0887"
                          ],
                          [
                            0.1111111111111111,
                            "#46039f"
                          ],
                          [
                            0.2222222222222222,
                            "#7201a8"
                          ],
                          [
                            0.3333333333333333,
                            "#9c179e"
                          ],
                          [
                            0.4444444444444444,
                            "#bd3786"
                          ],
                          [
                            0.5555555555555556,
                            "#d8576b"
                          ],
                          [
                            0.6666666666666666,
                            "#ed7953"
                          ],
                          [
                            0.7777777777777778,
                            "#fb9f3a"
                          ],
                          [
                            0.8888888888888888,
                            "#fdca26"
                          ],
                          [
                            1,
                            "#f0f921"
                          ]
                        ],
                        "type": "heatmapgl"
                      }
                    ],
                    "histogram": [
                      {
                        "marker": {
                          "colorbar": {
                            "outlinewidth": 0,
                            "ticks": ""
                          }
                        },
                        "type": "histogram"
                      }
                    ],
                    "histogram2d": [
                      {
                        "colorbar": {
                          "outlinewidth": 0,
                          "ticks": ""
                        },
                        "colorscale": [
                          [
                            0,
                            "#0d0887"
                          ],
                          [
                            0.1111111111111111,
                            "#46039f"
                          ],
                          [
                            0.2222222222222222,
                            "#7201a8"
                          ],
                          [
                            0.3333333333333333,
                            "#9c179e"
                          ],
                          [
                            0.4444444444444444,
                            "#bd3786"
                          ],
                          [
                            0.5555555555555556,
                            "#d8576b"
                          ],
                          [
                            0.6666666666666666,
                            "#ed7953"
                          ],
                          [
                            0.7777777777777778,
                            "#fb9f3a"
                          ],
                          [
                            0.8888888888888888,
                            "#fdca26"
                          ],
                          [
                            1,
                            "#f0f921"
                          ]
                        ],
                        "type": "histogram2d"
                      }
                    ],
                    "histogram2dcontour": [
                      {
                        "colorbar": {
                          "outlinewidth": 0,
                          "ticks": ""
                        },
                        "colorscale": [
                          [
                            0,
                            "#0d0887"
                          ],
                          [
                            0.1111111111111111,
                            "#46039f"
                          ],
                          [
                            0.2222222222222222,
                            "#7201a8"
                          ],
                          [
                            0.3333333333333333,
                            "#9c179e"
                          ],
                          [
                            0.4444444444444444,
                            "#bd3786"
                          ],
                          [
                            0.5555555555555556,
                            "#d8576b"
                          ],
                          [
                            0.6666666666666666,
                            "#ed7953"
                          ],
                          [
                            0.7777777777777778,
                            "#fb9f3a"
                          ],
                          [
                            0.8888888888888888,
                            "#fdca26"
                          ],
                          [
                            1,
                            "#f0f921"
                          ]
                        ],
                        "type": "histogram2dcontour"
                      }
                    ],
                    "mesh3d": [
                      {
                        "colorbar": {
                          "outlinewidth": 0,
                          "ticks": ""
                        },
                        "type": "mesh3d"
                      }
                    ],
                    "parcoords": [
                      {
                        "line": {
                          "colorbar": {
                            "outlinewidth": 0,
                            "ticks": ""
                          }
                        },
                        "type": "parcoords"
                      }
                    ],
                    "pie": [
                      {
                        "automargin": true,
                        "type": "pie"
                      }
                    ],
                    "scatter": [
                      {
                        "marker": {
                          "colorbar": {
                            "outlinewidth": 0,
                            "ticks": ""
                          }
                        },
                        "type": "scatter"
                      }
                    ],
                    "scatter3d": [
                      {
                        "line": {
                          "colorbar": {
                            "outlinewidth": 0,
                            "ticks": ""
                          }
                        },
                        "marker": {
                          "colorbar": {
                            "outlinewidth": 0,
                            "ticks": ""
                          }
                        },
                        "type": "scatter3d"
                      }
                    ],
                    "scattercarpet": [
                      {
                        "marker": {
                          "colorbar": {
                            "outlinewidth": 0,
                            "ticks": ""
                          }
                        },
                        "type": "scattercarpet"
                      }
                    ],
                    "scattergeo": [
                      {
                        "marker": {
                          "colorbar": {
                            "outlinewidth": 0,
                            "ticks": ""
                          }
                        },
                        "type": "scattergeo"
                      }
                    ],
                    "scattergl": [
                      {
                        "marker": {
                          "colorbar": {
                            "outlinewidth": 0,
                            "ticks": ""
                          }
                        },
                        "type": "scattergl"
                      }
                    ],
                    "scattermapbox": [
                      {
                        "marker": {
                          "colorbar": {
                            "outlinewidth": 0,
                            "ticks": ""
                          }
                        },
                        "type": "scattermapbox"
                      }
                    ],
                    "scatterpolar": [
                      {
                        "marker": {
                          "colorbar": {
                            "outlinewidth": 0,
                            "ticks": ""
                          }
                        },
                        "type": "scatterpolar"
                      }
                    ],
                    "scatterpolargl": [
                      {
                        "marker": {
                          "colorbar": {
                            "outlinewidth": 0,
                            "ticks": ""
                          }
                        },
                        "type": "scatterpolargl"
                      }
                    ],
                    "scatterternary": [
                      {
                        "marker": {
                          "colorbar": {
                            "outlinewidth": 0,
                            "ticks": ""
                          }
                        },
                        "type": "scatterternary"
                      }
                    ],
                    "surface": [
                      {
                        "colorbar": {
                          "outlinewidth": 0,
                          "ticks": ""
                        },
                        "colorscale": [
                          [
                            0,
                            "#0d0887"
                          ],
                          [
                            0.1111111111111111,
                            "#46039f"
                          ],
                          [
                            0.2222222222222222,
                            "#7201a8"
                          ],
                          [
                            0.3333333333333333,
                            "#9c179e"
                          ],
                          [
                            0.4444444444444444,
                            "#bd3786"
                          ],
                          [
                            0.5555555555555556,
                            "#d8576b"
                          ],
                          [
                            0.6666666666666666,
                            "#ed7953"
                          ],
                          [
                            0.7777777777777778,
                            "#fb9f3a"
                          ],
                          [
                            0.8888888888888888,
                            "#fdca26"
                          ],
                          [
                            1,
                            "#f0f921"
                          ]
                        ],
                        "type": "surface"
                      }
                    ],
                    "table": [
                      {
                        "cells": {
                          "fill": {
                            "color": "#EBF0F8"
                          },
                          "line": {
                            "color": "white"
                          }
                        },
                        "header": {
                          "fill": {
                            "color": "#C8D4E3"
                          },
                          "line": {
                            "color": "white"
                          }
                        },
                        "type": "table"
                      }
                    ]
                  },
                  "layout": {
                    "annotationdefaults": {
                      "arrowcolor": "#2a3f5f",
                      "arrowhead": 0,
                      "arrowwidth": 1
                    },
                    "autotypenumbers": "strict",
                    "coloraxis": {
                      "colorbar": {
                        "outlinewidth": 0,
                        "ticks": ""
                      }
                    },
                    "colorscale": {
                      "diverging": [
                        [
                          0,
                          "#8e0152"
                        ],
                        [
                          0.1,
                          "#c51b7d"
                        ],
                        [
                          0.2,
                          "#de77ae"
                        ],
                        [
                          0.3,
                          "#f1b6da"
                        ],
                        [
                          0.4,
                          "#fde0ef"
                        ],
                        [
                          0.5,
                          "#f7f7f7"
                        ],
                        [
                          0.6,
                          "#e6f5d0"
                        ],
                        [
                          0.7,
                          "#b8e186"
                        ],
                        [
                          0.8,
                          "#7fbc41"
                        ],
                        [
                          0.9,
                          "#4d9221"
                        ],
                        [
                          1,
                          "#276419"
                        ]
                      ],
                      "sequential": [
                        [
                          0,
                          "#0d0887"
                        ],
                        [
                          0.1111111111111111,
                          "#46039f"
                        ],
                        [
                          0.2222222222222222,
                          "#7201a8"
                        ],
                        [
                          0.3333333333333333,
                          "#9c179e"
                        ],
                        [
                          0.4444444444444444,
                          "#bd3786"
                        ],
                        [
                          0.5555555555555556,
                          "#d8576b"
                        ],
                        [
                          0.6666666666666666,
                          "#ed7953"
                        ],
                        [
                          0.7777777777777778,
                          "#fb9f3a"
                        ],
                        [
                          0.8888888888888888,
                          "#fdca26"
                        ],
                        [
                          1,
                          "#f0f921"
                        ]
                      ],
                      "sequentialminus": [
                        [
                          0,
                          "#0d0887"
                        ],
                        [
                          0.1111111111111111,
                          "#46039f"
                        ],
                        [
                          0.2222222222222222,
                          "#7201a8"
                        ],
                        [
                          0.3333333333333333,
                          "#9c179e"
                        ],
                        [
                          0.4444444444444444,
                          "#bd3786"
                        ],
                        [
                          0.5555555555555556,
                          "#d8576b"
                        ],
                        [
                          0.6666666666666666,
                          "#ed7953"
                        ],
                        [
                          0.7777777777777778,
                          "#fb9f3a"
                        ],
                        [
                          0.8888888888888888,
                          "#fdca26"
                        ],
                        [
                          1,
                          "#f0f921"
                        ]
                      ]
                    },
                    "colorway": [
                      "#636efa",
                      "#EF553B",
                      "#00cc96",
                      "#ab63fa",
                      "#FFA15A",
                      "#19d3f3",
                      "#FF6692",
                      "#B6E880",
                      "#FF97FF",
                      "#FECB52"
                    ],
                    "font": {
                      "color": "#2a3f5f"
                    },
                    "geo": {
                      "bgcolor": "white",
                      "lakecolor": "white",
                      "landcolor": "#E5ECF6",
                      "showlakes": true,
                      "showland": true,
                      "subunitcolor": "white"
                    },
                    "hoverlabel": {
                      "align": "left"
                    },
                    "hovermode": "closest",
                    "mapbox": {
                      "style": "light"
                    },
                    "paper_bgcolor": "white",
                    "plot_bgcolor": "#E5ECF6",
                    "polar": {
                      "angularaxis": {
                        "gridcolor": "white",
                        "linecolor": "white",
                        "ticks": ""
                      },
                      "bgcolor": "#E5ECF6",
                      "radialaxis": {
                        "gridcolor": "white",
                        "linecolor": "white",
                        "ticks": ""
                      }
                    },
                    "scene": {
                      "xaxis": {
                        "backgroundcolor": "#E5ECF6",
                        "gridcolor": "white",
                        "gridwidth": 2,
                        "linecolor": "white",
                        "showbackground": true,
                        "ticks": "",
                        "zerolinecolor": "white"
                      },
                      "yaxis": {
                        "backgroundcolor": "#E5ECF6",
                        "gridcolor": "white",
                        "gridwidth": 2,
                        "linecolor": "white",
                        "showbackground": true,
                        "ticks": "",
                        "zerolinecolor": "white"
                      },
                      "zaxis": {
                        "backgroundcolor": "#E5ECF6",
                        "gridcolor": "white",
                        "gridwidth": 2,
                        "linecolor": "white",
                        "showbackground": true,
                        "ticks": "",
                        "zerolinecolor": "white"
                      }
                    },
                    "shapedefaults": {
                      "line": {
                        "color": "#2a3f5f"
                      }
                    },
                    "ternary": {
                      "aaxis": {
                        "gridcolor": "white",
                        "linecolor": "white",
                        "ticks": ""
                      },
                      "baxis": {
                        "gridcolor": "white",
                        "linecolor": "white",
                        "ticks": ""
                      },
                      "bgcolor": "#E5ECF6",
                      "caxis": {
                        "gridcolor": "white",
                        "linecolor": "white",
                        "ticks": ""
                      }
                    },
                    "title": {
                      "x": 0.05
                    },
                    "xaxis": {
                      "automargin": true,
                      "gridcolor": "white",
                      "linecolor": "white",
                      "ticks": "",
                      "title": {
                        "standoff": 15
                      },
                      "zerolinecolor": "white",
                      "zerolinewidth": 2
                    },
                    "yaxis": {
                      "automargin": true,
                      "gridcolor": "white",
                      "linecolor": "white",
                      "ticks": "",
                      "title": {
                        "standoff": 15
                      },
                      "zerolinecolor": "white",
                      "zerolinewidth": 2
                    }
                  }
                },
                "title": {
                  "text": "Total de vacunas aplicadas por País",
                  "x": 0.5
                },
                "width": 1280,
                "xaxis": {
                  "anchor": "y",
                  "categoryarray": [
                    "Argentina",
                    "Bolivia",
                    "Brazil",
                    "Chile",
                    "Colombia",
                    "Costa Rica",
                    "Dominican Republic",
                    "Ecuador",
                    "El Salvador",
                    "Guatemala",
                    "Honduras",
                    "Mexico",
                    "Panama",
                    "Paraguay",
                    "Peru",
                    "Uruguay",
                    "Venezuela"
                  ],
                  "categoryorder": "array",
                  "domain": [
                    0,
                    1
                  ],
                  "title": {
                    "text": "País"
                  }
                },
                "yaxis": {
                  "anchor": "x",
                  "domain": [
                    0,
                    1
                  ],
                  "title": {
                    "text": "Total de vacunas aplicadas"
                  }
                }
              }
            }
          },
          "metadata": {},
          "output_type": "display_data"
        }
      ],
      "source": [
        "# Gráfico de Barras: Total de Vacunas aplicadas por País\n",
        "total_vaccinations_per_country = vaccination_df_latam['total_vaccinations']\n",
        "total_vaccinations_fig = px.bar(vaccination_df_latam, \n",
        "                        x=\"country\", \n",
        "                        y=\"total_vaccinations\", \n",
        "                        color='country', \n",
        "                        labels={'total_vaccinations':'Total de vacunas aplicadas', 'country':'País'}, \n",
        "                        width = 1280,\n",
        "                        height = 720)\n",
        "total_vaccinations_fig.update_layout(title_text='Total de vacunas aplicadas por País', title_x=0.5)\n",
        "total_vaccinations_fig.show()              \n",
        "total_vaccinations_fig.write_image(\"total_vaccinations_fig.png\") \n"
      ]
    },
    {
      "cell_type": "markdown",
      "metadata": {
        "id": "wtSGbspnbnmm"
      },
      "source": [
        "### 3.5 Porcentaje de Población Vacunada \n",
        "\n",
        "La gráfica que se presenta a continuación muestra el porcentaje de población que han recibido al menos una dosis o que han completado el esquema de inmunización en relación con la población total de cada país del DataFrame *vaccination_df_latam*."
      ]
    },
    {
      "cell_type": "code",
      "execution_count": 23,
      "metadata": {},
      "outputs": [
        {
          "data": {
            "application/vnd.plotly.v1+json": {
              "config": {
                "plotlyServerURL": "https://plot.ly"
              },
              "data": [
                {
                  "marker": {
                    "color": "#2980b9"
                  },
                  "name": "Total vacunas",
                  "type": "bar",
                  "x": [
                    "Argentina",
                    "Bolivia",
                    "Brazil",
                    "Chile",
                    "Colombia",
                    "Costa Rica",
                    "Dominican Republic",
                    "Ecuador",
                    "El Salvador",
                    "Guatemala",
                    "Honduras",
                    "Mexico",
                    "Panama",
                    "Paraguay",
                    "Peru",
                    "Uruguay",
                    "Venezuela"
                  ],
                  "y": [
                    7.211239430351579,
                    1.5654821894005213,
                    7.2081521327014215,
                    47.32788390501319,
                    2.4597914183551848,
                    6.189084786053883,
                    7.4487895716946,
                    1.0303396660909614,
                    0.7592190889370932,
                    0.43617469879518067,
                    0.44195567412271697,
                    4.644958463949844,
                    7.292981629769195,
                    0.20899929027679204,
                    2.1739464780067674,
                    10.880791450028884,
                    0.04275596072931276
                  ]
                },
                {
                  "marker": {
                    "color": "#778beb"
                  },
                  "name": "Una dosis",
                  "text": [
                    5.827214063195372,
                    1.3201737619461338,
                    5.478429857819905,
                    31.081065963060684,
                    2.339958283671037,
                    4.084746434231379,
                    7.4487895716946,
                    0.8103914795624639,
                    0.7592190889370932,
                    0.43617469879518067,
                    0.44195567412271697,
                    3.955247648902821,
                    0,
                    0.18919801277501774,
                    1.4994955398338974,
                    10.880791450028884,
                    0.04275596072931276
                  ],
                  "type": "bar",
                  "x": [
                    "Argentina",
                    "Bolivia",
                    "Brazil",
                    "Chile",
                    "Colombia",
                    "Costa Rica",
                    "Dominican Republic",
                    "Ecuador",
                    "El Salvador",
                    "Guatemala",
                    "Honduras",
                    "Mexico",
                    "Panama",
                    "Paraguay",
                    "Peru",
                    "Uruguay",
                    "Venezuela"
                  ],
                  "y": [
                    5.827214063195372,
                    1.3201737619461338,
                    5.478429857819905,
                    31.081065963060684,
                    2.339958283671037,
                    4.084746434231379,
                    7.4487895716946,
                    0.8103914795624639,
                    0.7592190889370932,
                    0.43617469879518067,
                    0.44195567412271697,
                    3.955247648902821,
                    0,
                    0.18919801277501774,
                    1.4994955398338974,
                    10.880791450028884,
                    0.04275596072931276
                  ]
                },
                {
                  "marker": {
                    "color": "#3dc1d3"
                  },
                  "name": "Dos dosis",
                  "type": "bar",
                  "x": [
                    "Argentina",
                    "Bolivia",
                    "Brazil",
                    "Chile",
                    "Colombia",
                    "Costa Rica",
                    "Dominican Republic",
                    "Ecuador",
                    "El Salvador",
                    "Guatemala",
                    "Honduras",
                    "Mexico",
                    "Panama",
                    "Paraguay",
                    "Peru",
                    "Uruguay",
                    "Venezuela"
                  ],
                  "y": [
                    1.3840253671562082,
                    0.2453084274543875,
                    1.7297222748815166,
                    16.246817941952507,
                    0.1198331346841478,
                    2.104338351822504,
                    0,
                    0.2199481865284974,
                    0,
                    0,
                    0,
                    0.5755979623824452,
                    0,
                    0,
                    0.67445093817287,
                    0,
                    0
                  ]
                }
              ],
              "layout": {
                "barmode": "group",
                "height": 720,
                "template": {
                  "data": {
                    "bar": [
                      {
                        "error_x": {
                          "color": "#2a3f5f"
                        },
                        "error_y": {
                          "color": "#2a3f5f"
                        },
                        "marker": {
                          "line": {
                            "color": "#E5ECF6",
                            "width": 0.5
                          }
                        },
                        "type": "bar"
                      }
                    ],
                    "barpolar": [
                      {
                        "marker": {
                          "line": {
                            "color": "#E5ECF6",
                            "width": 0.5
                          }
                        },
                        "type": "barpolar"
                      }
                    ],
                    "carpet": [
                      {
                        "aaxis": {
                          "endlinecolor": "#2a3f5f",
                          "gridcolor": "white",
                          "linecolor": "white",
                          "minorgridcolor": "white",
                          "startlinecolor": "#2a3f5f"
                        },
                        "baxis": {
                          "endlinecolor": "#2a3f5f",
                          "gridcolor": "white",
                          "linecolor": "white",
                          "minorgridcolor": "white",
                          "startlinecolor": "#2a3f5f"
                        },
                        "type": "carpet"
                      }
                    ],
                    "choropleth": [
                      {
                        "colorbar": {
                          "outlinewidth": 0,
                          "ticks": ""
                        },
                        "type": "choropleth"
                      }
                    ],
                    "contour": [
                      {
                        "colorbar": {
                          "outlinewidth": 0,
                          "ticks": ""
                        },
                        "colorscale": [
                          [
                            0,
                            "#0d0887"
                          ],
                          [
                            0.1111111111111111,
                            "#46039f"
                          ],
                          [
                            0.2222222222222222,
                            "#7201a8"
                          ],
                          [
                            0.3333333333333333,
                            "#9c179e"
                          ],
                          [
                            0.4444444444444444,
                            "#bd3786"
                          ],
                          [
                            0.5555555555555556,
                            "#d8576b"
                          ],
                          [
                            0.6666666666666666,
                            "#ed7953"
                          ],
                          [
                            0.7777777777777778,
                            "#fb9f3a"
                          ],
                          [
                            0.8888888888888888,
                            "#fdca26"
                          ],
                          [
                            1,
                            "#f0f921"
                          ]
                        ],
                        "type": "contour"
                      }
                    ],
                    "contourcarpet": [
                      {
                        "colorbar": {
                          "outlinewidth": 0,
                          "ticks": ""
                        },
                        "type": "contourcarpet"
                      }
                    ],
                    "heatmap": [
                      {
                        "colorbar": {
                          "outlinewidth": 0,
                          "ticks": ""
                        },
                        "colorscale": [
                          [
                            0,
                            "#0d0887"
                          ],
                          [
                            0.1111111111111111,
                            "#46039f"
                          ],
                          [
                            0.2222222222222222,
                            "#7201a8"
                          ],
                          [
                            0.3333333333333333,
                            "#9c179e"
                          ],
                          [
                            0.4444444444444444,
                            "#bd3786"
                          ],
                          [
                            0.5555555555555556,
                            "#d8576b"
                          ],
                          [
                            0.6666666666666666,
                            "#ed7953"
                          ],
                          [
                            0.7777777777777778,
                            "#fb9f3a"
                          ],
                          [
                            0.8888888888888888,
                            "#fdca26"
                          ],
                          [
                            1,
                            "#f0f921"
                          ]
                        ],
                        "type": "heatmap"
                      }
                    ],
                    "heatmapgl": [
                      {
                        "colorbar": {
                          "outlinewidth": 0,
                          "ticks": ""
                        },
                        "colorscale": [
                          [
                            0,
                            "#0d0887"
                          ],
                          [
                            0.1111111111111111,
                            "#46039f"
                          ],
                          [
                            0.2222222222222222,
                            "#7201a8"
                          ],
                          [
                            0.3333333333333333,
                            "#9c179e"
                          ],
                          [
                            0.4444444444444444,
                            "#bd3786"
                          ],
                          [
                            0.5555555555555556,
                            "#d8576b"
                          ],
                          [
                            0.6666666666666666,
                            "#ed7953"
                          ],
                          [
                            0.7777777777777778,
                            "#fb9f3a"
                          ],
                          [
                            0.8888888888888888,
                            "#fdca26"
                          ],
                          [
                            1,
                            "#f0f921"
                          ]
                        ],
                        "type": "heatmapgl"
                      }
                    ],
                    "histogram": [
                      {
                        "marker": {
                          "colorbar": {
                            "outlinewidth": 0,
                            "ticks": ""
                          }
                        },
                        "type": "histogram"
                      }
                    ],
                    "histogram2d": [
                      {
                        "colorbar": {
                          "outlinewidth": 0,
                          "ticks": ""
                        },
                        "colorscale": [
                          [
                            0,
                            "#0d0887"
                          ],
                          [
                            0.1111111111111111,
                            "#46039f"
                          ],
                          [
                            0.2222222222222222,
                            "#7201a8"
                          ],
                          [
                            0.3333333333333333,
                            "#9c179e"
                          ],
                          [
                            0.4444444444444444,
                            "#bd3786"
                          ],
                          [
                            0.5555555555555556,
                            "#d8576b"
                          ],
                          [
                            0.6666666666666666,
                            "#ed7953"
                          ],
                          [
                            0.7777777777777778,
                            "#fb9f3a"
                          ],
                          [
                            0.8888888888888888,
                            "#fdca26"
                          ],
                          [
                            1,
                            "#f0f921"
                          ]
                        ],
                        "type": "histogram2d"
                      }
                    ],
                    "histogram2dcontour": [
                      {
                        "colorbar": {
                          "outlinewidth": 0,
                          "ticks": ""
                        },
                        "colorscale": [
                          [
                            0,
                            "#0d0887"
                          ],
                          [
                            0.1111111111111111,
                            "#46039f"
                          ],
                          [
                            0.2222222222222222,
                            "#7201a8"
                          ],
                          [
                            0.3333333333333333,
                            "#9c179e"
                          ],
                          [
                            0.4444444444444444,
                            "#bd3786"
                          ],
                          [
                            0.5555555555555556,
                            "#d8576b"
                          ],
                          [
                            0.6666666666666666,
                            "#ed7953"
                          ],
                          [
                            0.7777777777777778,
                            "#fb9f3a"
                          ],
                          [
                            0.8888888888888888,
                            "#fdca26"
                          ],
                          [
                            1,
                            "#f0f921"
                          ]
                        ],
                        "type": "histogram2dcontour"
                      }
                    ],
                    "mesh3d": [
                      {
                        "colorbar": {
                          "outlinewidth": 0,
                          "ticks": ""
                        },
                        "type": "mesh3d"
                      }
                    ],
                    "parcoords": [
                      {
                        "line": {
                          "colorbar": {
                            "outlinewidth": 0,
                            "ticks": ""
                          }
                        },
                        "type": "parcoords"
                      }
                    ],
                    "pie": [
                      {
                        "automargin": true,
                        "type": "pie"
                      }
                    ],
                    "scatter": [
                      {
                        "marker": {
                          "colorbar": {
                            "outlinewidth": 0,
                            "ticks": ""
                          }
                        },
                        "type": "scatter"
                      }
                    ],
                    "scatter3d": [
                      {
                        "line": {
                          "colorbar": {
                            "outlinewidth": 0,
                            "ticks": ""
                          }
                        },
                        "marker": {
                          "colorbar": {
                            "outlinewidth": 0,
                            "ticks": ""
                          }
                        },
                        "type": "scatter3d"
                      }
                    ],
                    "scattercarpet": [
                      {
                        "marker": {
                          "colorbar": {
                            "outlinewidth": 0,
                            "ticks": ""
                          }
                        },
                        "type": "scattercarpet"
                      }
                    ],
                    "scattergeo": [
                      {
                        "marker": {
                          "colorbar": {
                            "outlinewidth": 0,
                            "ticks": ""
                          }
                        },
                        "type": "scattergeo"
                      }
                    ],
                    "scattergl": [
                      {
                        "marker": {
                          "colorbar": {
                            "outlinewidth": 0,
                            "ticks": ""
                          }
                        },
                        "type": "scattergl"
                      }
                    ],
                    "scattermapbox": [
                      {
                        "marker": {
                          "colorbar": {
                            "outlinewidth": 0,
                            "ticks": ""
                          }
                        },
                        "type": "scattermapbox"
                      }
                    ],
                    "scatterpolar": [
                      {
                        "marker": {
                          "colorbar": {
                            "outlinewidth": 0,
                            "ticks": ""
                          }
                        },
                        "type": "scatterpolar"
                      }
                    ],
                    "scatterpolargl": [
                      {
                        "marker": {
                          "colorbar": {
                            "outlinewidth": 0,
                            "ticks": ""
                          }
                        },
                        "type": "scatterpolargl"
                      }
                    ],
                    "scatterternary": [
                      {
                        "marker": {
                          "colorbar": {
                            "outlinewidth": 0,
                            "ticks": ""
                          }
                        },
                        "type": "scatterternary"
                      }
                    ],
                    "surface": [
                      {
                        "colorbar": {
                          "outlinewidth": 0,
                          "ticks": ""
                        },
                        "colorscale": [
                          [
                            0,
                            "#0d0887"
                          ],
                          [
                            0.1111111111111111,
                            "#46039f"
                          ],
                          [
                            0.2222222222222222,
                            "#7201a8"
                          ],
                          [
                            0.3333333333333333,
                            "#9c179e"
                          ],
                          [
                            0.4444444444444444,
                            "#bd3786"
                          ],
                          [
                            0.5555555555555556,
                            "#d8576b"
                          ],
                          [
                            0.6666666666666666,
                            "#ed7953"
                          ],
                          [
                            0.7777777777777778,
                            "#fb9f3a"
                          ],
                          [
                            0.8888888888888888,
                            "#fdca26"
                          ],
                          [
                            1,
                            "#f0f921"
                          ]
                        ],
                        "type": "surface"
                      }
                    ],
                    "table": [
                      {
                        "cells": {
                          "fill": {
                            "color": "#EBF0F8"
                          },
                          "line": {
                            "color": "white"
                          }
                        },
                        "header": {
                          "fill": {
                            "color": "#C8D4E3"
                          },
                          "line": {
                            "color": "white"
                          }
                        },
                        "type": "table"
                      }
                    ]
                  },
                  "layout": {
                    "annotationdefaults": {
                      "arrowcolor": "#2a3f5f",
                      "arrowhead": 0,
                      "arrowwidth": 1
                    },
                    "autotypenumbers": "strict",
                    "coloraxis": {
                      "colorbar": {
                        "outlinewidth": 0,
                        "ticks": ""
                      }
                    },
                    "colorscale": {
                      "diverging": [
                        [
                          0,
                          "#8e0152"
                        ],
                        [
                          0.1,
                          "#c51b7d"
                        ],
                        [
                          0.2,
                          "#de77ae"
                        ],
                        [
                          0.3,
                          "#f1b6da"
                        ],
                        [
                          0.4,
                          "#fde0ef"
                        ],
                        [
                          0.5,
                          "#f7f7f7"
                        ],
                        [
                          0.6,
                          "#e6f5d0"
                        ],
                        [
                          0.7,
                          "#b8e186"
                        ],
                        [
                          0.8,
                          "#7fbc41"
                        ],
                        [
                          0.9,
                          "#4d9221"
                        ],
                        [
                          1,
                          "#276419"
                        ]
                      ],
                      "sequential": [
                        [
                          0,
                          "#0d0887"
                        ],
                        [
                          0.1111111111111111,
                          "#46039f"
                        ],
                        [
                          0.2222222222222222,
                          "#7201a8"
                        ],
                        [
                          0.3333333333333333,
                          "#9c179e"
                        ],
                        [
                          0.4444444444444444,
                          "#bd3786"
                        ],
                        [
                          0.5555555555555556,
                          "#d8576b"
                        ],
                        [
                          0.6666666666666666,
                          "#ed7953"
                        ],
                        [
                          0.7777777777777778,
                          "#fb9f3a"
                        ],
                        [
                          0.8888888888888888,
                          "#fdca26"
                        ],
                        [
                          1,
                          "#f0f921"
                        ]
                      ],
                      "sequentialminus": [
                        [
                          0,
                          "#0d0887"
                        ],
                        [
                          0.1111111111111111,
                          "#46039f"
                        ],
                        [
                          0.2222222222222222,
                          "#7201a8"
                        ],
                        [
                          0.3333333333333333,
                          "#9c179e"
                        ],
                        [
                          0.4444444444444444,
                          "#bd3786"
                        ],
                        [
                          0.5555555555555556,
                          "#d8576b"
                        ],
                        [
                          0.6666666666666666,
                          "#ed7953"
                        ],
                        [
                          0.7777777777777778,
                          "#fb9f3a"
                        ],
                        [
                          0.8888888888888888,
                          "#fdca26"
                        ],
                        [
                          1,
                          "#f0f921"
                        ]
                      ]
                    },
                    "colorway": [
                      "#636efa",
                      "#EF553B",
                      "#00cc96",
                      "#ab63fa",
                      "#FFA15A",
                      "#19d3f3",
                      "#FF6692",
                      "#B6E880",
                      "#FF97FF",
                      "#FECB52"
                    ],
                    "font": {
                      "color": "#2a3f5f"
                    },
                    "geo": {
                      "bgcolor": "white",
                      "lakecolor": "white",
                      "landcolor": "#E5ECF6",
                      "showlakes": true,
                      "showland": true,
                      "subunitcolor": "white"
                    },
                    "hoverlabel": {
                      "align": "left"
                    },
                    "hovermode": "closest",
                    "mapbox": {
                      "style": "light"
                    },
                    "paper_bgcolor": "white",
                    "plot_bgcolor": "#E5ECF6",
                    "polar": {
                      "angularaxis": {
                        "gridcolor": "white",
                        "linecolor": "white",
                        "ticks": ""
                      },
                      "bgcolor": "#E5ECF6",
                      "radialaxis": {
                        "gridcolor": "white",
                        "linecolor": "white",
                        "ticks": ""
                      }
                    },
                    "scene": {
                      "xaxis": {
                        "backgroundcolor": "#E5ECF6",
                        "gridcolor": "white",
                        "gridwidth": 2,
                        "linecolor": "white",
                        "showbackground": true,
                        "ticks": "",
                        "zerolinecolor": "white"
                      },
                      "yaxis": {
                        "backgroundcolor": "#E5ECF6",
                        "gridcolor": "white",
                        "gridwidth": 2,
                        "linecolor": "white",
                        "showbackground": true,
                        "ticks": "",
                        "zerolinecolor": "white"
                      },
                      "zaxis": {
                        "backgroundcolor": "#E5ECF6",
                        "gridcolor": "white",
                        "gridwidth": 2,
                        "linecolor": "white",
                        "showbackground": true,
                        "ticks": "",
                        "zerolinecolor": "white"
                      }
                    },
                    "shapedefaults": {
                      "line": {
                        "color": "#2a3f5f"
                      }
                    },
                    "ternary": {
                      "aaxis": {
                        "gridcolor": "white",
                        "linecolor": "white",
                        "ticks": ""
                      },
                      "baxis": {
                        "gridcolor": "white",
                        "linecolor": "white",
                        "ticks": ""
                      },
                      "bgcolor": "#E5ECF6",
                      "caxis": {
                        "gridcolor": "white",
                        "linecolor": "white",
                        "ticks": ""
                      }
                    },
                    "title": {
                      "x": 0.05
                    },
                    "xaxis": {
                      "automargin": true,
                      "gridcolor": "white",
                      "linecolor": "white",
                      "ticks": "",
                      "title": {
                        "standoff": 15
                      },
                      "zerolinecolor": "white",
                      "zerolinewidth": 2
                    },
                    "yaxis": {
                      "automargin": true,
                      "gridcolor": "white",
                      "linecolor": "white",
                      "ticks": "",
                      "title": {
                        "standoff": 15
                      },
                      "zerolinecolor": "white",
                      "zerolinewidth": 2
                    }
                  }
                },
                "title": {
                  "text": "Porcentaje de Población Inmunizada por País",
                  "x": 0.5
                },
                "width": 1280
              }
            }
          },
          "metadata": {},
          "output_type": "display_data"
        }
      ],
      "source": [
        "# Pre-procesado de Datos para la Sección 3.5\n",
        "latam_countries_population = [44.94, 11.51, 211, 18.95, 50.34, 5.048, 10.74, 17.37, 6.454, 16.6, 9.746, 127.6, 4.246, 7.045, 32.51, 3.462, 28.52]\n",
        "latam_countries_population = [item * 1e6 for item in latam_countries_population]\n",
        "\n",
        "\n",
        "vaccination_df_latam['people_vaccinated'] = vaccination_df_latam['people_vaccinated'].fillna(0)\n",
        "vaccination_df_latam['people_fully_vaccinated'] = vaccination_df_latam['people_fully_vaccinated'].fillna(0)\n",
        "\n",
        "vaccination_df_latam['unavacuna'] = (vaccination_df_latam['people_vaccinated'].fillna(0)/ latam_countries_population)* 100\n",
        "vaccination_df_latam['fullvacunados'] = (vaccination_df_latam['people_fully_vaccinated'].fillna(0)/ latam_countries_population)* 100\n",
        "population_vaccinated_percentage = (vaccination_df_latam['total_vaccinations']  / latam_countries_population) * 100 \n",
        "\n",
        "# Gráfico de Barras: Porcentaje de Población Vacunada\n",
        "population_vaccinated_percentage_fig = go.Figure(data=[\n",
        "    go.Bar(name='Total vacunas', x=vaccination_df_latam['country'], y=population_vaccinated_percentage, marker_color='#2980b9'),\n",
        "    go.Bar(name='Una dosis', x=vaccination_df_latam['country'], y=vaccination_df_latam['unavacuna'],text=vaccination_df_latam['unavacuna'], marker_color='#778beb'),\n",
        "    go.Bar(name='Dos dosis', x=vaccination_df_latam['country'], y=vaccination_df_latam['fullvacunados'], marker_color='#3dc1d3')\n",
        "    ])\n",
        "population_vaccinated_percentage_fig.update_layout(barmode='group', width = 1280, height = 720)\n",
        "population_vaccinated_percentage_fig.update_layout(title_text=\"Porcentaje de Población Inmunizada por País\", title_x=0.5)\n",
        "population_vaccinated_percentage_fig.show()\n",
        "population_vaccinated_percentage_fig.write_image(\"population_vaccinated_percentage_fig.png\") "
      ]
    },
    {
      "cell_type": "markdown",
      "metadata": {
        "id": "aeR5whf5bnmp"
      },
      "source": [
        "### 3.6 Total de Vacunas Aplicadas (Semanal)\n",
        "\n",
        "La gráfica que se presenta a continuación muestra el porcentaje de población vacunada que ha completado el esquema de inmunización en cada país del DataFrame *vaccination_df_latam*."
      ]
    },
    {
      "cell_type": "code",
      "execution_count": 24,
      "metadata": {
        "colab": {
          "base_uri": "https://localhost:8080/",
          "height": 635
        },
        "id": "VxKFiYoX4e3T",
        "outputId": "243477b2-797b-4ab1-aac4-3042920affde"
      },
      "outputs": [
        {
          "name": "stderr",
          "output_type": "stream",
          "text": [
            "<ipython-input-24-72fb0674ea71>:2: FutureWarning:\n",
            "\n",
            "Series.dt.weekofyear and Series.dt.week have been deprecated.  Please use Series.dt.isocalendar().week instead.\n",
            "\n"
          ]
        },
        {
          "data": {
            "image/png": "[encoded data removed]",
            "text/plain": "<Figure size 1152x648 with 1 Axes>"
          },
          "metadata": {
            "image/png": {
              "height": 549,
              "width": 944
            },
            "needs_background": "light"
          },
          "output_type": "display_data"
        }
      ],
      "source": [
        "# Gráfico de Líneas: Total de Vacunas Aplicadas a la Semana por País\n",
        "vaccination_df_latam_copy['week'] = vaccination_df_latam_copy['date'].dt.week\n",
        "\n",
        "weekly_vaccinations_fig, ax_8 = plt.subplots(figsize=[16,9])\n",
        "sns.lineplot(data = vaccination_df_latam_copy, x = 'week', y = 'total_vaccinations', hue ='country')\n",
        "ax_8.set_title('Total de Vacunas Aplicadas a la Semana por País')\n",
        "ax_8.set_xlabel('Tiempo (semanas)')\n",
        "ax_8.set_ylabel('Número de Vacunas Aplicadas')\n",
        "ax_8.grid(True, which='both')\n",
        "plt.savefig(fname = 'weekly_vaccinations_fig.png',\n",
        "            dpi=458,\n",
        "            facecolor='w',\n",
        "            edgecolor='w',\n",
        "            orientation='landscape', \n",
        "            format='png', \n",
        "            transparent=False\n",
        "            )"
      ]
    },
    {
      "cell_type": "markdown",
      "metadata": {
        "id": "YtYHTEzobnmp"
      },
      "source": [
        "### 3.7 Total de Vacunas Diarias Aplicadas por País\n",
        "\n",
        "La gráfica que se presenta a continuación muestra el porcentaje de población vacunada que ha completado el esquema de inmunización en cada país del DataFrame *vaccination_df_latam*."
      ]
    },
    {
      "cell_type": "code",
      "execution_count": 25,
      "metadata": {
        "colab": {
          "base_uri": "https://localhost:8080/",
          "height": 566
        },
        "id": "Mma6xObpbnmq",
        "outputId": "8fa9c465-95d8-4300-fcda-3a4d7dbb6d54"
      },
      "outputs": [
        {
          "data": {
            "image/png": "[encoded data removed]",
            "text/plain": "<Figure size 1152x648 with 1 Axes>"
          },
          "metadata": {
            "image/png": {
              "height": 549,
              "width": 966
            },
            "needs_background": "light"
          },
          "output_type": "display_data"
        }
      ],
      "source": [
        "# Gráfico de Líneas: Total de Vacunas Diarias Aplicadas por País\n",
        "\n",
        "daily_vaccinations_fig, ax_9 = plt.subplots(figsize=[16,9])\n",
        "sns.lineplot(data = vaccination_df_latam_copy, x = 'date', y = 'daily_vaccinations', hue ='country')\n",
        "ax_9.set_title('Total de Vacunas Aplicadas al Día por País')\n",
        "ax_9.set_xlabel('Tiempo (días)')\n",
        "ax_9.set_ylabel('Número de Vacunas Aplicadas')\n",
        "ax_9.grid(True, which='both')\n",
        "plt.savefig(fname = 'daily_vaccinations_fig.png',\n",
        "            dpi=458, \n",
        "            facecolor='w', \n",
        "            edgecolor='w', \n",
        "            orientation='landscape', \n",
        "            format='png', \n",
        "            transparent=False\n",
        "            )"
      ]
    },
    {
      "cell_type": "markdown",
      "metadata": {
        "id": "TXNvqNOB4e3S"
      },
      "source": [
        "## **4. Conclusiones**\n",
        "---\n",
        "\n",
        "- A través de una serie de visualizaciones simples y de análisis de estadística descriptiva, pudimos comparar a Colombia con el resto de Latinoamérica en cuanto a su progreso en las vacunas contra COVID-19. En resumen, podemos decir que Colombia está bastante por detrás de otros países de la región como Chile. Esta afirmación se basa en los siguientes hechos:\n",
        "\n",
        "    - Fue el décimo país de Latinoamérica en iniciar el proceso de vacunación.\n",
        "    - En Colombia, alrededor de 1.4 millones de personas (2.4% de la población) han recibido la primera dosis de la vacuna. En comparación, Chile ha vacunado a 4.78 millones (33.66%), mientras que Brasil, uno de los países que más ha sufrido la pandemia, ha vacunado a 8,76 millones (1.91%).\n",
        "    - Únicamente ha logrado una alta tasa de vacunaciones diarias por encima de cien mil en dos ocasiones, mientras que los dos países nombrados anteriormente constantemente están por encima de esta cifra. \n",
        "\n",
        "- Es importante considerar el hecho de que no todos los países comenzaron a vacunar al mismo tiempo. Por ejemplo, Chile comenzó su proceso de vacunación un mes antes que Colombia. Para ello, se muestra la gráfica de las Secciónes [3.6](3.6) y [3.7](3.7), con el objetivo de visualizar cómo ha ido evolucionado el proceso de vacunación desde el principio. Sin embargo, en lugar de usar fechas (D/M/A), usaremos los días y las semanas desde la primera vacunación como variable independiente. De esta forma, todos los países se ubicarán en el mismo punto de partida.\n",
        "\n",
        "- Hay algunos indicios de que tener una población más pequeña puede ayudar a un país al acelerar las vacunaciones diarias y, por lo tanto, el porcentaje de personas vacunadas (como Costa Rica).\n"
      ]
    },
    {
      "cell_type": "markdown",
      "metadata": {},
      "source": [
        "## **5. Video de Presentación**\n",
        "---\n",
        "\n",
        "A continuación se muestra el video de presentación correspondiente del proyecto."
      ]
    },
    {
      "cell_type": "code",
      "execution_count": null,
      "metadata": {
        "id": "1UNqbd5Kbnmr"
      },
      "outputs": [
        {
          "data": {
            "image/jpeg": "[encoded data removed]",
            "text/html": "\n        <iframe\n            width=\"1280\"\n            height=\"720\"\n            src=\"https://www.youtube.com/embed/YmEIjN_3GXA\"\n            frameborder=\"0\"\n            allowfullscreen\n        ></iframe>\n        ",
            "text/plain": [
              "<IPython.lib.display.YouTubeVideo at 0x12fec4610>"
            ]
          },
          "execution_count": 26,
          "metadata": {},
          "output_type": "execute_result"
        }
      ],
      "source": [
        "# Play YouTube Video\n",
        "YouTubeVideo(id='YmEIjN_3GXA',width=1280,height=720)"
      ]
    },
    {
      "cell_type": "code",
      "execution_count": null,
      "metadata": {},
      "outputs": [],
      "source": []
    }
  ],
  "metadata": {
    "colab": {
      "collapsed_sections": [],
      "name": "Copia de covid19_vaccination_colombia.ipynb",
      "provenance": [],
      "toc_visible": true
    },
    "interpreter": {
      "hash": "a5c211bb6517d1707717133dd53f8f960c78eef83580152631ddfa651c45ffb3"
    },
    "kernelspec": {
      "display_name": "Python 3.9.1 64-bit ('3.9.1')",
      "name": "python3"
    },
    "language_info": {
      "name": "python",
      "version": ""
    },
    "orig_nbformat": 2
  },
  "nbformat": 4,
  "nbformat_minor": 0
}